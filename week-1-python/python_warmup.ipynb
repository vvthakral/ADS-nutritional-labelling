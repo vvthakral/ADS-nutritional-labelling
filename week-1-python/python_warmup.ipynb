{
  "nbformat": 4,
  "nbformat_minor": 0,
  "metadata": {
    "colab": {
      "name": "week_1_python_warmup.ipynb",
      "provenance": [],
      "collapsed_sections": [
        "8sxeahrt_z58"
      ],
      "include_colab_link": true
    },
    "kernelspec": {
      "name": "python3",
      "display_name": "Python 3"
    }
  },
  "cells": [
    {
      "cell_type": "markdown",
      "metadata": {
        "id": "view-in-github",
        "colab_type": "text"
      },
      "source": [
        "<a href=\"https://colab.research.google.com/github/vvthakral/ADS-nutritional-labelling/blob/main/week-1-python/python_warmup.ipynb\" target=\"_parent\"><img src=\"https://colab.research.google.com/assets/colab-badge.svg\" alt=\"Open In Colab\"/></a>"
      ]
    },
    {
      "cell_type": "markdown",
      "metadata": {
        "id": "X7O5VPfLTR2e"
      },
      "source": [
        "<h1> Basic Intro to Python </h1>"
      ]
    },
    {
      "cell_type": "code",
      "metadata": {
        "id": "1E_cjapbnUay",
        "colab": {
          "base_uri": "https://localhost:8080/"
        },
        "outputId": "4a2a98c3-4f9e-4033-dbe6-f712ddec735b"
      },
      "source": [
        "print(\"Hello World\")"
      ],
      "execution_count": null,
      "outputs": [
        {
          "output_type": "stream",
          "text": [
            "Hello World\n"
          ],
          "name": "stdout"
        }
      ]
    },
    {
      "cell_type": "markdown",
      "metadata": {
        "id": "TH6yO9y9n1qf"
      },
      "source": [
        "\n",
        "<h3> Zen of Python </h3>\n",
        "\n",
        "The best Python practices suggested by Tim Peters.\n",
        "\n",
        "It's always good to abide by the zen even when you have an opportunity to show off your pythonic skills :)"
      ]
    },
    {
      "cell_type": "code",
      "metadata": {
        "id": "9n5xWzQAFohg",
        "colab": {
          "base_uri": "https://localhost:8080/"
        },
        "outputId": "bfe68cc6-a488-47e4-ea19-b10fc1f8b21e"
      },
      "source": [
        "import this"
      ],
      "execution_count": null,
      "outputs": [
        {
          "output_type": "stream",
          "text": [
            "The Zen of Python, by Tim Peters\n",
            "\n",
            "Beautiful is better than ugly.\n",
            "Explicit is better than implicit.\n",
            "Simple is better than complex.\n",
            "Complex is better than complicated.\n",
            "Flat is better than nested.\n",
            "Sparse is better than dense.\n",
            "Readability counts.\n",
            "Special cases aren't special enough to break the rules.\n",
            "Although practicality beats purity.\n",
            "Errors should never pass silently.\n",
            "Unless explicitly silenced.\n",
            "In the face of ambiguity, refuse the temptation to guess.\n",
            "There should be one-- and preferably only one --obvious way to do it.\n",
            "Although that way may not be obvious at first unless you're Dutch.\n",
            "Now is better than never.\n",
            "Although never is often better than *right* now.\n",
            "If the implementation is hard to explain, it's a bad idea.\n",
            "If the implementation is easy to explain, it may be a good idea.\n",
            "Namespaces are one honking great idea -- let's do more of those!\n"
          ],
          "name": "stdout"
        }
      ]
    },
    {
      "cell_type": "markdown",
      "metadata": {
        "id": "fmK-Z77DoRg0"
      },
      "source": [
        "<h3>Help</h3>\n",
        "One of the most useful functions."
      ]
    },
    {
      "cell_type": "code",
      "metadata": {
        "id": "bDalR_ffoVgX",
        "colab": {
          "base_uri": "https://localhost:8080/"
        },
        "outputId": "2f54e44c-de5f-451e-fccd-f5d153a4ed3d"
      },
      "source": [
        "#To know more about each method functionality use of help is indeed a help\n",
        "help(print)"
      ],
      "execution_count": null,
      "outputs": [
        {
          "output_type": "stream",
          "text": [
            "Help on built-in function print in module builtins:\n",
            "\n",
            "print(...)\n",
            "    print(value, ..., sep=' ', end='\\n', file=sys.stdout, flush=False)\n",
            "    \n",
            "    Prints the values to a stream, or to sys.stdout by default.\n",
            "    Optional keyword arguments:\n",
            "    file:  a file-like object (stream); defaults to the current sys.stdout.\n",
            "    sep:   string inserted between values, default a space.\n",
            "    end:   string appended after the last value, default a newline.\n",
            "    flush: whether to forcibly flush the stream.\n",
            "\n"
          ],
          "name": "stdout"
        }
      ]
    },
    {
      "cell_type": "markdown",
      "metadata": {
        "id": "3-WaGSdhoay5"
      },
      "source": [
        "<h1>Accessing Attributes/Methods of any object</h1>\n"
      ]
    },
    {
      "cell_type": "code",
      "metadata": {
        "id": "RujZsyZFokZy",
        "colab": {
          "base_uri": "https://localhost:8080/"
        },
        "outputId": "d5a936a1-e826-4eff-8302-0324a280bfef"
      },
      "source": [
        "#To know methods inside a module kindly make use of 'dir'\n",
        "import math \n",
        "dir(math)"
      ],
      "execution_count": null,
      "outputs": [
        {
          "output_type": "execute_result",
          "data": {
            "text/plain": [
              "['__doc__',\n",
              " '__loader__',\n",
              " '__name__',\n",
              " '__package__',\n",
              " '__spec__',\n",
              " 'acos',\n",
              " 'acosh',\n",
              " 'asin',\n",
              " 'asinh',\n",
              " 'atan',\n",
              " 'atan2',\n",
              " 'atanh',\n",
              " 'ceil',\n",
              " 'copysign',\n",
              " 'cos',\n",
              " 'cosh',\n",
              " 'degrees',\n",
              " 'e',\n",
              " 'erf',\n",
              " 'erfc',\n",
              " 'exp',\n",
              " 'expm1',\n",
              " 'fabs',\n",
              " 'factorial',\n",
              " 'floor',\n",
              " 'fmod',\n",
              " 'frexp',\n",
              " 'fsum',\n",
              " 'gamma',\n",
              " 'gcd',\n",
              " 'hypot',\n",
              " 'inf',\n",
              " 'isclose',\n",
              " 'isfinite',\n",
              " 'isinf',\n",
              " 'isnan',\n",
              " 'ldexp',\n",
              " 'lgamma',\n",
              " 'log',\n",
              " 'log10',\n",
              " 'log1p',\n",
              " 'log2',\n",
              " 'modf',\n",
              " 'nan',\n",
              " 'pi',\n",
              " 'pow',\n",
              " 'radians',\n",
              " 'remainder',\n",
              " 'sin',\n",
              " 'sinh',\n",
              " 'sqrt',\n",
              " 'tan',\n",
              " 'tanh',\n",
              " 'tau',\n",
              " 'trunc']"
            ]
          },
          "metadata": {
            "tags": []
          },
          "execution_count": 4
        }
      ]
    },
    {
      "cell_type": "markdown",
      "metadata": {
        "id": "Iw6ZgW1-onz3"
      },
      "source": [
        "<h3>Data types in Python</h3>\n"
      ]
    },
    {
      "cell_type": "markdown",
      "metadata": {
        "id": "STgmGjegpRmN"
      },
      "source": [
        "<p>The basic datatypes: <br>\n",
        "str<br> \n",
        "int<br>\n",
        "float<br>\n",
        "list<br>\n",
        "set<br>\n",
        "dict<br>\n",
        "<strong>Note: It is advised not to use them for naming a variable.</strong>\n",
        "</p>"
      ]
    },
    {
      "cell_type": "code",
      "metadata": {
        "id": "QP5cA6ujpUJ9",
        "colab": {
          "base_uri": "https://localhost:8080/"
        },
        "outputId": "c22b0b88-1b48-45fa-9d25-73e7a6abb1d8"
      },
      "source": [
        "#string\n",
        "name = 'Vishnu' + ' Thakral' #We can directly add strings in this manner\n",
        "print(name,type(name)) #type prints the type of the object it is called on."
      ],
      "execution_count": null,
      "outputs": [
        {
          "output_type": "stream",
          "text": [
            "Vishnu Thakral <class 'str'>\n"
          ],
          "name": "stdout"
        }
      ]
    },
    {
      "cell_type": "code",
      "metadata": {
        "colab": {
          "base_uri": "https://localhost:8080/"
        },
        "id": "8aQI2QAjxdVc",
        "outputId": "361c93b7-f1eb-4413-c9b2-8b35252a5628"
      },
      "source": [
        "# int\n",
        "sem = 3\n",
        "print(sem,type(sem))"
      ],
      "execution_count": null,
      "outputs": [
        {
          "output_type": "stream",
          "text": [
            "3 <class 'int'>\n"
          ],
          "name": "stdout"
        }
      ]
    },
    {
      "cell_type": "code",
      "metadata": {
        "colab": {
          "base_uri": "https://localhost:8080/"
        },
        "id": "DM7pVwoRxgC6",
        "outputId": "ff44e902-d8c0-4ef6-913b-f682b8d6892f"
      },
      "source": [
        "#float\n",
        "random_number = 5.1212\n",
        "print(random_number,type(random_number))"
      ],
      "execution_count": null,
      "outputs": [
        {
          "output_type": "stream",
          "text": [
            "5.1212 <class 'float'>\n"
          ],
          "name": "stdout"
        }
      ]
    },
    {
      "cell_type": "code",
      "metadata": {
        "colab": {
          "base_uri": "https://localhost:8080/"
        },
        "id": "7e5ylvCaxjoN",
        "outputId": "9be16233-2950-4fad-9764-3c7402a42946"
      },
      "source": [
        "#list\n",
        "s_list = [1,3,5,5]\n",
        "print(s_list,type(s_list))"
      ],
      "execution_count": null,
      "outputs": [
        {
          "output_type": "stream",
          "text": [
            "[1, 3, 5, 5] <class 'list'>\n"
          ],
          "name": "stdout"
        }
      ]
    },
    {
      "cell_type": "code",
      "metadata": {
        "colab": {
          "base_uri": "https://localhost:8080/"
        },
        "id": "An2Lmf0yxnkJ",
        "outputId": "c55abe1e-132e-4e87-b831-907a3244da8f"
      },
      "source": [
        "#tuple\n",
        "list_tuples = [(1,3),(3,4,5),(5,4)]\n",
        "print(list_tuples,type(list_tuples))"
      ],
      "execution_count": null,
      "outputs": [
        {
          "output_type": "stream",
          "text": [
            "[(1, 3), (3, 4, 5), (5, 4)] <class 'list'>\n"
          ],
          "name": "stdout"
        }
      ]
    },
    {
      "cell_type": "code",
      "metadata": {
        "colab": {
          "base_uri": "https://localhost:8080/"
        },
        "id": "KRgOjD_1xqP1",
        "outputId": "fe1767c1-a3d7-46cf-a3bb-c425afd7f5a6"
      },
      "source": [
        "#set\n",
        "sets = set((1,2,3,3))\n",
        "print(sets,type(sets))"
      ],
      "execution_count": null,
      "outputs": [
        {
          "output_type": "stream",
          "text": [
            "{1, 2, 3} <class 'set'>\n"
          ],
          "name": "stdout"
        }
      ]
    },
    {
      "cell_type": "code",
      "metadata": {
        "colab": {
          "base_uri": "https://localhost:8080/"
        },
        "id": "xmCkNJrpxr90",
        "outputId": "7666c35e-32b8-4ce9-91a4-58dd50634582"
      },
      "source": [
        "#dictionary\n",
        "ppl = {'Mr.X':'Inventor','Profession':'Research','Location':'Earth'}\n",
        "print(ppl,type(ppl))"
      ],
      "execution_count": null,
      "outputs": [
        {
          "output_type": "stream",
          "text": [
            "{'Mr.X': 'Inventor', 'Profession': 'Research', 'Location': 'Earth'} <class 'dict'>\n"
          ],
          "name": "stdout"
        }
      ]
    },
    {
      "cell_type": "code",
      "metadata": {
        "colab": {
          "base_uri": "https://localhost:8080/"
        },
        "id": "FduapPEyxvC9",
        "outputId": "e94861d9-6af6-49b0-d98f-9d5f1a8798e9"
      },
      "source": [
        "#boolean\n",
        "boolean = True\n",
        "print('Boolean',boolean)\n",
        "print('bool from other data type',bool(random_number))\n",
        "\n",
        "#None type\n",
        "none_type = None"
      ],
      "execution_count": null,
      "outputs": [
        {
          "output_type": "stream",
          "text": [
            "Boolean True\n",
            "bool from other data type True\n"
          ],
          "name": "stdout"
        }
      ]
    },
    {
      "cell_type": "markdown",
      "metadata": {
        "id": "oPjOPSxYpxTP"
      },
      "source": [
        "<h3>Commonly Used Operators and Assignment in Python</h3>"
      ]
    },
    {
      "cell_type": "code",
      "metadata": {
        "id": "iAHAJR7Qp6V_",
        "colab": {
          "base_uri": "https://localhost:8080/"
        },
        "outputId": "0cd41ff4-7934-4ffc-e098-66f2ea9e8b63"
      },
      "source": [
        "a = 10\n",
        "b = 10\n",
        "\n",
        "print('Add', a+b)  #Add\n",
        "print('Subtract', a-b)  # Subtract\n",
        "print('Divide', a/b)  #Divide  with return answer as floating point\n",
        "print('Multiply', a*b)  #Mul\n",
        "print('Floor Division',a//b) #Divide with integer return type\n",
        "print('Mod', a%b)  #Mod\n",
        "print('Power', a**b) #Pow (^ is not used for this)"
      ],
      "execution_count": null,
      "outputs": [
        {
          "output_type": "stream",
          "text": [
            "Add 20\n",
            "Subtract 0\n",
            "Divide 1.0\n",
            "Multiply 100\n",
            "Floor Division 1\n",
            "Mod 0\n",
            "Power 10000000000\n"
          ],
          "name": "stdout"
        }
      ]
    },
    {
      "cell_type": "markdown",
      "metadata": {
        "id": "ZSbr3vGLyibp"
      },
      "source": [
        "<h5> Question.\n",
        "\n",
        "What is the value of a after the below operations?\n",
        "</h5>"
      ]
    },
    {
      "cell_type": "code",
      "metadata": {
        "id": "PCPkgMAmqQn8"
      },
      "source": [
        "a = 10\n",
        "b = 10\n",
        "a += a\n",
        "a -= b\n",
        "a *= b\n",
        "a /= b"
      ],
      "execution_count": null,
      "outputs": []
    },
    {
      "cell_type": "markdown",
      "metadata": {
        "id": "C6usEFH5Cb5g"
      },
      "source": [
        "<h3> Assignment Tricks"
      ]
    },
    {
      "cell_type": "code",
      "metadata": {
        "id": "UXR4Si5GqIt0",
        "colab": {
          "base_uri": "https://localhost:8080/"
        },
        "outputId": "4c384781-b689-4ec0-ad83-66dbe55c5b20"
      },
      "source": [
        "a=b=10\n",
        "print('a and b before swap are: ', a, b)\n",
        "print('a is: ',type(a))\n",
        "a,b = b,a\n",
        "\n",
        "print('a and b after swap are: ', a, b)\n",
        "print('a is: ',type(a))\n",
        "print('Pretty Cool Right!! \\n')"
      ],
      "execution_count": null,
      "outputs": [
        {
          "output_type": "stream",
          "text": [
            "a and b before swap are:  10 10\n",
            "a is:  <class 'int'>\n",
            "a and b after swap are:  10 10\n",
            "a is:  <class 'int'>\n",
            "Pretty Cool Right!! \n",
            "\n"
          ],
          "name": "stdout"
        }
      ]
    },
    {
      "cell_type": "code",
      "metadata": {
        "colab": {
          "base_uri": "https://localhost:8080/"
        },
        "id": "9ceIF9_TzYNn",
        "outputId": "ea683205-3566-4cca-959c-fd2e707c8e69"
      },
      "source": [
        "#a,b = 0,0\n",
        "a = b = 0\n",
        "print('After assignment: ', a, b)"
      ],
      "execution_count": null,
      "outputs": [
        {
          "output_type": "stream",
          "text": [
            "After assignment:  0 0\n"
          ],
          "name": "stdout"
        }
      ]
    },
    {
      "cell_type": "code",
      "metadata": {
        "id": "Y6Se7VnuC0vF",
        "colab": {
          "base_uri": "https://localhost:8080/"
        },
        "outputId": "a3f056a2-b24f-4481-9e52-2d76dd61ff94"
      },
      "source": [
        "a , *b= 50 , 60 , 70\n",
        "print(a,type(a))\n",
        "print(b,type(b))"
      ],
      "execution_count": null,
      "outputs": [
        {
          "output_type": "stream",
          "text": [
            "50 <class 'int'>\n",
            "[60, 70] <class 'list'>\n"
          ],
          "name": "stdout"
        }
      ]
    },
    {
      "cell_type": "markdown",
      "metadata": {
        "id": "SrLNGnyNC2xX"
      },
      "source": [
        "<h5>Question\n",
        "\n",
        "what will the assignment be?\n",
        "</h5>\n",
        "\n"
      ]
    },
    {
      "cell_type": "code",
      "metadata": {
        "id": "edClQF3Nsomm"
      },
      "source": [
        "a, *b, c = 50 , 60 , 70, 80\n",
        "print(a,b,c)"
      ],
      "execution_count": null,
      "outputs": []
    },
    {
      "cell_type": "markdown",
      "metadata": {
        "id": "OXRmEoeQqYeX"
      },
      "source": [
        "<h3> Typecasting </h3>"
      ]
    },
    {
      "cell_type": "code",
      "metadata": {
        "colab": {
          "base_uri": "https://localhost:8080/"
        },
        "id": "SxS6E8XR9LgH",
        "outputId": "f78c19f3-aa41-4e20-81fb-d22d493993f6"
      },
      "source": [
        "# string (str) to int\n",
        "\n",
        "string = '10'\n",
        "print('int typecasted is: ', int(string))"
      ],
      "execution_count": null,
      "outputs": [
        {
          "output_type": "stream",
          "text": [
            "int typecasted is:  10\n"
          ],
          "name": "stdout"
        }
      ]
    },
    {
      "cell_type": "code",
      "metadata": {
        "colab": {
          "base_uri": "https://localhost:8080/"
        },
        "id": "G2dGa1z99Q7X",
        "outputId": "abee8890-bd41-4441-8b54-c7ded8d20ec5"
      },
      "source": [
        "#string to float\n",
        "print('Float typecasted is: ',float(string))"
      ],
      "execution_count": null,
      "outputs": [
        {
          "output_type": "stream",
          "text": [
            "Float typecasted is:  10.0\n"
          ],
          "name": "stdout"
        }
      ]
    },
    {
      "cell_type": "code",
      "metadata": {
        "colab": {
          "base_uri": "https://localhost:8080/"
        },
        "id": "8_5E6VGB9T_c",
        "outputId": "6a96113b-6a9b-434f-e1f8-166480976c61"
      },
      "source": [
        "#string to list\n",
        "lists = list(string)\n",
        "print('Typecasted to list: ', lists)"
      ],
      "execution_count": null,
      "outputs": [
        {
          "output_type": "stream",
          "text": [
            "Typecasted to list:  ['1', '0']\n"
          ],
          "name": "stdout"
        }
      ]
    },
    {
      "cell_type": "code",
      "metadata": {
        "colab": {
          "base_uri": "https://localhost:8080/"
        },
        "id": "w-5yg3e69W0K",
        "outputId": "fda04909-3d27-4e92-a9d9-90c7f4c79c5b"
      },
      "source": [
        "#int to string\n",
        "string = str(1) + '0'\n",
        "print('Int to string', string)"
      ],
      "execution_count": null,
      "outputs": [
        {
          "output_type": "stream",
          "text": [
            "Int to string 10\n"
          ],
          "name": "stdout"
        }
      ]
    },
    {
      "cell_type": "code",
      "metadata": {
        "colab": {
          "base_uri": "https://localhost:8080/"
        },
        "id": "jDO3-KSt9N0p",
        "outputId": "25afd105-8cfa-4c41-e631-d0bea5d279a9"
      },
      "source": [
        "#set to list\n",
        "s = set((1,2,3,3,4,5))\n",
        "list_s = list(s)\n",
        "print(list_s)"
      ],
      "execution_count": null,
      "outputs": [
        {
          "output_type": "stream",
          "text": [
            "[1, 2, 3, 4, 5]\n"
          ],
          "name": "stdout"
        }
      ]
    },
    {
      "cell_type": "code",
      "metadata": {
        "colab": {
          "base_uri": "https://localhost:8080/"
        },
        "id": "5F5f7Fhd9ZUo",
        "outputId": "0a09a2ff-ade8-4cb9-d72e-3d38175ba611"
      },
      "source": [
        "#tuple to list\n",
        "tuples = ((1,2),(1,'vishnu'),(4,'Brooklyn'))\n",
        "list_tup = list(tuples)\n",
        "print(list_tup)"
      ],
      "execution_count": null,
      "outputs": [
        {
          "output_type": "stream",
          "text": [
            "[(1, 2), (1, 'vishnu'), (4, 'Brooklyn')]\n"
          ],
          "name": "stdout"
        }
      ]
    },
    {
      "cell_type": "code",
      "metadata": {
        "id": "jLtKkTJjt3sy",
        "colab": {
          "base_uri": "https://localhost:8080/"
        },
        "outputId": "8461d237-f078-4667-c220-bef40bad82db"
      },
      "source": [
        "#string to list\n",
        "some_str =  ' hi hello bye !'\n",
        "print(some_str.split())"
      ],
      "execution_count": null,
      "outputs": [
        {
          "output_type": "stream",
          "text": [
            "['hi', 'hello', 'bye', '!']\n"
          ],
          "name": "stdout"
        }
      ]
    },
    {
      "cell_type": "code",
      "metadata": {
        "id": "bSqTs7f7qrA9",
        "colab": {
          "base_uri": "https://localhost:8080/"
        },
        "outputId": "5dfdf4ca-e10f-4510-ae7f-1cb4c2ba7450"
      },
      "source": [
        "#list to string\n",
        "\n",
        "greet = ['Hello','World','!']\n",
        "print('List to string: ', ' '.join(greet))"
      ],
      "execution_count": null,
      "outputs": [
        {
          "output_type": "stream",
          "text": [
            "List to string:  Hello World !\n"
          ],
          "name": "stdout"
        }
      ]
    },
    {
      "cell_type": "code",
      "metadata": {
        "id": "Ehhmb_8dqtEa",
        "colab": {
          "base_uri": "https://localhost:8080/"
        },
        "outputId": "18c8ff19-e1d6-466a-fee1-1de48f383efb"
      },
      "source": [
        "#ascii value of alpha numeric characters\n",
        "print(chr(97))\n",
        "print()\n",
        "\n",
        "#string to ascii\n",
        "print(ord('a'))"
      ],
      "execution_count": null,
      "outputs": [
        {
          "output_type": "stream",
          "text": [
            "a\n",
            "\n",
            "97\n"
          ],
          "name": "stdout"
        }
      ]
    },
    {
      "cell_type": "markdown",
      "metadata": {
        "id": "Jar1jgqn-MlM"
      },
      "source": [
        "<h3>Use of inbuilt methods, random, math and datetime</h3>"
      ]
    },
    {
      "cell_type": "code",
      "metadata": {
        "id": "z9OmNDfvqtcZ",
        "colab": {
          "base_uri": "https://localhost:8080/"
        },
        "outputId": "cac54bb1-b5a5-46f8-dfb8-d1a55d2d5ef1"
      },
      "source": [
        "import random\n",
        "\n",
        "#start and end paramaters\n",
        "print('Generating random range from start and end range inclusive ',end='')\n",
        "print(random.randint(5,10))\n",
        "\n",
        "print()\n",
        "print('\\nExploring built in methods of Math library')\n",
        "import math\n",
        "print('Inbuilt constant pi',math.pi)\n",
        "print('Sqrt of 25 ',math.sqrt(25))\n",
        "print('Floor value',math.floor(5.3))\n",
        "\n",
        "print('\\nWorking with Datetime')\n",
        "import datetime\n",
        "date = datetime.datetime.now()\n",
        "print(date)\n",
        "print(type(date))"
      ],
      "execution_count": null,
      "outputs": [
        {
          "output_type": "stream",
          "text": [
            "Generating random range from start and end range inclusive 10\n",
            "\n",
            "\n",
            "Exploring built in methods of Math library\n",
            "Inbuilt constant pi 3.141592653589793\n",
            "Sqrt of 25  5.0\n",
            "Floor value 5\n",
            "\n",
            "Working with Datetime\n",
            "2021-02-24 17:37:22.836587\n",
            "<class 'datetime.datetime'>\n"
          ],
          "name": "stdout"
        }
      ]
    },
    {
      "cell_type": "markdown",
      "metadata": {
        "id": "SNWnkdgp-XI-"
      },
      "source": [
        "<h3>Lists (in depth)</h3>"
      ]
    },
    {
      "cell_type": "code",
      "metadata": {
        "id": "cQEgs07Xs1nw",
        "colab": {
          "base_uri": "https://localhost:8080/"
        },
        "outputId": "176d7c63-e353-40bd-b042-2bb38b5d4a89"
      },
      "source": [
        "#list Operator\n",
        "#Ways to initialize\n",
        "list_1 = list()\n",
        "print()\n",
        "\n",
        "#check the type of the variable\n",
        "print('list_1 ',type(list_1))\n",
        "print()\n",
        "\n",
        "list_num = [1,2,3,5]\n",
        "print('list_num ',list_num)\n",
        "print()\n",
        "\n",
        "list_object = ['1','2',777,'%','delhi','^']\n",
        "print('list_object ',list_object)\n",
        "print()\n",
        "\n",
        "#operations automatically computed when given inside list\n",
        "list_operator = [1*2,'art'+'ist',10//2]\n",
        "print('list_operatior ',list_operator)"
      ],
      "execution_count": null,
      "outputs": [
        {
          "output_type": "stream",
          "text": [
            "\n",
            "list_1  <class 'list'>\n",
            "\n",
            "list_num  [1, 2, 3, 5]\n",
            "\n",
            "list_object  ['1', '2', 777, '%', 'delhi', '^']\n",
            "\n",
            "list_operatior  [2, 'artist', 5]\n"
          ],
          "name": "stdout"
        }
      ]
    },
    {
      "cell_type": "markdown",
      "metadata": {
        "id": "IICwWxh4s8K-"
      },
      "source": [
        "<h3>Access values from list</h3>\n",
        "Python allows negative indexing "
      ]
    },
    {
      "cell_type": "code",
      "metadata": {
        "id": "el3JcIeKtFff",
        "colab": {
          "base_uri": "https://localhost:8080/"
        },
        "outputId": "0fdc0c7e-1310-4084-cc49-960dd00089f8"
      },
      "source": [
        "print(list_object)\n",
        "\n",
        "#Individual access\n",
        "print('First element ',list_object[0])"
      ],
      "execution_count": null,
      "outputs": [
        {
          "output_type": "stream",
          "text": [
            "['1', '2', 777, '%', 'delhi', '^']\n",
            "First element  1\n"
          ],
          "name": "stdout"
        }
      ]
    },
    {
      "cell_type": "code",
      "metadata": {
        "id": "Sg-1Jpkhvo7l",
        "colab": {
          "base_uri": "https://localhost:8080/"
        },
        "outputId": "934d8236-def6-4a5d-9668-6db68cf8f0fe"
      },
      "source": [
        "#From start to end\n",
        "print(list_object[:])\n",
        "print()"
      ],
      "execution_count": null,
      "outputs": [
        {
          "output_type": "stream",
          "text": [
            "['1', '2', 777, '%', 'delhi', '^']\n",
            "\n"
          ],
          "name": "stdout"
        }
      ]
    },
    {
      "cell_type": "code",
      "metadata": {
        "id": "dYnjo1iPvq-r",
        "colab": {
          "base_uri": "https://localhost:8080/"
        },
        "outputId": "af74e952-eaa2-4e28-c7d4-5903f94678d7"
      },
      "source": [
        "#Skipping in between\n",
        "#[start:stop:step]\n",
        "print(list_object[0:6:3])"
      ],
      "execution_count": null,
      "outputs": [
        {
          "output_type": "stream",
          "text": [
            "['1', '%']\n"
          ],
          "name": "stdout"
        }
      ]
    },
    {
      "cell_type": "code",
      "metadata": {
        "id": "QkPVczI8vxyM",
        "colab": {
          "base_uri": "https://localhost:8080/"
        },
        "outputId": "1987df87-70a6-4d0e-ebaf-66e0272830a3"
      },
      "source": [
        "#Negative ranges\n",
        "print(list_object[-4:-1])"
      ],
      "execution_count": null,
      "outputs": [
        {
          "output_type": "stream",
          "text": [
            "[777, '%', 'delhi']\n"
          ],
          "name": "stdout"
        }
      ]
    },
    {
      "cell_type": "markdown",
      "metadata": {
        "id": "C_NPeacIv4Mu"
      },
      "source": [
        "<h5>Question. \n",
        "\n",
        "Print last 2 elements with negative indexing\n",
        "</h5>\n"
      ]
    },
    {
      "cell_type": "code",
      "metadata": {
        "id": "CqJ8lu9nv26_"
      },
      "source": [
        "#Negative indices answer:"
      ],
      "execution_count": null,
      "outputs": []
    },
    {
      "cell_type": "markdown",
      "metadata": {
        "id": "6_1ejrDHDUnq"
      },
      "source": [
        "#Trick Again!\n",
        "<h5> Q. What does the below code give as output?</h5>"
      ]
    },
    {
      "cell_type": "code",
      "metadata": {
        "id": "-q9Jq_5lDXEz"
      },
      "source": [
        "my_string = \"Hi All!\"\n",
        "print(my_string[::-1])"
      ],
      "execution_count": null,
      "outputs": []
    },
    {
      "cell_type": "markdown",
      "metadata": {
        "id": "K9K_t0sUAeZA"
      },
      "source": [
        "<h5>Q.What will this code do?</h5>\n",
        "Hint: It is a string multiplied by a number (be careful with data types)"
      ]
    },
    {
      "cell_type": "code",
      "metadata": {
        "id": "JonzeS0NEFuf"
      },
      "source": [
        "my_string = \"Python \"\n",
        "print(my_string*5)"
      ],
      "execution_count": null,
      "outputs": []
    },
    {
      "cell_type": "markdown",
      "metadata": {
        "id": "OAGTprdDtNMB"
      },
      "source": [
        "<h4>Modify List</h4>"
      ]
    },
    {
      "cell_type": "code",
      "metadata": {
        "id": "7wGzPwHAtTSl",
        "colab": {
          "base_uri": "https://localhost:8080/"
        },
        "outputId": "ae0f844b-c8e1-4e19-aafb-e6655f62eb04"
      },
      "source": [
        "#Make Changes in the list\n",
        "list_object.extend([0,1.2])\n",
        "print(list_object)\n",
        "print()\n",
        "\n",
        "#Make Range of values changes\n",
        "subset_items = [1,52,798,8]\n",
        "list_object[0:4] = subset_items\n",
        "print(list_object)"
      ],
      "execution_count": null,
      "outputs": [
        {
          "output_type": "stream",
          "text": [
            "['1', '2', 777, '%', 'delhi', '^', 0, 1.2]\n",
            "\n",
            "[1, 52, 798, 8, 'delhi', '^', 0, 1.2]\n"
          ],
          "name": "stdout"
        }
      ]
    },
    {
      "cell_type": "code",
      "metadata": {
        "id": "v0ctnNV8wC87",
        "colab": {
          "base_uri": "https://localhost:8080/"
        },
        "outputId": "4374966f-ea51-4ef8-d19b-cb39906fc7ad"
      },
      "source": [
        "#Skipping changes\n",
        "subset = ['2','45555','12']\n",
        "list_object[0:5:2] = subset\n",
        "print(list_object)"
      ],
      "execution_count": null,
      "outputs": [
        {
          "output_type": "stream",
          "text": [
            "['2', 52, '45555', 8, '12', '^', 0, 1.2]\n"
          ],
          "name": "stdout"
        }
      ]
    },
    {
      "cell_type": "markdown",
      "metadata": {
        "id": "n-NNzLrJtT7e"
      },
      "source": [
        "<h4>Delete Values</h4>"
      ]
    },
    {
      "cell_type": "code",
      "metadata": {
        "id": "JnLFAhBstZxu",
        "colab": {
          "base_uri": "https://localhost:8080/"
        },
        "outputId": "a18f299f-d43e-413c-8133-c0fe4f9b746d"
      },
      "source": [
        "#Delete element\n",
        "list_object = [1,2,12,12,12,3,4,5,7]\n",
        "\n",
        "#Can be used as stack and queue\n",
        "list_object.pop(0) #queue\n",
        "list_object.pop() #stack\n",
        "list_object.pop(3) #index\n",
        "print(list_object)"
      ],
      "execution_count": null,
      "outputs": [
        {
          "output_type": "stream",
          "text": [
            "[2, 12, 12, 3, 4, 5]\n"
          ],
          "name": "stdout"
        }
      ]
    },
    {
      "cell_type": "code",
      "metadata": {
        "colab": {
          "base_uri": "https://localhost:8080/"
        },
        "id": "0z57fxJvBEOg",
        "outputId": "4d6ec5bc-54d5-4d50-b918-75282c6c5bbd"
      },
      "source": [
        "#Raise an error when removing values from present in the list or list is empty\n",
        "#try except\n",
        "try:\n",
        "  list_object.remove(10)\n",
        "except:\n",
        "  print('Element not in list')\n",
        "print(list_object)"
      ],
      "execution_count": null,
      "outputs": [
        {
          "output_type": "stream",
          "text": [
            "Element not in list\n",
            "[2, 12, 12, 3, 4, 5]\n"
          ],
          "name": "stdout"
        }
      ]
    },
    {
      "cell_type": "markdown",
      "metadata": {
        "id": "-jlh6uHJtaYe"
      },
      "source": [
        "<h3>Functionalities and Power of Lists</h3>"
      ]
    },
    {
      "cell_type": "code",
      "metadata": {
        "id": "TtMe827Duh58",
        "colab": {
          "base_uri": "https://localhost:8080/"
        },
        "outputId": "9f1a4066-997a-4aa1-b151-a7691b4a82c3"
      },
      "source": [
        "#Trick again?\n",
        "list_basics = [0]*5\n",
        "print(list_basics)"
      ],
      "execution_count": null,
      "outputs": [
        {
          "output_type": "stream",
          "text": [
            "[0, 0, 0, 0, 0]\n"
          ],
          "name": "stdout"
        }
      ]
    },
    {
      "cell_type": "code",
      "metadata": {
        "id": "tWijxKxDuTgy",
        "colab": {
          "base_uri": "https://localhost:8080/"
        },
        "outputId": "4b9d07c2-d1d5-48de-b890-a55a973f0ca1"
      },
      "source": [
        "#Concatenating two lists:\n",
        "even_num = [0,2,4,6]\n",
        "odd_num = [1,3,5,7]\n",
        "\n",
        "sum_num = even_num + odd_num\n",
        "print('sum_num', sum_num)\n",
        "print()\n",
        "\n",
        "#Alternate way is using extend\n",
        "sum_num = []\n",
        "sum_num.extend(even_num)\n",
        "sum_num.append(odd_num)\n",
        "\n",
        "print('sum_num after extend and append', sum_num)"
      ],
      "execution_count": null,
      "outputs": [
        {
          "output_type": "stream",
          "text": [
            "sum_num [0, 2, 4, 6, 1, 3, 5, 7]\n",
            "\n",
            "sum_num after extend and append [0, 2, 4, 6, [1, 3, 5, 7]]\n"
          ],
          "name": "stdout"
        }
      ]
    },
    {
      "cell_type": "code",
      "metadata": {
        "colab": {
          "base_uri": "https://localhost:8080/"
        },
        "id": "RIHVDrM7BQkf",
        "outputId": "e39ec904-402d-4ad5-bcf3-eaabc172a4c4"
      },
      "source": [
        "#Using inbuilt list methods\n",
        "print(len(sum_num))\n",
        "print(min(even_num))\n",
        "print(max(even_num))\n",
        "print(sum(even_num))"
      ],
      "execution_count": null,
      "outputs": [
        {
          "output_type": "stream",
          "text": [
            "5\n",
            "0\n",
            "6\n",
            "12\n"
          ],
          "name": "stdout"
        }
      ]
    },
    {
      "cell_type": "code",
      "metadata": {
        "id": "nngjPCivbVRH",
        "colab": {
          "base_uri": "https://localhost:8080/"
        },
        "outputId": "7778bd7a-46fb-49f5-db4e-5ce462c8fe2d"
      },
      "source": [
        "#Use functions in the list and unpack the values\n",
        "# * - unpacking operator  \n",
        "new_list = [*range(10,20)]\n",
        "print(new_list)"
      ],
      "execution_count": null,
      "outputs": [
        {
          "output_type": "stream",
          "text": [
            "[10, 11, 12, 13, 14, 15, 16, 17, 18, 19]\n"
          ],
          "name": "stdout"
        }
      ]
    },
    {
      "cell_type": "markdown",
      "metadata": {
        "id": "2r-YUBH7ut68"
      },
      "source": [
        "<h3>2D lists</h3>"
      ]
    },
    {
      "cell_type": "code",
      "metadata": {
        "id": "I0YHYKt4u0xy",
        "colab": {
          "base_uri": "https://localhost:8080/"
        },
        "outputId": "44765e63-51ee-46ca-ad71-f03ac466223a"
      },
      "source": [
        "list_2d = [[13,4,5,6],['a','b','c','d'],[1,2,3,4,5,6,7]]\n",
        "\n",
        "#list at particular index\n",
        "print(list_2d[1])\n",
        "\n",
        "#Access the list after given index\n",
        "print(list_2d[1:])\n",
        "\n",
        "#Alternative\n",
        "print(list_2d[:][1:3])\n",
        "\n",
        "#Individual elements:\n",
        "print(list_2d[0][1])"
      ],
      "execution_count": null,
      "outputs": [
        {
          "output_type": "stream",
          "text": [
            "['a', 'b', 'c', 'd']\n",
            "[['a', 'b', 'c', 'd'], [1, 2, 3, 4, 5, 6, 7]]\n",
            "[['a', 'b', 'c', 'd'], [1, 2, 3, 4, 5, 6, 7]]\n",
            "4\n"
          ],
          "name": "stdout"
        }
      ]
    },
    {
      "cell_type": "markdown",
      "metadata": {
        "id": "9aD4X7aPu2aa"
      },
      "source": [
        "<h3>For loop</h3>"
      ]
    },
    {
      "cell_type": "code",
      "metadata": {
        "id": "PIjwWH7Pu_o6",
        "colab": {
          "base_uri": "https://localhost:8080/"
        },
        "outputId": "6679e2f7-baec-4e07-e01f-48f37993a5e9"
      },
      "source": [
        "#Print in single line\n",
        "for i in range(0,5):\n",
        "  print(i, end = ' ')"
      ],
      "execution_count": null,
      "outputs": [
        {
          "output_type": "stream",
          "text": [
            "0 1 2 3 4 "
          ],
          "name": "stdout"
        }
      ]
    },
    {
      "cell_type": "code",
      "metadata": {
        "colab": {
          "base_uri": "https://localhost:8080/"
        },
        "id": "w0E-uryeDKFK",
        "outputId": "4f78e8fd-e6ba-455d-e668-e9e9fcbf1287"
      },
      "source": [
        "#Step parameter added in range\n",
        "print('Step parameter addition')\n",
        "for i in range(10,2,-2):\n",
        "  print(i,end= ' ')"
      ],
      "execution_count": null,
      "outputs": [
        {
          "output_type": "stream",
          "text": [
            "Step parameter addition\n",
            "10 8 6 4 "
          ],
          "name": "stdout"
        }
      ]
    },
    {
      "cell_type": "code",
      "metadata": {
        "colab": {
          "base_uri": "https://localhost:8080/"
        },
        "id": "iHxgNQz8DLw3",
        "outputId": "994687ff-1dea-4ccb-a461-89902e1b6c20"
      },
      "source": [
        "#Unrolling any iterator for that matter\n",
        "print('\\nPrinting list values')\n",
        "sums = [1,1,3,5]\n",
        "for number in sums:\n",
        "  print(number)"
      ],
      "execution_count": null,
      "outputs": [
        {
          "output_type": "stream",
          "text": [
            "\n",
            "Printing list values\n",
            "1\n",
            "1\n",
            "3\n",
            "5\n"
          ],
          "name": "stdout"
        }
      ]
    },
    {
      "cell_type": "code",
      "metadata": {
        "id": "mUJY8sQ6vQLQ",
        "colab": {
          "base_uri": "https://localhost:8080/"
        },
        "outputId": "c80b0924-9cb6-4989-e39c-fbb75bcd211b"
      },
      "source": [
        "#One liner for loop\n",
        "print('\\nOne Linear For Loop')\n",
        "sum_upto_10 = [i for i in range(11)]\n",
        "print(sum_upto_10)"
      ],
      "execution_count": null,
      "outputs": [
        {
          "output_type": "stream",
          "text": [
            "\n",
            "One Linear For Loop\n",
            "[0, 1, 2, 3, 4, 5, 6, 7, 8, 9, 10]\n"
          ],
          "name": "stdout"
        }
      ]
    },
    {
      "cell_type": "code",
      "metadata": {
        "colab": {
          "base_uri": "https://localhost:8080/"
        },
        "id": "ej14r9-ODTv9",
        "outputId": "ec195650-32ee-4e13-9143-b8f404cba23b"
      },
      "source": [
        "#One Linear Nested for loop\n",
        "print('\\nOne Linear Nested for loop Matrix Multiplication\\n')\n",
        "matrix_mul = [j*i for i in range(5) for j in range(5,10)]\n",
        "print('Matrix Looks like:',matrix_mul)\n",
        "#Does this obey zen?"
      ],
      "execution_count": null,
      "outputs": [
        {
          "output_type": "stream",
          "text": [
            "\n",
            "One Linear Nested for loop Matrix Multiplication\n",
            "\n",
            "Matrix Looks like: [0, 0, 0, 0, 0, 5, 6, 7, 8, 9, 10, 12, 14, 16, 18, 15, 18, 21, 24, 27, 20, 24, 28, 32, 36]\n"
          ],
          "name": "stdout"
        }
      ]
    },
    {
      "cell_type": "code",
      "metadata": {
        "id": "s1VU0_rpDWdd"
      },
      "source": [
        "mat = []\n",
        "for i in range(5):\n",
        "  for j in range(5,10):\n",
        "    mat.append(j*i)"
      ],
      "execution_count": null,
      "outputs": []
    },
    {
      "cell_type": "code",
      "metadata": {
        "id": "6omDcOAWG5Rq",
        "colab": {
          "base_uri": "https://localhost:8080/"
        },
        "outputId": "91670df5-3eb1-4fc3-ed36-fe9e3155df26"
      },
      "source": [
        "a = ['Hello', 'world', '!']\n",
        "#Iterable Method 1\n",
        "for i in range(len(a)):\n",
        "  print(i,a[i])\n",
        "print('')\n",
        "\n",
        "#Method 2\n",
        "for i in a:\n",
        "  print(i)\n",
        "print()\n",
        "\n",
        "#Method 3\n",
        "print(list(enumerate(a)))"
      ],
      "execution_count": null,
      "outputs": [
        {
          "output_type": "stream",
          "text": [
            "0 Hello\n",
            "1 world\n",
            "2 !\n",
            "\n",
            "Hello\n",
            "world\n",
            "!\n",
            "\n",
            "[(0, 'Hello'), (1, 'world'), (2, '!')]\n"
          ],
          "name": "stdout"
        }
      ]
    },
    {
      "cell_type": "markdown",
      "metadata": {
        "id": "cv6CE4zFvYtk"
      },
      "source": [
        "<h3>Functions</h3>"
      ]
    },
    {
      "cell_type": "code",
      "metadata": {
        "id": "zAHDYLeWvln1",
        "colab": {
          "base_uri": "https://localhost:8080/"
        },
        "outputId": "fe0f8f0c-f1ba-41aa-a2bd-d8f1f2441a65"
      },
      "source": [
        "#Fizz Buzz coding\n",
        "# To define a function use the def keyword followed by func name with attributes (if any) passed.\n",
        "\n",
        "def fizzBuzz():\n",
        "  '''\n",
        "  Given a range print Fizz if divisible by 3, Buzz if divisible by 5 else FizzBuzz if divisible by 3 and 5\n",
        "  '''\n",
        "  n = int(input('Enter a number '))\n",
        "  #Python way\n",
        "  count = 1\n",
        "  while (count <= n):\n",
        "    string = ''\n",
        "    if (count %3 == 0):\n",
        "      string = 'Fizz'\n",
        "    if (count % 5 == 0):\n",
        "      string += 'Buzz'\n",
        "    print(count,string)\n",
        "    count +=1\n",
        "    \n",
        "fizzBuzz()"
      ],
      "execution_count": null,
      "outputs": [
        {
          "output_type": "stream",
          "text": [
            "Enter a number 15\n",
            "1 \n",
            "2 \n",
            "3 Fizz\n",
            "4 \n",
            "5 Buzz\n",
            "6 Fizz\n",
            "7 \n",
            "8 \n",
            "9 Fizz\n",
            "10 Buzz\n",
            "11 \n",
            "12 Fizz\n",
            "13 \n",
            "14 \n",
            "15 FizzBuzz\n"
          ],
          "name": "stdout"
        }
      ]
    },
    {
      "cell_type": "code",
      "metadata": {
        "id": "ExiLDbOlvmV1",
        "colab": {
          "base_uri": "https://localhost:8080/"
        },
        "outputId": "1f54c741-ed65-4444-8b6a-98fd3168840d"
      },
      "source": [
        "def fizzBuzz():\n",
        "  '''\n",
        "  Same function as above with more if else conditions.\n",
        "  '''\n",
        "  n = int(input('Enter a number '))\n",
        "  count = 1\n",
        "  while(count <= n):\n",
        "    if (count % 5 == 0 and count % 3 == 0):\n",
        "      print(count,'Fizz Buzz')\n",
        "    elif (count % 3 == 0):\n",
        "      print(count,'Fizz')\n",
        "    elif (count % 5 == 0):\n",
        "      print(count,'Buzz')\n",
        "    else:\n",
        "      print(count)\n",
        "    count +=1\n",
        "fizzBuzz()"
      ],
      "execution_count": null,
      "outputs": [
        {
          "output_type": "stream",
          "text": [
            "Enter a number 15\n",
            "1\n",
            "2\n",
            "3 Fizz\n",
            "4\n",
            "5 Buzz\n",
            "6 Fizz\n",
            "7\n",
            "8\n",
            "9 Fizz\n",
            "10 Buzz\n",
            "11\n",
            "12 Fizz\n",
            "13\n",
            "14\n",
            "15 Fizz Buzz\n"
          ],
          "name": "stdout"
        }
      ]
    },
    {
      "cell_type": "markdown",
      "metadata": {
        "id": "zzhfIHnU_EhK"
      },
      "source": [
        "<h3>Dictionary</h3>\n",
        "\n",
        "We use key and not index to reference elements in dictionary"
      ]
    },
    {
      "cell_type": "code",
      "metadata": {
        "id": "lJqvSLqb_Ll-",
        "colab": {
          "base_uri": "https://localhost:8080/"
        },
        "outputId": "9ca6ae48-770b-4937-cd73-8355e488a514"
      },
      "source": [
        "#Creating an empty dictionary\n",
        "dict_ = {} # We defined dict_ and not dict \n",
        "#dict_ = {key:value,key:value} #Keys have to be in a set i.e they are to be unique\n",
        "string = 'iamdictionaryiteratemeandseethefun'\n",
        "\n",
        "for ch in string:\n",
        "  if (ch in dict_):\n",
        "    dict_[ch] +=1\n",
        "\n",
        "  else:\n",
        "    dict_[ch] = 1\n",
        "\n",
        "for k,v in dict_.items():\n",
        "  #pass\n",
        "  print(f'Character {k} and its count {v}')\n",
        "  \n",
        "#if we try updating for a key that is present the original value will be overwritten"
      ],
      "execution_count": null,
      "outputs": [
        {
          "output_type": "stream",
          "text": [
            "Character i and its count 4\n",
            "Character a and its count 4\n",
            "Character m and its count 2\n",
            "Character d and its count 2\n",
            "Character c and its count 1\n",
            "Character t and its count 4\n",
            "Character o and its count 1\n",
            "Character n and its count 3\n",
            "Character r and its count 2\n",
            "Character y and its count 1\n",
            "Character e and its count 6\n",
            "Character s and its count 1\n",
            "Character h and its count 1\n",
            "Character f and its count 1\n",
            "Character u and its count 1\n"
          ],
          "name": "stdout"
        }
      ]
    },
    {
      "cell_type": "code",
      "metadata": {
        "id": "CCjttdRb_L9L",
        "colab": {
          "base_uri": "https://localhost:8080/",
          "height": 195
        },
        "outputId": "7178ea8c-51c5-4761-bdd2-508b177dfc79"
      },
      "source": [
        "#Print value for some key\n",
        "#Use .get or check for existence before access to avoid error like below\n",
        "print(dict_['z'])"
      ],
      "execution_count": null,
      "outputs": [
        {
          "output_type": "error",
          "ename": "KeyError",
          "evalue": "ignored",
          "traceback": [
            "\u001b[0;31m---------------------------------------------------------------------------\u001b[0m",
            "\u001b[0;31mKeyError\u001b[0m                                  Traceback (most recent call last)",
            "\u001b[0;32m<ipython-input-52-6d8cfb89cbe3>\u001b[0m in \u001b[0;36m<module>\u001b[0;34m()\u001b[0m\n\u001b[1;32m      1\u001b[0m \u001b[0;31m#Print value for some key\u001b[0m\u001b[0;34m\u001b[0m\u001b[0;34m\u001b[0m\u001b[0;34m\u001b[0m\u001b[0m\n\u001b[1;32m      2\u001b[0m \u001b[0;31m#Use .get or check for existence before access to avoid error like below\u001b[0m\u001b[0;34m\u001b[0m\u001b[0;34m\u001b[0m\u001b[0;34m\u001b[0m\u001b[0m\n\u001b[0;32m----> 3\u001b[0;31m \u001b[0mprint\u001b[0m\u001b[0;34m(\u001b[0m\u001b[0mdict_\u001b[0m\u001b[0;34m[\u001b[0m\u001b[0;34m'z'\u001b[0m\u001b[0;34m]\u001b[0m\u001b[0;34m)\u001b[0m\u001b[0;34m\u001b[0m\u001b[0;34m\u001b[0m\u001b[0m\n\u001b[0m",
            "\u001b[0;31mKeyError\u001b[0m: 'z'"
          ]
        }
      ]
    },
    {
      "cell_type": "code",
      "metadata": {
        "colab": {
          "base_uri": "https://localhost:8080/"
        },
        "id": "lw2wYb2SE-xy",
        "outputId": "92f1ecc0-95ce-4f45-830d-d54f0ca2277b"
      },
      "source": [
        "print(dict_.get('z'))"
      ],
      "execution_count": null,
      "outputs": [
        {
          "output_type": "stream",
          "text": [
            "None\n"
          ],
          "name": "stdout"
        }
      ]
    },
    {
      "cell_type": "markdown",
      "metadata": {
        "id": "kD2nAynGCI3v"
      },
      "source": [
        "<h4>Dictionary Trick\n"
      ]
    },
    {
      "cell_type": "code",
      "metadata": {
        "id": "ThBiVVNqCLUV",
        "colab": {
          "base_uri": "https://localhost:8080/"
        },
        "outputId": "3fed194b-5294-4c13-bdcc-bd6b49053dc0"
      },
      "source": [
        "#merge 2 dictionaries\n",
        "x = {'a':1,'b':2}\n",
        "y = {'c':3}\n",
        "z = {**x,**y}\n",
        "print(z)"
      ],
      "execution_count": null,
      "outputs": [
        {
          "output_type": "stream",
          "text": [
            "{'a': 1, 'b': 2, 'c': 3}\n"
          ],
          "name": "stdout"
        }
      ]
    },
    {
      "cell_type": "markdown",
      "metadata": {
        "id": "8sxeahrt_z58"
      },
      "source": [
        "<h5>Question. \n",
        "\n",
        "Can we have a list as a dictionary key."
      ]
    },
    {
      "cell_type": "markdown",
      "metadata": {
        "id": "HjNTl7JW_2Ft"
      },
      "source": [
        "<h3>Sorting"
      ]
    },
    {
      "cell_type": "code",
      "metadata": {
        "id": "mfB5tLDYAIEI",
        "colab": {
          "base_uri": "https://localhost:8080/"
        },
        "outputId": "b45c298a-3062-461a-bb2b-7166fdf7f4c1"
      },
      "source": [
        "#Sorting a list\n",
        "\n",
        "#For sorting the dataype should be of same type\n",
        "list_ = ['a','3232','21332','bsaa','87','3231']\n",
        "print('Ascending order ',list_)\n",
        "\n",
        "#Insights of this sorting  (only done for 1st character)\n",
        "result = []\n",
        "for i in list_:\n",
        "  sum_ = 0\n",
        "  for j in i:\n",
        "    sum_ = ord(j)\n",
        "    break\n",
        "  result.append(sum_)\n",
        "\n",
        "#It checks the first character of a string if there is a match with other string then it goes \n",
        "print('Before sorting')\n",
        "print(list_)\n",
        "print(result)\n",
        "\n",
        "print('---------------')\n",
        "print('After sorting')\n",
        "list_.sort()\n",
        "result.sort()\n",
        "print(list_)\n",
        "print(result)"
      ],
      "execution_count": null,
      "outputs": [
        {
          "output_type": "stream",
          "text": [
            "Ascending order  ['a', '3232', '21332', 'bsaa', '87', '3231']\n",
            "Before sorting\n",
            "['a', '3232', '21332', 'bsaa', '87', '3231']\n",
            "[97, 51, 50, 98, 56, 51]\n",
            "---------------\n",
            "After sorting\n",
            "['21332', '3231', '3232', '87', 'a', 'bsaa']\n",
            "[50, 51, 51, 56, 97, 98]\n"
          ],
          "name": "stdout"
        }
      ]
    },
    {
      "cell_type": "markdown",
      "metadata": {
        "id": "io5dOa-JARjC"
      },
      "source": [
        "<h3>Sorted vs Sort</h3>\n",
        "The primary difference between the list sort() function and the sorted() function.\n",
        "\n",
        "sort() function will modify the list it is called on.The function modifies/sorts the list in-place and has no return value.\n",
        "\n",
        "The sorted() function will create a new list containing a sorted version of the list it is given."
      ]
    },
    {
      "cell_type": "code",
      "metadata": {
        "id": "ra_eavR1Ao-W",
        "colab": {
          "base_uri": "https://localhost:8080/"
        },
        "outputId": "fc3b660c-f3d5-49a4-b4ad-fd4de71e223a"
      },
      "source": [
        "a = [1,3,2]\n",
        "print('a before any sort: ', a)\n",
        "b = sorted(a)\n",
        "print('a after sorted: ',a)\n",
        "print('b: ', b)\n",
        "a.sort()\n",
        "print('a after sort(): ', a)"
      ],
      "execution_count": null,
      "outputs": [
        {
          "output_type": "stream",
          "text": [
            "a before any sort:  [1, 3, 2]\n",
            "a after sorted:  [1, 3, 2]\n",
            "b:  [1, 2, 3]\n",
            "a after sort():  [1, 2, 3]\n"
          ],
          "name": "stdout"
        }
      ]
    },
    {
      "cell_type": "markdown",
      "metadata": {
        "id": "RvAGWxrRAxAd"
      },
      "source": [
        "<h3>Lambda functions</h3> \n",
        "\n",
        "Dictionary insights with sorting functions\n"
      ]
    },
    {
      "cell_type": "code",
      "metadata": {
        "id": "EmZtAjlVApV-",
        "colab": {
          "base_uri": "https://localhost:8080/"
        },
        "outputId": "9705b305-02cf-4eab-98ff-0b37b965a174"
      },
      "source": [
        "#Norrmal functions in python\n",
        "def sumFunc(a,b,c):\n",
        "  ...\n",
        "  ...\n",
        "  ...\n",
        "  return a+b+c\n",
        "  \n",
        "sumFunc(5,6,2)"
      ],
      "execution_count": null,
      "outputs": [
        {
          "output_type": "execute_result",
          "data": {
            "text/plain": [
              "13"
            ]
          },
          "metadata": {
            "tags": []
          },
          "execution_count": 57
        }
      ]
    },
    {
      "cell_type": "markdown",
      "metadata": {
        "id": "fSh3oHi0B9DO"
      },
      "source": [
        "#Lambda Trick"
      ]
    },
    {
      "cell_type": "code",
      "metadata": {
        "id": "fnSRRtzjB-4-",
        "colab": {
          "base_uri": "https://localhost:8080/"
        },
        "outputId": "d2fd9ac3-036b-47f1-a986-d502aaa875d5"
      },
      "source": [
        "add = lambda a,b,c: a+b+c\n",
        "print(add(5, 6, 2))"
      ],
      "execution_count": null,
      "outputs": [
        {
          "output_type": "stream",
          "text": [
            "13\n"
          ],
          "name": "stdout"
        }
      ]
    },
    {
      "cell_type": "code",
      "metadata": {
        "id": "tkMnuDRxwxe_",
        "colab": {
          "base_uri": "https://localhost:8080/"
        },
        "outputId": "4329ba53-731a-427f-fdac-198ad14aba1f"
      },
      "source": [
        "dictonary = {67:\"Rahul\",23:\"Darsh\",12:\"Dhaval\",45:\"Manish\",11:\"Dipam\",101:\"Biman\",99:\"Biman\"}\n",
        "\n",
        "#To sort values based on either key or values in the dictionary and supply order of sort in reverse parameter\n",
        "tuples = sorted(dictonary.items(), key = lambda x: x[1], reverse = False)\n",
        "\n",
        "#Note just in list tuple cannot be unpacked, it needs to be accessed index wise\n",
        "#Print the sorted elements\n",
        "print('Sorted on keys')\n",
        "for elements in tuples:\n",
        "    print(elements[0],\"::\",elements[1])\n",
        "\n",
        "\n",
        "#Sort First on values and then keys, Interesting\n",
        "tuples  = sorted(dictonary.items(),key = lambda x:(x[1],x[0]), reverse=False)\n",
        "print('Sorted on first values and then keys\\n')\n",
        "for elements in tuples:\n",
        "    print(elements[0],\"::\",elements[1])"
      ],
      "execution_count": null,
      "outputs": [
        {
          "output_type": "stream",
          "text": [
            "Sorted on keys\n",
            "101 :: Biman\n",
            "99 :: Biman\n",
            "23 :: Darsh\n",
            "12 :: Dhaval\n",
            "11 :: Dipam\n",
            "45 :: Manish\n",
            "67 :: Rahul\n",
            "Sorted on first values and then keys\n",
            "\n",
            "99 :: Biman\n",
            "101 :: Biman\n",
            "23 :: Darsh\n",
            "12 :: Dhaval\n",
            "11 :: Dipam\n",
            "45 :: Manish\n",
            "67 :: Rahul\n"
          ],
          "name": "stdout"
        }
      ]
    },
    {
      "cell_type": "markdown",
      "metadata": {
        "id": "uZWqq_AVBK7y"
      },
      "source": [
        "<h5>Q.\n",
        "\n",
        "One way of Initialzing Dictionary is keys as Ages and value as name of Person.\n",
        "\n",
        "What are the drawback of such keys?\n",
        "</h5>"
      ]
    },
    {
      "cell_type": "markdown",
      "metadata": {
        "id": "B9XjepI7BIa4"
      },
      "source": [
        "<h3>Counter"
      ]
    },
    {
      "cell_type": "code",
      "metadata": {
        "id": "kc0FWaGWGcOK",
        "colab": {
          "base_uri": "https://localhost:8080/"
        },
        "outputId": "ee81aec3-2fc5-4490-b75f-b9aac426acbb"
      },
      "source": [
        "from collections import Counter\n",
        "\n",
        "color = ['blue','blue','red','yellow','green','red']\n",
        "z = Counter(color)\n",
        "print('Type ',type(z))\n",
        "print(z)\n",
        "\n",
        "#Can be initialized like this also\n",
        "coun = Counter(a=1, b=2, c=3, d=120, e=1, f=219)\n",
        "print('\\nMost frequent occuring letters using Counters')\n",
        "for letter,count in coun.most_common(4):\n",
        "    print('%s %d' %(letter,count))\n",
        "\n",
        "print('Convert counters to List')\n",
        "coun = Counter(a=1, b=2, c=3) \n",
        "print(list(coun.elements()))"
      ],
      "execution_count": null,
      "outputs": [
        {
          "output_type": "stream",
          "text": [
            "Type  <class 'collections.Counter'>\n",
            "Counter({'blue': 2, 'red': 2, 'yellow': 1, 'green': 1})\n",
            "\n",
            "Most frequent occuring letters using Counters\n",
            "f 219\n",
            "d 120\n",
            "c 3\n",
            "b 2\n",
            "Convert counters to List\n",
            "['a', 'b', 'b', 'c', 'c', 'c']\n"
          ],
          "name": "stdout"
        }
      ]
    },
    {
      "cell_type": "markdown",
      "metadata": {
        "id": "y6TKmJxGGlYu"
      },
      "source": [
        "<h5>Q.Check if below strings are Anagrams</h5>"
      ]
    },
    {
      "cell_type": "code",
      "metadata": {
        "id": "AKQUJKSRGbmc"
      },
      "source": [
        "my_string_1 = \"RACECAR\"\n",
        "my_string_2 = \"CARRRCE\""
      ],
      "execution_count": null,
      "outputs": []
    }
  ]
}