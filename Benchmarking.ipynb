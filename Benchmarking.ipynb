{
 "cells": [
  {
   "cell_type": "markdown",
   "metadata": {},
   "source": [
    "# Nutritional Labels for ADS: The Effect of Word Embeddings on Bias\n",
    "# Responsible Data Science: Final Project\n"
   ]
  },
  {
   "cell_type": "code",
   "execution_count": 1,
   "metadata": {},
   "outputs": [],
   "source": [
    "import numpy as np\n",
    "import pandas as pd\n",
    "import altair as alt\n",
    "from sklearn.metrics import accuracy_score, confusion_matrix\n",
    "from sklearn.model_selection import train_test_split\n",
    "from collections import defaultdict\n",
    "from nltk.corpus import stopwords\n",
    "stopwords = set(stopwords.words('english'))"
   ]
  },
  {
   "cell_type": "markdown",
   "metadata": {},
   "source": [
    "## A. Data Pre-Processing"
   ]
  },
  {
   "cell_type": "markdown",
   "metadata": {},
   "source": [
    "### Import Predictions"
   ]
  },
  {
   "cell_type": "code",
   "execution_count": 2,
   "metadata": {},
   "outputs": [],
   "source": [
    "# Path for word embedding predictions\n",
    "path = 'preds/'\n",
    "filenames = ['fast_preds.npy', 'glove_preds.npy', 'numberbatch_preds.npy', 'without_pretrained.npy', 'meta_preds.npy']\n",
    "pred_names = ['FastText', 'GloVe', 'ConceptNet', 'Keras Embeddings', 'Meta (FT+GV+CN)']\n",
    "\n",
    "# Import Predictions\n",
    "y_preds_raw = []\n",
    "for i in filenames:\n",
    "    y_preds_raw.append(np.load(path+i))"
   ]
  },
  {
   "cell_type": "markdown",
   "metadata": {},
   "source": [
    "### Data Split like ADS"
   ]
  },
  {
   "cell_type": "code",
   "execution_count": 3,
   "metadata": {},
   "outputs": [],
   "source": [
    "def preprocess(text):\n",
    "    s_mapping = {\"ain't\": \"is not\", \"aren't\": \"are not\",\"can't\": \"cannot\", \"'cause\": \"because\", \"could've\": \"could have\", \"couldn't\": \"could not\", \"didn't\": \"did not\",  \"doesn't\": \"does not\", \"don't\": \"do not\", \"hadn't\": \"had not\", \"hasn't\": \"has not\", \"haven't\": \"have not\", \"he'd\": \"he would\",\"he'll\": \"he will\", \"he's\": \"he is\", \"how'd\": \"how did\", \"how'd'y\": \"how do you\", \"how'll\": \"how will\", \"how's\": \"how is\",  \"I'd\": \"I would\", \"I'd've\": \"I would have\", \"I'll\": \"I will\", \"I'll've\": \"I will have\",\"I'm\": \"I am\", \"I've\": \"I have\", \"i'd\": \"i would\", \"i'd've\": \"i would have\", \"i'll\": \"i will\",  \"i'll've\": \"i will have\",\"i'm\": \"i am\", \"i've\": \"i have\", \"isn't\": \"is not\", \"it'd\": \"it would\", \"it'd've\": \"it would have\", \"it'll\": \"it will\", \"it'll've\": \"it will have\",\"it's\": \"it is\", \"let's\": \"let us\", \"ma'am\": \"madam\", \"mayn't\": \"may not\", \"might've\": \"might have\",\"mightn't\": \"might not\",\"mightn't've\": \"might not have\", \"must've\": \"must have\", \"mustn't\": \"must not\", \"mustn't've\": \"must not have\", \"needn't\": \"need not\", \"needn't've\": \"need not have\",\"o'clock\": \"of the clock\", \"oughtn't\": \"ought not\", \"oughtn't've\": \"ought not have\", \"shan't\": \"shall not\", \"sha'n't\": \"shall not\", \"shan't've\": \"shall not have\", \"she'd\": \"she would\", \"she'd've\": \"she would have\", \"she'll\": \"she will\", \"she'll've\": \"she will have\", \"she's\": \"she is\", \"should've\": \"should have\", \"shouldn't\": \"should not\", \"shouldn't've\": \"should not have\", \"so've\": \"so have\",\"so's\": \"so as\", \"this's\": \"this is\",\"that'd\": \"that would\", \"that'd've\": \"that would have\", \"that's\": \"that is\", \"there'd\": \"there would\", \"there'd've\": \"there would have\", \"there's\": \"there is\", \"here's\": \"here is\",\"they'd\": \"they would\", \"they'd've\": \"they would have\", \"they'll\": \"they will\", \"they'll've\": \"they will have\", \"they're\": \"they are\", \"they've\": \"they have\", \"to've\": \"to have\", \"wasn't\": \"was not\", \"we'd\": \"we would\", \"we'd've\": \"we would have\", \"we'll\": \"we will\", \"we'll've\": \"we will have\", \"we're\": \"we are\", \"we've\": \"we have\", \"weren't\": \"were not\", \"what'll\": \"what will\", \"what'll've\": \"what will have\", \"what're\": \"what are\",  \"what's\": \"what is\", \"what've\": \"what have\", \"when's\": \"when is\", \"when've\": \"when have\", \"where'd\": \"where did\", \"where's\": \"where is\", \"where've\": \"where have\", \"who'll\": \"who will\", \"who'll've\": \"who will have\", \"who's\": \"who is\", \"who've\": \"who have\", \"why's\": \"why is\", \"why've\": \"why have\", \"will've\": \"will have\", \"won't\": \"will not\", \"won't've\": \"will not have\", \"would've\": \"would have\", \"wouldn't\": \"would not\", \"wouldn't've\": \"would not have\", \"y'all\": \"you all\", \"y'all'd\": \"you all would\",\"y'all'd've\": \"you all would have\",\"y'all're\": \"you all are\",\"y'all've\": \"you all have\",\"you'd\": \"you would\", \"you'd've\": \"you would have\", \"you'll\": \"you will\", \"you'll've\": \"you will have\", \"you're\": \"you are\", \"you've\": \"you have\" }\n",
    "    specials = [\"’\", \"‘\", \"´\", \"`\"]\n",
    "    p_mapping = {\"_\":\" \", \"`\":\" \"}    \n",
    "    punct = \"/-'?!.,#$%\\'()*+-/:;<=>@[\\\\]^_`{|}~\" + '\"\"“”’' + '∞θ÷α•à−β∅³π‘₹´°£€\\×™√²—–&'\n",
    "    \n",
    "    for s in specials:\n",
    "        text = text.replace(s, \"'\")\n",
    "    text = ' '.join([s_mapping[t] if t in s_mapping else t for t in text.split(\" \")])\n",
    "    for p in p_mapping:\n",
    "        text = text.replace(p, p_mapping[p])    \n",
    "    for p in punct:\n",
    "        text = text.replace(p, f' {p} ')     \n",
    "    return text.split()\n",
    "\n",
    "# ADS - Import original data\n",
    "train = pd.read_csv('data/train.csv')\n",
    "columns = ['comment_text', 'target', 'male', 'female', 'homosexual_gay_or_lesbian', 'christian', 'jewish', 'muslim', 'black', 'white',  'psychiatric_or_mental_illness']\n",
    "protected_groups = ['male', 'female', 'homosexual_gay_or_lesbian', 'christian', 'jewish', 'muslim', 'black', 'white',  'psychiatric_or_mental_illness']\n",
    "# ADS - Split data\n",
    "_, _, _, AUX_val = train_test_split(train['comment_text'], train[columns], test_size=.2, random_state=42)\n"
   ]
  },
  {
   "cell_type": "markdown",
   "metadata": {},
   "source": [
    "### Custom Indexing the Split Data for Analysis"
   ]
  },
  {
   "cell_type": "code",
   "execution_count": 4,
   "metadata": {},
   "outputs": [],
   "source": [
    "# Preprocess text\n",
    "AUX_val['comment_text'] = AUX_val['comment_text'].apply(lambda x: preprocess(x.lower()))\n",
    "# Reset Index\n",
    "AUX_val.reset_index(drop=True, inplace=True)\n",
    "# Drop nan\n",
    "AUX_val = AUX_val[columns].dropna()\n",
    "non_nan_idx = list(AUX_val.index)\n",
    "AUX_val.reset_index(drop=True, inplace=True)\n",
    "# Normalizing target\n",
    "AUX_val['target'] = np.where(AUX_val['target'] >= 0.5, 1, 0)\n",
    "# Extracting preds\n",
    "y_val = AUX_val['target'].values\n",
    "# Normalizing auxilary values\n",
    "for c in protected_groups:\n",
    "    AUX_val[c] = np.where(AUX_val[c] >= 0.5, 1, 0)\n",
    "    "
   ]
  },
  {
   "cell_type": "code",
   "execution_count": 5,
   "metadata": {},
   "outputs": [],
   "source": [
    "y_preds = []\n",
    "# Normalize Predictions\n",
    "for i in range(len(y_preds_raw)):\n",
    "    temp = np.where(y_preds_raw[i] >= 0.5, 1, 0)\n",
    "    temp = np.take(temp, non_nan_idx)\n",
    "    y_preds.append(temp)\n",
    "    "
   ]
  },
  {
   "cell_type": "markdown",
   "metadata": {},
   "source": [
    "## B. Calculating Fairness Metrics"
   ]
  },
  {
   "cell_type": "markdown",
   "metadata": {},
   "source": [
    "### Overall Accuracy"
   ]
  },
  {
   "cell_type": "code",
   "execution_count": 6,
   "metadata": {},
   "outputs": [],
   "source": [
    "report_global_accuracy = []\n",
    "for i in range(len(y_preds)):\n",
    "    report_global_accuracy.append([pred_names[i], accuracy_score(y_preds[i], y_val)])\n",
    "# Convert to dataframe\n",
    "report_a = pd.DataFrame(report_global_accuracy, columns = ['Embeddings', 'Global Accuracy'])\n"
   ]
  },
  {
   "cell_type": "markdown",
   "metadata": {},
   "source": [
    "### Unprivileged Group Accuracy - Classwise"
   ]
  },
  {
   "cell_type": "code",
   "execution_count": 7,
   "metadata": {},
   "outputs": [],
   "source": [
    "report_class_wise_accuracy_unpriv = []\n",
    "for c in protected_groups:\n",
    "    for i in range(len(y_preds)):\n",
    "        u_index = AUX_val.index[AUX_val[c]==1].tolist()\n",
    "        temp =  accuracy_score(np.take(y_preds[i], u_index), np.take(y_val, u_index))\n",
    "        report_class_wise_accuracy_unpriv.append([c, pred_names[i], temp])\n",
    "# Convert to dataframe\n",
    "report_b = pd.DataFrame(report_class_wise_accuracy_unpriv, columns = ['Identity', 'Embeddings', 'Group Accuracy'])\n",
    "report_b['Group']=['Unprivileged']*9*5"
   ]
  },
  {
   "cell_type": "code",
   "execution_count": 8,
   "metadata": {},
   "outputs": [],
   "source": [
    "#display(plot_on_class(report_b, 'Unprivileged Accuracy', [0.76, 0.94]))"
   ]
  },
  {
   "cell_type": "markdown",
   "metadata": {},
   "source": [
    "### Privileged Group Accuracy - Classwise"
   ]
  },
  {
   "cell_type": "code",
   "execution_count": 9,
   "metadata": {},
   "outputs": [],
   "source": [
    "report_class_wise_accuracy_priv = []\n",
    "for c in protected_groups:\n",
    "    for i in range(len(y_preds)):\n",
    "        p_index = AUX_val.index[AUX_val[c]==0].tolist()\n",
    "        temp =  accuracy_score(np.take(y_preds[i], p_index), np.take(y_val, p_index))\n",
    "        report_class_wise_accuracy_priv.append([c, pred_names[i], temp])\n",
    "# Convert to dataframe\n",
    "report_c = pd.DataFrame(report_class_wise_accuracy_priv, columns = ['Identity', 'Embeddings', 'Group Accuracy'])\n",
    "report_c['Group']=['Privileged']*9*5"
   ]
  },
  {
   "cell_type": "code",
   "execution_count": 10,
   "metadata": {},
   "outputs": [],
   "source": [
    "report_bc = pd.concat([report_b,report_c])"
   ]
  },
  {
   "cell_type": "markdown",
   "metadata": {},
   "source": [
    "### Combined Accuracy"
   ]
  },
  {
   "cell_type": "code",
   "execution_count": 11,
   "metadata": {},
   "outputs": [],
   "source": [
    "#display(plot_on_class(report_c, 'Privileged Accuracy', [0.76, 0.94]))"
   ]
  },
  {
   "cell_type": "markdown",
   "metadata": {},
   "source": [
    "### Difference in Accuracy (Unprivileged - Privileged)"
   ]
  },
  {
   "cell_type": "code",
   "execution_count": 12,
   "metadata": {},
   "outputs": [],
   "source": [
    "report_class_wise_accuracy_delta = []\n",
    "for i in range(len(report_class_wise_accuracy_unpriv)):\n",
    "    c = report_class_wise_accuracy_unpriv[i][0]\n",
    "    w = report_class_wise_accuracy_unpriv[i][1]\n",
    "    temp = report_class_wise_accuracy_priv[i][2] - report_class_wise_accuracy_unpriv[i][2]\n",
    "    report_class_wise_accuracy_delta.append([c, w, temp])\n",
    "# Convert to dataframe\n",
    "report_d = pd.DataFrame(report_class_wise_accuracy_delta, columns = ['Identity', 'Embeddings', 'Accuracy Difference'])\n"
   ]
  },
  {
   "cell_type": "code",
   "execution_count": 13,
   "metadata": {},
   "outputs": [],
   "source": [
    "#display(plot_on_class(report_d, 'Accuracy Difference', [-0.1, 0.16]))"
   ]
  },
  {
   "cell_type": "markdown",
   "metadata": {},
   "source": [
    "### Disparate Impact for Non Toxicity - Classwise"
   ]
  },
  {
   "cell_type": "code",
   "execution_count": 14,
   "metadata": {},
   "outputs": [],
   "source": [
    "report_class_wise_disparate_impact0 = []\n",
    "report_class_wise_disparate_impact1 = []\n",
    "# Values less than 80% will signify disparate impact i.e. unprivileged class is less represented in positive outcomes\n",
    "for c in protected_groups:\n",
    "    for i in range(len(y_preds)):\n",
    "        u_index = AUX_val.index[AUX_val[c]==1].tolist()\n",
    "        p_index = AUX_val.index[AUX_val[c]==0].tolist()\n",
    "        \n",
    "        y_pred_unpriv = np.take(y_val, u_index)\n",
    "        y_pred_priv = np.take(y_preds[i], p_index)\n",
    "        # We have inverse mappings of 0 (Non Toxic) and 1 (Toxic) i.e. 0 is desirable and 1 is not desirable\n",
    "        di0 = (np.count_nonzero(y_pred_unpriv == 0)/len(y_pred_unpriv)) / (np.count_nonzero(y_pred_priv == 0)/len(y_pred_priv))\n",
    "        di1 = (np.count_nonzero(y_pred_unpriv == 1)/len(y_pred_unpriv)) / (np.count_nonzero(y_pred_priv == 1)/len(y_pred_priv))\n",
    "        report_class_wise_disparate_impact0.append([c, pred_names[i], di0])\n",
    "        report_class_wise_disparate_impact1.append([c, pred_names[i], di1])\n",
    "# Convert to dataframe\n",
    "report_e0 = pd.DataFrame(report_class_wise_disparate_impact0, columns = ['Identity', 'Embeddings', 'Disparate Impact - Non Toxicity'])\n",
    "report_e1 = pd.DataFrame(report_class_wise_disparate_impact1, columns = ['Identity', 'Embeddings', 'Disparate Impact - Toxicity'])\n"
   ]
  },
  {
   "cell_type": "markdown",
   "metadata": {},
   "source": [
    "### False Positive Rate Difference - Classwise"
   ]
  },
  {
   "cell_type": "code",
   "execution_count": 15,
   "metadata": {},
   "outputs": [],
   "source": [
    "report_class_wise_diff_fpr = []\n",
    "for c in protected_groups:\n",
    "    for i in range(len(y_preds)):\n",
    "        u_index = AUX_val.index[AUX_val[c]==1].tolist()\n",
    "        tn_u, fp_u, _, _ =  confusion_matrix(np.take(y_preds[i], u_index), np.take(y_val, u_index)).ravel()\n",
    "        p_index = AUX_val.index[AUX_val[c]==0].tolist()\n",
    "        tn_p, fp_p, _, _ =  confusion_matrix(np.take(y_preds[i], p_index), np.take(y_val, p_index)).ravel()\n",
    "        fpr  = (fp_u/(fp_u+tn_u)) - (fp_p/(fp_p+tn_p))\n",
    "        report_class_wise_diff_fpr.append([c, pred_names[i], fpr])\n",
    "# Convert to dataframe\n",
    "report_f = pd.DataFrame(report_class_wise_diff_fpr, columns = ['Identity', 'Embeddings', 'False Positive Rate Difference'])\n"
   ]
  },
  {
   "cell_type": "markdown",
   "metadata": {},
   "source": [
    "## C. Visualization for Identities\n"
   ]
  },
  {
   "cell_type": "code",
   "execution_count": 16,
   "metadata": {},
   "outputs": [],
   "source": [
    "# Plots by aggregating on Identities\n",
    "def plot_on_class(source, y_ax, y_dom):\n",
    "    bars = alt.Chart().mark_bar(size=20).encode(\n",
    "        x=alt.X('Identity:O', axis=alt.Axis(labels=False)),\n",
    "        y=alt.Y('mean('+y_ax+'):Q', scale=alt.Scale(domain=y_dom), title='Mean'),\n",
    "        color=alt.Color('Identity:N'),\n",
    "    )\n",
    "\n",
    "    error_bars = alt.Chart().mark_errorbar(extent='ci').encode(\n",
    "        x='Identity:O',\n",
    "        y=y_ax+':Q'\n",
    "    )\n",
    "\n",
    "    chart = alt.layer(bars, error_bars, data=source).properties(\n",
    "                width=350,\n",
    "               height=350\n",
    "           ).configure_axis(\n",
    "               labelFontSize=16,\n",
    "               titleFontSize=16\n",
    "           )\n",
    "    return chart"
   ]
  },
  {
   "cell_type": "markdown",
   "metadata": {},
   "source": [
    "### Accuracy Privileged v/s Unprivileged"
   ]
  },
  {
   "cell_type": "code",
   "execution_count": 17,
   "metadata": {},
   "outputs": [
    {
     "data": {
      "text/html": [
       "\n",
       "<div id=\"altair-viz-596cdc0b7e134a4bbb4c7f8eebe727f2\"></div>\n",
       "<script type=\"text/javascript\">\n",
       "  (function(spec, embedOpt){\n",
       "    let outputDiv = document.currentScript.previousElementSibling;\n",
       "    if (outputDiv.id !== \"altair-viz-596cdc0b7e134a4bbb4c7f8eebe727f2\") {\n",
       "      outputDiv = document.getElementById(\"altair-viz-596cdc0b7e134a4bbb4c7f8eebe727f2\");\n",
       "    }\n",
       "    const paths = {\n",
       "      \"vega\": \"https://cdn.jsdelivr.net/npm//vega@5?noext\",\n",
       "      \"vega-lib\": \"https://cdn.jsdelivr.net/npm//vega-lib?noext\",\n",
       "      \"vega-lite\": \"https://cdn.jsdelivr.net/npm//vega-lite@4.8.1?noext\",\n",
       "      \"vega-embed\": \"https://cdn.jsdelivr.net/npm//vega-embed@6?noext\",\n",
       "    };\n",
       "\n",
       "    function loadScript(lib) {\n",
       "      return new Promise(function(resolve, reject) {\n",
       "        var s = document.createElement('script');\n",
       "        s.src = paths[lib];\n",
       "        s.async = true;\n",
       "        s.onload = () => resolve(paths[lib]);\n",
       "        s.onerror = () => reject(`Error loading script: ${paths[lib]}`);\n",
       "        document.getElementsByTagName(\"head\")[0].appendChild(s);\n",
       "      });\n",
       "    }\n",
       "\n",
       "    function showError(err) {\n",
       "      outputDiv.innerHTML = `<div class=\"error\" style=\"color:red;\">${err}</div>`;\n",
       "      throw err;\n",
       "    }\n",
       "\n",
       "    function displayChart(vegaEmbed) {\n",
       "      vegaEmbed(outputDiv, spec, embedOpt)\n",
       "        .catch(err => showError(`Javascript Error: ${err.message}<br>This usually means there's a typo in your chart specification. See the javascript console for the full traceback.`));\n",
       "    }\n",
       "\n",
       "    if(typeof define === \"function\" && define.amd) {\n",
       "      requirejs.config({paths});\n",
       "      require([\"vega-embed\"], displayChart, err => showError(`Error loading script: ${err.message}`));\n",
       "    } else if (typeof vegaEmbed === \"function\") {\n",
       "      displayChart(vegaEmbed);\n",
       "    } else {\n",
       "      loadScript(\"vega\")\n",
       "        .then(() => loadScript(\"vega-lite\"))\n",
       "        .then(() => loadScript(\"vega-embed\"))\n",
       "        .catch(showError)\n",
       "        .then(() => displayChart(vegaEmbed));\n",
       "    }\n",
       "  })({\"config\": {\"view\": {\"continuousWidth\": 400, \"continuousHeight\": 300}, \"axis\": {\"labelFontSize\": 16, \"titleFontSize\": 14}}, \"data\": {\"name\": \"data-f228507f568bca499b3e08cc20ec06fd\"}, \"facet\": {\"column\": {\"type\": \"nominal\", \"field\": \"Identity\"}}, \"spec\": {\"layer\": [{\"mark\": {\"type\": \"bar\", \"width\": 30}, \"encoding\": {\"color\": {\"type\": \"nominal\", \"field\": \"Group\"}, \"x\": {\"type\": \"ordinal\", \"axis\": {\"labels\": false}, \"field\": \"Group\"}, \"y\": {\"type\": \"quantitative\", \"aggregate\": \"mean\", \"field\": \"Group Accuracy\", \"scale\": {\"domain\": [0.75, 1.0]}, \"title\": \"Mean\"}}, \"selection\": {\"selector001\": {\"type\": \"interval\", \"bind\": \"scales\", \"encodings\": [\"x\", \"y\"]}}}, {\"mark\": {\"type\": \"errorbar\", \"extent\": \"ci\"}, \"encoding\": {\"x\": {\"type\": \"ordinal\", \"field\": \"Group\"}, \"y\": {\"type\": \"quantitative\", \"field\": \"Group Accuracy\"}}}], \"width\": 100}, \"$schema\": \"https://vega.github.io/schema/vega-lite/v4.8.1.json\", \"datasets\": {\"data-f228507f568bca499b3e08cc20ec06fd\": [{\"Identity\": \"male\", \"Embeddings\": \"FastText\", \"Group Accuracy\": 0.8980898876404494, \"Group\": \"Unprivileged\"}, {\"Identity\": \"male\", \"Embeddings\": \"GloVe\", \"Group Accuracy\": 0.8989887640449438, \"Group\": \"Unprivileged\"}, {\"Identity\": \"male\", \"Embeddings\": \"ConceptNet\", \"Group Accuracy\": 0.8957303370786517, \"Group\": \"Unprivileged\"}, {\"Identity\": \"male\", \"Embeddings\": \"Keras Embeddings\", \"Group Accuracy\": 0.89, \"Group\": \"Unprivileged\"}, {\"Identity\": \"male\", \"Embeddings\": \"Meta (FT+GV+CN)\", \"Group Accuracy\": 0.8986516853932585, \"Group\": \"Unprivileged\"}, {\"Identity\": \"female\", \"Embeddings\": \"FastText\", \"Group Accuracy\": 0.9088874382169169, \"Group\": \"Unprivileged\"}, {\"Identity\": \"female\", \"Embeddings\": \"GloVe\", \"Group Accuracy\": 0.9084211507973515, \"Group\": \"Unprivileged\"}, {\"Identity\": \"female\", \"Embeddings\": \"ConceptNet\", \"Group Accuracy\": 0.9071155460225683, \"Group\": \"Unprivileged\"}, {\"Identity\": \"female\", \"Embeddings\": \"Keras Embeddings\", \"Group Accuracy\": 0.8999347197612608, \"Group\": \"Unprivileged\"}, {\"Identity\": \"female\", \"Embeddings\": \"Meta (FT+GV+CN)\", \"Group Accuracy\": 0.9073020609903945, \"Group\": \"Unprivileged\"}, {\"Identity\": \"homosexual_gay_or_lesbian\", \"Embeddings\": \"FastText\", \"Group Accuracy\": 0.8003557136505114, \"Group\": \"Unprivileged\"}, {\"Identity\": \"homosexual_gay_or_lesbian\", \"Embeddings\": \"GloVe\", \"Group Accuracy\": 0.8039128501556247, \"Group\": \"Unprivileged\"}, {\"Identity\": \"homosexual_gay_or_lesbian\", \"Embeddings\": \"ConceptNet\", \"Group Accuracy\": 0.802134281903068, \"Group\": \"Unprivileged\"}, {\"Identity\": \"homosexual_gay_or_lesbian\", \"Embeddings\": \"Keras Embeddings\", \"Group Accuracy\": 0.7887950200088928, \"Group\": \"Unprivileged\"}, {\"Identity\": \"homosexual_gay_or_lesbian\", \"Embeddings\": \"Meta (FT+GV+CN)\", \"Group Accuracy\": 0.7976878612716763, \"Group\": \"Unprivileged\"}, {\"Identity\": \"christian\", \"Embeddings\": \"FastText\", \"Group Accuracy\": 0.9288645690834473, \"Group\": \"Unprivileged\"}, {\"Identity\": \"christian\", \"Embeddings\": \"GloVe\", \"Group Accuracy\": 0.9288645690834473, \"Group\": \"Unprivileged\"}, {\"Identity\": \"christian\", \"Embeddings\": \"ConceptNet\", \"Group Accuracy\": 0.9233926128590971, \"Group\": \"Unprivileged\"}, {\"Identity\": \"christian\", \"Embeddings\": \"Keras Embeddings\", \"Group Accuracy\": 0.922397711727397, \"Group\": \"Unprivileged\"}, {\"Identity\": \"christian\", \"Embeddings\": \"Meta (FT+GV+CN)\", \"Group Accuracy\": 0.9271234921029723, \"Group\": \"Unprivileged\"}, {\"Identity\": \"jewish\", \"Embeddings\": \"FastText\", \"Group Accuracy\": 0.8875, \"Group\": \"Unprivileged\"}, {\"Identity\": \"jewish\", \"Embeddings\": \"GloVe\", \"Group Accuracy\": 0.8861842105263158, \"Group\": \"Unprivileged\"}, {\"Identity\": \"jewish\", \"Embeddings\": \"ConceptNet\", \"Group Accuracy\": 0.8828947368421053, \"Group\": \"Unprivileged\"}, {\"Identity\": \"jewish\", \"Embeddings\": \"Keras Embeddings\", \"Group Accuracy\": 0.8822368421052632, \"Group\": \"Unprivileged\"}, {\"Identity\": \"jewish\", \"Embeddings\": \"Meta (FT+GV+CN)\", \"Group Accuracy\": 0.8822368421052632, \"Group\": \"Unprivileged\"}, {\"Identity\": \"muslim\", \"Embeddings\": \"FastText\", \"Group Accuracy\": 0.8329372623574145, \"Group\": \"Unprivileged\"}, {\"Identity\": \"muslim\", \"Embeddings\": \"GloVe\", \"Group Accuracy\": 0.8291349809885932, \"Group\": \"Unprivileged\"}, {\"Identity\": \"muslim\", \"Embeddings\": \"ConceptNet\", \"Group Accuracy\": 0.8262832699619772, \"Group\": \"Unprivileged\"}, {\"Identity\": \"muslim\", \"Embeddings\": \"Keras Embeddings\", \"Group Accuracy\": 0.8148764258555133, \"Group\": \"Unprivileged\"}, {\"Identity\": \"muslim\", \"Embeddings\": \"Meta (FT+GV+CN)\", \"Group Accuracy\": 0.8305608365019012, \"Group\": \"Unprivileged\"}, {\"Identity\": \"black\", \"Embeddings\": \"FastText\", \"Group Accuracy\": 0.7928232904536222, \"Group\": \"Unprivileged\"}, {\"Identity\": \"black\", \"Embeddings\": \"GloVe\", \"Group Accuracy\": 0.7928232904536222, \"Group\": \"Unprivileged\"}, {\"Identity\": \"black\", \"Embeddings\": \"ConceptNet\", \"Group Accuracy\": 0.7792823290453622, \"Group\": \"Unprivileged\"}, {\"Identity\": \"black\", \"Embeddings\": \"Keras Embeddings\", \"Group Accuracy\": 0.7775897088693298, \"Group\": \"Unprivileged\"}, {\"Identity\": \"black\", \"Embeddings\": \"Meta (FT+GV+CN)\", \"Group Accuracy\": 0.7931618144888287, \"Group\": \"Unprivileged\"}, {\"Identity\": \"white\", \"Embeddings\": \"FastText\", \"Group Accuracy\": 0.8140764849471115, \"Group\": \"Unprivileged\"}, {\"Identity\": \"white\", \"Embeddings\": \"GloVe\", \"Group Accuracy\": 0.813873067534581, \"Group\": \"Unprivileged\"}, {\"Identity\": \"white\", \"Embeddings\": \"ConceptNet\", \"Group Accuracy\": 0.8128559804719284, \"Group\": \"Unprivileged\"}, {\"Identity\": \"white\", \"Embeddings\": \"Keras Embeddings\", \"Group Accuracy\": 0.7951586655817738, \"Group\": \"Unprivileged\"}, {\"Identity\": \"white\", \"Embeddings\": \"Meta (FT+GV+CN)\", \"Group Accuracy\": 0.8150935720097641, \"Group\": \"Unprivileged\"}, {\"Identity\": \"psychiatric_or_mental_illness\", \"Embeddings\": \"FastText\", \"Group Accuracy\": 0.87535953978907, \"Group\": \"Unprivileged\"}, {\"Identity\": \"psychiatric_or_mental_illness\", \"Embeddings\": \"GloVe\", \"Group Accuracy\": 0.8801534036433365, \"Group\": \"Unprivileged\"}, {\"Identity\": \"psychiatric_or_mental_illness\", \"Embeddings\": \"ConceptNet\", \"Group Accuracy\": 0.8744007670182167, \"Group\": \"Unprivileged\"}, {\"Identity\": \"psychiatric_or_mental_illness\", \"Embeddings\": \"Keras Embeddings\", \"Group Accuracy\": 0.8686481303930969, \"Group\": \"Unprivileged\"}, {\"Identity\": \"psychiatric_or_mental_illness\", \"Embeddings\": \"Meta (FT+GV+CN)\", \"Group Accuracy\": 0.8801534036433365, \"Group\": \"Unprivileged\"}, {\"Identity\": \"male\", \"Embeddings\": \"FastText\", \"Group Accuracy\": 0.9311872292412486, \"Group\": \"Privileged\"}, {\"Identity\": \"male\", \"Embeddings\": \"GloVe\", \"Group Accuracy\": 0.9309364944490103, \"Group\": \"Privileged\"}, {\"Identity\": \"male\", \"Embeddings\": \"ConceptNet\", \"Group Accuracy\": 0.9296549610664586, \"Group\": \"Privileged\"}, {\"Identity\": \"male\", \"Embeddings\": \"Keras Embeddings\", \"Group Accuracy\": 0.9249188594352895, \"Group\": \"Privileged\"}, {\"Identity\": \"male\", \"Embeddings\": \"Meta (FT+GV+CN)\", \"Group Accuracy\": 0.9307414784994915, \"Group\": \"Privileged\"}, {\"Identity\": \"female\", \"Embeddings\": \"FastText\", \"Group Accuracy\": 0.9303947631706829, \"Group\": \"Privileged\"}, {\"Identity\": \"female\", \"Embeddings\": \"GloVe\", \"Group Accuracy\": 0.9303232998885173, \"Group\": \"Privileged\"}, {\"Identity\": \"female\", \"Embeddings\": \"ConceptNet\", \"Group Accuracy\": 0.9287939856501729, \"Group\": \"Privileged\"}, {\"Identity\": \"female\", \"Embeddings\": \"Keras Embeddings\", \"Group Accuracy\": 0.9243060915301718, \"Group\": \"Privileged\"}, {\"Identity\": \"female\", \"Embeddings\": \"Meta (FT+GV+CN)\", \"Group Accuracy\": 0.9302518366063517, \"Group\": \"Privileged\"}, {\"Identity\": \"homosexual_gay_or_lesbian\", \"Embeddings\": \"FastText\", \"Group Accuracy\": 0.9311830698623151, \"Group\": \"Privileged\"}, {\"Identity\": \"homosexual_gay_or_lesbian\", \"Embeddings\": \"GloVe\", \"Group Accuracy\": 0.9309535951045385, \"Group\": \"Privileged\"}, {\"Identity\": \"homosexual_gay_or_lesbian\", \"Embeddings\": \"ConceptNet\", \"Group Accuracy\": 0.9294620091789904, \"Group\": \"Privileged\"}, {\"Identity\": \"homosexual_gay_or_lesbian\", \"Embeddings\": \"Keras Embeddings\", \"Group Accuracy\": 0.9248597654258032, \"Group\": \"Privileged\"}, {\"Identity\": \"homosexual_gay_or_lesbian\", \"Embeddings\": \"Meta (FT+GV+CN)\", \"Group Accuracy\": 0.9309153493115757, \"Group\": \"Privileged\"}, {\"Identity\": \"christian\", \"Embeddings\": \"FastText\", \"Group Accuracy\": 0.9273896046690893, \"Group\": \"Privileged\"}, {\"Identity\": \"christian\", \"Embeddings\": \"GloVe\", \"Group Accuracy\": 0.9272519546305473, \"Group\": \"Privileged\"}, {\"Identity\": \"christian\", \"Embeddings\": \"ConceptNet\", \"Group Accuracy\": 0.9261920493337739, \"Group\": \"Privileged\"}, {\"Identity\": \"christian\", \"Embeddings\": \"Keras Embeddings\", \"Group Accuracy\": 0.9209200528576148, \"Group\": \"Privileged\"}, {\"Identity\": \"christian\", \"Embeddings\": \"Meta (FT+GV+CN)\", \"Group Accuracy\": 0.9272106596189847, \"Group\": \"Privileged\"}, {\"Identity\": \"jewish\", \"Embeddings\": \"FastText\", \"Group Accuracy\": 0.9283052710025389, \"Group\": \"Privileged\"}, {\"Identity\": \"jewish\", \"Embeddings\": \"GloVe\", \"Group Accuracy\": 0.9282042213492655, \"Group\": \"Privileged\"}, {\"Identity\": \"jewish\", \"Embeddings\": \"ConceptNet\", \"Group Accuracy\": 0.9267390013768015, \"Group\": \"Privileged\"}, {\"Identity\": \"jewish\", \"Embeddings\": \"Keras Embeddings\", \"Group Accuracy\": 0.9218128307797244, \"Group\": \"Privileged\"}, {\"Identity\": \"jewish\", \"Embeddings\": \"Meta (FT+GV+CN)\", \"Group Accuracy\": 0.9280652780760146, \"Group\": \"Privileged\"}, {\"Identity\": \"muslim\", \"Embeddings\": \"FastText\", \"Group Accuracy\": 0.9327414652005073, \"Group\": \"Privileged\"}, {\"Identity\": \"muslim\", \"Embeddings\": \"GloVe\", \"Group Accuracy\": 0.932819916057583, \"Group\": \"Privileged\"}, {\"Identity\": \"muslim\", \"Embeddings\": \"ConceptNet\", \"Group Accuracy\": 0.9313947254873759, \"Group\": \"Privileged\"}, {\"Identity\": \"muslim\", \"Embeddings\": \"Keras Embeddings\", \"Group Accuracy\": 0.92690995149122, \"Group\": \"Privileged\"}, {\"Identity\": \"muslim\", \"Embeddings\": \"Meta (FT+GV+CN)\", \"Group Accuracy\": 0.9325191877721264, \"Group\": \"Privileged\"}, {\"Identity\": \"black\", \"Embeddings\": \"FastText\", \"Group Accuracy\": 0.9326558178426706, \"Group\": \"Privileged\"}, {\"Identity\": \"black\", \"Embeddings\": \"GloVe\", \"Group Accuracy\": 0.9325271756608992, \"Group\": \"Privileged\"}, {\"Identity\": \"black\", \"Embeddings\": \"ConceptNet\", \"Group Accuracy\": 0.9314851739885508, \"Group\": \"Privileged\"}, {\"Identity\": \"black\", \"Embeddings\": \"Keras Embeddings\", \"Group Accuracy\": 0.9265195857721747, \"Group\": \"Privileged\"}, {\"Identity\": \"black\", \"Embeddings\": \"Meta (FT+GV+CN)\", \"Group Accuracy\": 0.9322956197337107, \"Group\": \"Privileged\"}, {\"Identity\": \"white\", \"Embeddings\": \"FastText\", \"Group Accuracy\": 0.9348976548374751, \"Group\": \"Privileged\"}, {\"Identity\": \"white\", \"Embeddings\": \"GloVe\", \"Group Accuracy\": 0.9347788790202315, \"Group\": \"Privileged\"}, {\"Identity\": \"white\", \"Embeddings\": \"ConceptNet\", \"Group Accuracy\": 0.9332479907090916, \"Group\": \"Privileged\"}, {\"Identity\": \"white\", \"Embeddings\": \"Keras Embeddings\", \"Group Accuracy\": 0.929236007548863, \"Group\": \"Privileged\"}, {\"Identity\": \"white\", \"Embeddings\": \"Meta (FT+GV+CN)\", \"Group Accuracy\": 0.9344753408206089, \"Group\": \"Privileged\"}, {\"Identity\": \"psychiatric_or_mental_illness\", \"Embeddings\": \"FastText\", \"Group Accuracy\": 0.9282198729377495, \"Group\": \"Privileged\"}, {\"Identity\": \"psychiatric_or_mental_illness\", \"Embeddings\": \"GloVe\", \"Group Accuracy\": 0.9280315395625643, \"Group\": \"Privileged\"}, {\"Identity\": \"psychiatric_or_mental_illness\", \"Embeddings\": \"ConceptNet\", \"Group Accuracy\": 0.9265876503528112, \"Group\": \"Privileged\"}, {\"Identity\": \"psychiatric_or_mental_illness\", \"Embeddings\": \"Keras Embeddings\", \"Group Accuracy\": 0.9217537603897246, \"Group\": \"Privileged\"}, {\"Identity\": \"psychiatric_or_mental_illness\", \"Embeddings\": \"Meta (FT+GV+CN)\", \"Group Accuracy\": 0.9278180950706878, \"Group\": \"Privileged\"}]}}, {\"mode\": \"vega-lite\"});\n",
       "</script>"
      ],
      "text/plain": [
       "alt.FacetChart(...)"
      ]
     },
     "execution_count": 17,
     "metadata": {},
     "output_type": "execute_result"
    }
   ],
   "source": [
    "bars = alt.Chart().mark_bar(width=30).encode(\n",
    "    x=alt.X('Group:O', axis=alt.Axis(labels=False)),\n",
    "    y=alt.Y('mean('+'Group Accuracy'+'):Q',  title='Mean', scale=alt.Scale(domain=[0.75, 1.0])),\n",
    "    color=alt.Color('Group:N'),\n",
    ").interactive()\n",
    "\n",
    "error_bars = alt.Chart().mark_errorbar(extent='ci').encode(\n",
    "    x='Group:O',\n",
    "    y='Group Accuracy'+':Q'\n",
    ")\n",
    "\n",
    "alt.layer(bars, error_bars, data=report_bc).properties(\n",
    "    width=100\n",
    ").facet(\n",
    "    column='Identity:N',\n",
    ").configure_axis(\n",
    "    labelFontSize=16,\n",
    "    titleFontSize=14\n",
    ")"
   ]
  },
  {
   "cell_type": "markdown",
   "metadata": {},
   "source": [
    "- Social Identites like Blacks, Homosexual Gay or Lesbian, Muslim and White have lower accuracy as compared to other identities and their Privileged counterparts."
   ]
  },
  {
   "cell_type": "markdown",
   "metadata": {},
   "source": [
    "### Disparate Impact"
   ]
  },
  {
   "cell_type": "code",
   "execution_count": 18,
   "metadata": {},
   "outputs": [
    {
     "data": {
      "text/html": [
       "\n",
       "<div id=\"altair-viz-9bb93584a38344c3b64f33b908f62e7e\"></div>\n",
       "<script type=\"text/javascript\">\n",
       "  (function(spec, embedOpt){\n",
       "    let outputDiv = document.currentScript.previousElementSibling;\n",
       "    if (outputDiv.id !== \"altair-viz-9bb93584a38344c3b64f33b908f62e7e\") {\n",
       "      outputDiv = document.getElementById(\"altair-viz-9bb93584a38344c3b64f33b908f62e7e\");\n",
       "    }\n",
       "    const paths = {\n",
       "      \"vega\": \"https://cdn.jsdelivr.net/npm//vega@5?noext\",\n",
       "      \"vega-lib\": \"https://cdn.jsdelivr.net/npm//vega-lib?noext\",\n",
       "      \"vega-lite\": \"https://cdn.jsdelivr.net/npm//vega-lite@4.8.1?noext\",\n",
       "      \"vega-embed\": \"https://cdn.jsdelivr.net/npm//vega-embed@6?noext\",\n",
       "    };\n",
       "\n",
       "    function loadScript(lib) {\n",
       "      return new Promise(function(resolve, reject) {\n",
       "        var s = document.createElement('script');\n",
       "        s.src = paths[lib];\n",
       "        s.async = true;\n",
       "        s.onload = () => resolve(paths[lib]);\n",
       "        s.onerror = () => reject(`Error loading script: ${paths[lib]}`);\n",
       "        document.getElementsByTagName(\"head\")[0].appendChild(s);\n",
       "      });\n",
       "    }\n",
       "\n",
       "    function showError(err) {\n",
       "      outputDiv.innerHTML = `<div class=\"error\" style=\"color:red;\">${err}</div>`;\n",
       "      throw err;\n",
       "    }\n",
       "\n",
       "    function displayChart(vegaEmbed) {\n",
       "      vegaEmbed(outputDiv, spec, embedOpt)\n",
       "        .catch(err => showError(`Javascript Error: ${err.message}<br>This usually means there's a typo in your chart specification. See the javascript console for the full traceback.`));\n",
       "    }\n",
       "\n",
       "    if(typeof define === \"function\" && define.amd) {\n",
       "      requirejs.config({paths});\n",
       "      require([\"vega-embed\"], displayChart, err => showError(`Error loading script: ${err.message}`));\n",
       "    } else if (typeof vegaEmbed === \"function\") {\n",
       "      displayChart(vegaEmbed);\n",
       "    } else {\n",
       "      loadScript(\"vega\")\n",
       "        .then(() => loadScript(\"vega-lite\"))\n",
       "        .then(() => loadScript(\"vega-embed\"))\n",
       "        .catch(showError)\n",
       "        .then(() => displayChart(vegaEmbed));\n",
       "    }\n",
       "  })({\"config\": {\"view\": {\"continuousWidth\": 400, \"continuousHeight\": 300}, \"axis\": {\"labelFontSize\": 16, \"titleFontSize\": 16}}, \"layer\": [{\"mark\": {\"type\": \"bar\", \"size\": 20}, \"encoding\": {\"color\": {\"type\": \"nominal\", \"field\": \"Identity\"}, \"x\": {\"type\": \"ordinal\", \"axis\": {\"labels\": false}, \"field\": \"Identity\"}, \"y\": {\"type\": \"quantitative\", \"aggregate\": \"mean\", \"field\": \"Disparate Impact - Toxicity\", \"scale\": {\"domain\": [1, 4.5]}, \"title\": \"Mean\"}}}, {\"mark\": {\"type\": \"errorbar\", \"extent\": \"ci\"}, \"encoding\": {\"x\": {\"type\": \"ordinal\", \"field\": \"Identity\"}, \"y\": {\"type\": \"quantitative\", \"field\": \"Disparate Impact - Toxicity\"}}}], \"data\": {\"name\": \"data-c0c549b1f96115f93d8a6da3338d21a7\"}, \"height\": 350, \"width\": 350, \"$schema\": \"https://vega.github.io/schema/vega-lite/v4.8.1.json\", \"datasets\": {\"data-c0c549b1f96115f93d8a6da3338d21a7\": [{\"Identity\": \"male\", \"Embeddings\": \"FastText\", \"Disparate Impact - Toxicity\": 1.7079589667160042}, {\"Identity\": \"male\", \"Embeddings\": \"GloVe\", \"Disparate Impact - Toxicity\": 1.7522038463157008}, {\"Identity\": \"male\", \"Embeddings\": \"ConceptNet\", \"Disparate Impact - Toxicity\": 2.1161180262327575}, {\"Identity\": \"male\", \"Embeddings\": \"Keras Embeddings\", \"Disparate Impact - Toxicity\": 1.8040042170936714}, {\"Identity\": \"male\", \"Embeddings\": \"Meta (FT+GV+CN)\", \"Disparate Impact - Toxicity\": 1.8744778375944928}, {\"Identity\": \"female\", \"Embeddings\": \"FastText\", \"Disparate Impact - Toxicity\": 1.479925363183949}, {\"Identity\": \"female\", \"Embeddings\": \"GloVe\", \"Disparate Impact - Toxicity\": 1.5240082463426199}, {\"Identity\": \"female\", \"Embeddings\": \"ConceptNet\", \"Disparate Impact - Toxicity\": 1.8279456187228587}, {\"Identity\": \"female\", \"Embeddings\": \"Keras Embeddings\", \"Disparate Impact - Toxicity\": 1.5682504578404026}, {\"Identity\": \"female\", \"Embeddings\": \"Meta (FT+GV+CN)\", \"Disparate Impact - Toxicity\": 1.6181111651679927}, {\"Identity\": \"homosexual_gay_or_lesbian\", \"Embeddings\": \"FastText\", \"Disparate Impact - Toxicity\": 3.0701708987427403}, {\"Identity\": \"homosexual_gay_or_lesbian\", \"Embeddings\": \"GloVe\", \"Disparate Impact - Toxicity\": 3.148994285103273}, {\"Identity\": \"homosexual_gay_or_lesbian\", \"Embeddings\": \"ConceptNet\", \"Disparate Impact - Toxicity\": 3.773948535531461}, {\"Identity\": \"homosexual_gay_or_lesbian\", \"Embeddings\": \"Keras Embeddings\", \"Disparate Impact - Toxicity\": 3.234813030455538}, {\"Identity\": \"homosexual_gay_or_lesbian\", \"Embeddings\": \"Meta (FT+GV+CN)\", \"Disparate Impact - Toxicity\": 3.3481345060447447}, {\"Identity\": \"christian\", \"Embeddings\": \"FastText\", \"Disparate Impact - Toxicity\": 0.9741825848604172}, {\"Identity\": \"christian\", \"Embeddings\": \"GloVe\", \"Disparate Impact - Toxicity\": 1.0025649395178757}, {\"Identity\": \"christian\", \"Embeddings\": \"ConceptNet\", \"Disparate Impact - Toxicity\": 1.1993780465580328}, {\"Identity\": \"christian\", \"Embeddings\": \"Keras Embeddings\", \"Disparate Impact - Toxicity\": 1.0326507364672206}, {\"Identity\": \"christian\", \"Embeddings\": \"Meta (FT+GV+CN)\", \"Disparate Impact - Toxicity\": 1.0644366499627242}, {\"Identity\": \"jewish\", \"Embeddings\": \"FastText\", \"Disparate Impact - Toxicity\": 1.6752644641053327}, {\"Identity\": \"jewish\", \"Embeddings\": \"GloVe\", \"Disparate Impact - Toxicity\": 1.7250406196423318}, {\"Identity\": \"jewish\", \"Embeddings\": \"ConceptNet\", \"Disparate Impact - Toxicity\": 2.072477980402127}, {\"Identity\": \"jewish\", \"Embeddings\": \"Keras Embeddings\", \"Disparate Impact - Toxicity\": 1.770900101625268}, {\"Identity\": \"jewish\", \"Embeddings\": \"Meta (FT+GV+CN)\", \"Disparate Impact - Toxicity\": 1.8380225132610788}, {\"Identity\": \"muslim\", \"Embeddings\": \"FastText\", \"Disparate Impact - Toxicity\": 2.526284731957473}, {\"Identity\": \"muslim\", \"Embeddings\": \"GloVe\", \"Disparate Impact - Toxicity\": 2.5918541336422556}, {\"Identity\": \"muslim\", \"Embeddings\": \"ConceptNet\", \"Disparate Impact - Toxicity\": 3.118410731055383}, {\"Identity\": \"muslim\", \"Embeddings\": \"Keras Embeddings\", \"Disparate Impact - Toxicity\": 2.6779465001109455}, {\"Identity\": \"muslim\", \"Embeddings\": \"Meta (FT+GV+CN)\", \"Disparate Impact - Toxicity\": 2.7669022166606005}, {\"Identity\": \"black\", \"Embeddings\": \"FastText\", \"Disparate Impact - Toxicity\": 3.730487857549791}, {\"Identity\": \"black\", \"Embeddings\": \"GloVe\", \"Disparate Impact - Toxicity\": 3.827944568686612}, {\"Identity\": \"black\", \"Embeddings\": \"ConceptNet\", \"Disparate Impact - Toxicity\": 4.593669853801515}, {\"Identity\": \"black\", \"Embeddings\": \"Keras Embeddings\", \"Disparate Impact - Toxicity\": 3.9360290841333496}, {\"Identity\": \"black\", \"Embeddings\": \"Meta (FT+GV+CN)\", \"Disparate Impact - Toxicity\": 4.091521903735}, {\"Identity\": \"white\", \"Embeddings\": \"FastText\", \"Disparate Impact - Toxicity\": 3.2766173272035393}, {\"Identity\": \"white\", \"Embeddings\": \"GloVe\", \"Disparate Impact - Toxicity\": 3.3593939457002864}, {\"Identity\": \"white\", \"Embeddings\": \"ConceptNet\", \"Disparate Impact - Toxicity\": 4.013011736822479}, {\"Identity\": \"white\", \"Embeddings\": \"Keras Embeddings\", \"Disparate Impact - Toxicity\": 3.4459065855380535}, {\"Identity\": \"white\", \"Embeddings\": \"Meta (FT+GV+CN)\", \"Disparate Impact - Toxicity\": 3.5982214480584753}, {\"Identity\": \"psychiatric_or_mental_illness\", \"Embeddings\": \"FastText\", \"Disparate Impact - Toxicity\": 2.410698372935011}, {\"Identity\": \"psychiatric_or_mental_illness\", \"Embeddings\": \"GloVe\", \"Disparate Impact - Toxicity\": 2.4828217258957714}, {\"Identity\": \"psychiatric_or_mental_illness\", \"Embeddings\": \"ConceptNet\", \"Disparate Impact - Toxicity\": 2.9916469191040407}, {\"Identity\": \"psychiatric_or_mental_illness\", \"Embeddings\": \"Keras Embeddings\", \"Disparate Impact - Toxicity\": 2.546127071106339}, {\"Identity\": \"psychiatric_or_mental_illness\", \"Embeddings\": \"Meta (FT+GV+CN)\", \"Disparate Impact - Toxicity\": 2.6466076938338503}]}}, {\"mode\": \"vega-lite\"});\n",
       "</script>"
      ],
      "text/plain": [
       "alt.LayerChart(...)"
      ]
     },
     "metadata": {},
     "output_type": "display_data"
    },
    {
     "data": {
      "text/html": [
       "\n",
       "<div id=\"altair-viz-67813b3eaad5411d8561af685446e1a1\"></div>\n",
       "<script type=\"text/javascript\">\n",
       "  (function(spec, embedOpt){\n",
       "    let outputDiv = document.currentScript.previousElementSibling;\n",
       "    if (outputDiv.id !== \"altair-viz-67813b3eaad5411d8561af685446e1a1\") {\n",
       "      outputDiv = document.getElementById(\"altair-viz-67813b3eaad5411d8561af685446e1a1\");\n",
       "    }\n",
       "    const paths = {\n",
       "      \"vega\": \"https://cdn.jsdelivr.net/npm//vega@5?noext\",\n",
       "      \"vega-lib\": \"https://cdn.jsdelivr.net/npm//vega-lib?noext\",\n",
       "      \"vega-lite\": \"https://cdn.jsdelivr.net/npm//vega-lite@4.8.1?noext\",\n",
       "      \"vega-embed\": \"https://cdn.jsdelivr.net/npm//vega-embed@6?noext\",\n",
       "    };\n",
       "\n",
       "    function loadScript(lib) {\n",
       "      return new Promise(function(resolve, reject) {\n",
       "        var s = document.createElement('script');\n",
       "        s.src = paths[lib];\n",
       "        s.async = true;\n",
       "        s.onload = () => resolve(paths[lib]);\n",
       "        s.onerror = () => reject(`Error loading script: ${paths[lib]}`);\n",
       "        document.getElementsByTagName(\"head\")[0].appendChild(s);\n",
       "      });\n",
       "    }\n",
       "\n",
       "    function showError(err) {\n",
       "      outputDiv.innerHTML = `<div class=\"error\" style=\"color:red;\">${err}</div>`;\n",
       "      throw err;\n",
       "    }\n",
       "\n",
       "    function displayChart(vegaEmbed) {\n",
       "      vegaEmbed(outputDiv, spec, embedOpt)\n",
       "        .catch(err => showError(`Javascript Error: ${err.message}<br>This usually means there's a typo in your chart specification. See the javascript console for the full traceback.`));\n",
       "    }\n",
       "\n",
       "    if(typeof define === \"function\" && define.amd) {\n",
       "      requirejs.config({paths});\n",
       "      require([\"vega-embed\"], displayChart, err => showError(`Error loading script: ${err.message}`));\n",
       "    } else if (typeof vegaEmbed === \"function\") {\n",
       "      displayChart(vegaEmbed);\n",
       "    } else {\n",
       "      loadScript(\"vega\")\n",
       "        .then(() => loadScript(\"vega-lite\"))\n",
       "        .then(() => loadScript(\"vega-embed\"))\n",
       "        .catch(showError)\n",
       "        .then(() => displayChart(vegaEmbed));\n",
       "    }\n",
       "  })({\"config\": {\"view\": {\"continuousWidth\": 400, \"continuousHeight\": 300}, \"axis\": {\"labelFontSize\": 16, \"titleFontSize\": 16}}, \"layer\": [{\"mark\": {\"type\": \"bar\", \"size\": 20}, \"encoding\": {\"color\": {\"type\": \"nominal\", \"field\": \"Identity\"}, \"x\": {\"type\": \"ordinal\", \"axis\": {\"labels\": false}, \"field\": \"Identity\"}, \"y\": {\"type\": \"quantitative\", \"aggregate\": \"mean\", \"field\": \"Disparate Impact - Non Toxicity\", \"scale\": {\"domain\": [0.65, 1]}, \"title\": \"Mean\"}}}, {\"mark\": {\"type\": \"errorbar\", \"extent\": \"ci\"}, \"encoding\": {\"x\": {\"type\": \"ordinal\", \"field\": \"Identity\"}, \"y\": {\"type\": \"quantitative\", \"field\": \"Disparate Impact - Non Toxicity\"}}}], \"data\": {\"name\": \"data-01e3c972416abd51078d65d6bb969ecb\"}, \"height\": 350, \"width\": 350, \"$schema\": \"https://vega.github.io/schema/vega-lite/v4.8.1.json\", \"datasets\": {\"data-01e3c972416abd51078d65d6bb969ecb\": [{\"Identity\": \"male\", \"Embeddings\": \"FastText\", \"Disparate Impact - Non Toxicity\": 0.9286341754628382}, {\"Identity\": \"male\", \"Embeddings\": \"GloVe\", \"Disparate Impact - Non Toxicity\": 0.9262764067972192}, {\"Identity\": \"male\", \"Embeddings\": \"ConceptNet\", \"Disparate Impact - Non Toxicity\": 0.9109227584917797}, {\"Identity\": \"male\", \"Embeddings\": \"Keras Embeddings\", \"Disparate Impact - Non Toxicity\": 0.9236769275193929}, {\"Identity\": \"male\", \"Embeddings\": \"Meta (FT+GV+CN)\", \"Disparate Impact - Non Toxicity\": 0.9203920690710952}, {\"Identity\": \"female\", \"Embeddings\": \"FastText\", \"Disparate Impact - Non Toxicity\": 0.9505638743371811}, {\"Identity\": \"female\", \"Embeddings\": \"GloVe\", \"Disparate Impact - Non Toxicity\": 0.9477400178707671}, {\"Identity\": \"female\", \"Embeddings\": \"ConceptNet\", \"Disparate Impact - Non Toxicity\": 0.9322804081414446}, {\"Identity\": \"female\", \"Embeddings\": \"Keras Embeddings\", \"Disparate Impact - Non Toxicity\": 0.9450809980714119}, {\"Identity\": \"female\", \"Embeddings\": \"Meta (FT+GV+CN)\", \"Disparate Impact - Non Toxicity\": 0.9422748503978133}, {\"Identity\": \"homosexual_gay_or_lesbian\", \"Embeddings\": \"FastText\", \"Disparate Impact - Non Toxicity\": 0.7910623456770053}, {\"Identity\": \"homosexual_gay_or_lesbian\", \"Embeddings\": \"GloVe\", \"Disparate Impact - Non Toxicity\": 0.7890688805266902}, {\"Identity\": \"homosexual_gay_or_lesbian\", \"Embeddings\": \"ConceptNet\", \"Disparate Impact - Non Toxicity\": 0.7764485613327036}, {\"Identity\": \"homosexual_gay_or_lesbian\", \"Embeddings\": \"Keras Embeddings\", \"Disparate Impact - Non Toxicity\": 0.7870194940604754}, {\"Identity\": \"homosexual_gay_or_lesbian\", \"Embeddings\": \"Meta (FT+GV+CN)\", \"Disparate Impact - Non Toxicity\": 0.7844890608682592}, {\"Identity\": \"christian\", \"Embeddings\": \"FastText\", \"Disparate Impact - Non Toxicity\": 1.0028428271369432}, {\"Identity\": \"christian\", \"Embeddings\": \"GloVe\", \"Disparate Impact - Non Toxicity\": 0.999726415828776}, {\"Identity\": \"christian\", \"Embeddings\": \"ConceptNet\", \"Disparate Impact - Non Toxicity\": 0.9825292356238615}, {\"Identity\": \"christian\", \"Embeddings\": \"Keras Embeddings\", \"Disparate Impact - Non Toxicity\": 0.9966293134927233}, {\"Identity\": \"christian\", \"Embeddings\": \"Meta (FT+GV+CN)\", \"Disparate Impact - Non Toxicity\": 0.9935663829575618}, {\"Identity\": \"jewish\", \"Embeddings\": \"FastText\", \"Disparate Impact - Non Toxicity\": 0.9287622109319995}, {\"Identity\": \"jewish\", \"Embeddings\": \"GloVe\", \"Disparate Impact - Non Toxicity\": 0.9259435484698214}, {\"Identity\": \"jewish\", \"Embeddings\": \"ConceptNet\", \"Disparate Impact - Non Toxicity\": 0.9103552732430568}, {\"Identity\": \"jewish\", \"Embeddings\": \"Keras Embeddings\", \"Disparate Impact - Non Toxicity\": 0.923500832713396}, {\"Identity\": \"jewish\", \"Embeddings\": \"Meta (FT+GV+CN)\", \"Disparate Impact - Non Toxicity\": 0.9201662489615016}, {\"Identity\": \"muslim\", \"Embeddings\": \"FastText\", \"Disparate Impact - Non Toxicity\": 0.8472705413924956}, {\"Identity\": \"muslim\", \"Embeddings\": \"GloVe\", \"Disparate Impact - Non Toxicity\": 0.8451310921057656}, {\"Identity\": \"muslim\", \"Embeddings\": \"ConceptNet\", \"Disparate Impact - Non Toxicity\": 0.8314720462950366}, {\"Identity\": \"muslim\", \"Embeddings\": \"Keras Embeddings\", \"Disparate Impact - Non Toxicity\": 0.8424960256267608}, {\"Identity\": \"muslim\", \"Embeddings\": \"Meta (FT+GV+CN)\", \"Disparate Impact - Non Toxicity\": 0.839961173263156}, {\"Identity\": \"black\", \"Embeddings\": \"FastText\", \"Disparate Impact - Non Toxicity\": 0.733474590392227}, {\"Identity\": \"black\", \"Embeddings\": \"GloVe\", \"Disparate Impact - Non Toxicity\": 0.7316563486402193}, {\"Identity\": \"black\", \"Embeddings\": \"ConceptNet\", \"Disparate Impact - Non Toxicity\": 0.7202636879793444}, {\"Identity\": \"black\", \"Embeddings\": \"Keras Embeddings\", \"Disparate Impact - Non Toxicity\": 0.7297548212460601}, {\"Identity\": \"black\", \"Embeddings\": \"Meta (FT+GV+CN)\", \"Disparate Impact - Non Toxicity\": 0.7272110180417501}, {\"Identity\": \"white\", \"Embeddings\": \"FastText\", \"Disparate Impact - Non Toxicity\": 0.7851583989377673}, {\"Identity\": \"white\", \"Embeddings\": \"GloVe\", \"Disparate Impact - Non Toxicity\": 0.7833369219604045}, {\"Identity\": \"white\", \"Embeddings\": \"ConceptNet\", \"Disparate Impact - Non Toxicity\": 0.7717933840264072}, {\"Identity\": \"white\", \"Embeddings\": \"Keras Embeddings\", \"Disparate Impact - Non Toxicity\": 0.7815351119041414}, {\"Identity\": \"white\", \"Embeddings\": \"Meta (FT+GV+CN)\", \"Disparate Impact - Non Toxicity\": 0.7785913292761995}, {\"Identity\": \"psychiatric_or_mental_illness\", \"Embeddings\": \"FastText\", \"Disparate Impact - Non Toxicity\": 0.852507315051839}, {\"Identity\": \"psychiatric_or_mental_illness\", \"Embeddings\": \"GloVe\", \"Disparate Impact - Non Toxicity\": 0.8499259597716305}, {\"Identity\": \"psychiatric_or_mental_illness\", \"Embeddings\": \"ConceptNet\", \"Disparate Impact - Non Toxicity\": 0.8355431483389236}, {\"Identity\": \"psychiatric_or_mental_illness\", \"Embeddings\": \"Keras Embeddings\", \"Disparate Impact - Non Toxicity\": 0.8477925879412335}, {\"Identity\": \"psychiatric_or_mental_illness\", \"Embeddings\": \"Meta (FT+GV+CN)\", \"Disparate Impact - Non Toxicity\": 0.8446357461141669}]}}, {\"mode\": \"vega-lite\"});\n",
       "</script>"
      ],
      "text/plain": [
       "alt.LayerChart(...)"
      ]
     },
     "metadata": {},
     "output_type": "display_data"
    }
   ],
   "source": [
    "display(plot_on_class(report_e1, 'Disparate Impact - Toxicity', [1, 4.5]))\n",
    "display(plot_on_class(report_e0, 'Disparate Impact - Non Toxicity', [0.65, 1]))"
   ]
  },
  {
   "cell_type": "markdown",
   "metadata": {},
   "source": [
    "### False Positive Rate"
   ]
  },
  {
   "cell_type": "code",
   "execution_count": 19,
   "metadata": {},
   "outputs": [
    {
     "data": {
      "text/html": [
       "\n",
       "<div id=\"altair-viz-e9fcb3692e4242bd944de5129f0ad6c9\"></div>\n",
       "<script type=\"text/javascript\">\n",
       "  (function(spec, embedOpt){\n",
       "    let outputDiv = document.currentScript.previousElementSibling;\n",
       "    if (outputDiv.id !== \"altair-viz-e9fcb3692e4242bd944de5129f0ad6c9\") {\n",
       "      outputDiv = document.getElementById(\"altair-viz-e9fcb3692e4242bd944de5129f0ad6c9\");\n",
       "    }\n",
       "    const paths = {\n",
       "      \"vega\": \"https://cdn.jsdelivr.net/npm//vega@5?noext\",\n",
       "      \"vega-lib\": \"https://cdn.jsdelivr.net/npm//vega-lib?noext\",\n",
       "      \"vega-lite\": \"https://cdn.jsdelivr.net/npm//vega-lite@4.8.1?noext\",\n",
       "      \"vega-embed\": \"https://cdn.jsdelivr.net/npm//vega-embed@6?noext\",\n",
       "    };\n",
       "\n",
       "    function loadScript(lib) {\n",
       "      return new Promise(function(resolve, reject) {\n",
       "        var s = document.createElement('script');\n",
       "        s.src = paths[lib];\n",
       "        s.async = true;\n",
       "        s.onload = () => resolve(paths[lib]);\n",
       "        s.onerror = () => reject(`Error loading script: ${paths[lib]}`);\n",
       "        document.getElementsByTagName(\"head\")[0].appendChild(s);\n",
       "      });\n",
       "    }\n",
       "\n",
       "    function showError(err) {\n",
       "      outputDiv.innerHTML = `<div class=\"error\" style=\"color:red;\">${err}</div>`;\n",
       "      throw err;\n",
       "    }\n",
       "\n",
       "    function displayChart(vegaEmbed) {\n",
       "      vegaEmbed(outputDiv, spec, embedOpt)\n",
       "        .catch(err => showError(`Javascript Error: ${err.message}<br>This usually means there's a typo in your chart specification. See the javascript console for the full traceback.`));\n",
       "    }\n",
       "\n",
       "    if(typeof define === \"function\" && define.amd) {\n",
       "      requirejs.config({paths});\n",
       "      require([\"vega-embed\"], displayChart, err => showError(`Error loading script: ${err.message}`));\n",
       "    } else if (typeof vegaEmbed === \"function\") {\n",
       "      displayChart(vegaEmbed);\n",
       "    } else {\n",
       "      loadScript(\"vega\")\n",
       "        .then(() => loadScript(\"vega-lite\"))\n",
       "        .then(() => loadScript(\"vega-embed\"))\n",
       "        .catch(showError)\n",
       "        .then(() => displayChart(vegaEmbed));\n",
       "    }\n",
       "  })({\"config\": {\"view\": {\"continuousWidth\": 400, \"continuousHeight\": 300}, \"axis\": {\"labelFontSize\": 16, \"titleFontSize\": 16}}, \"layer\": [{\"mark\": {\"type\": \"bar\", \"size\": 20}, \"encoding\": {\"color\": {\"type\": \"nominal\", \"field\": \"Identity\"}, \"x\": {\"type\": \"ordinal\", \"axis\": {\"labels\": false}, \"field\": \"Identity\"}, \"y\": {\"type\": \"quantitative\", \"aggregate\": \"mean\", \"field\": \"False Positive Rate Difference\", \"scale\": {\"domain\": [0.0, 0.16]}, \"title\": \"Mean\"}}}, {\"mark\": {\"type\": \"errorbar\", \"extent\": \"ci\"}, \"encoding\": {\"x\": {\"type\": \"ordinal\", \"field\": \"Identity\"}, \"y\": {\"type\": \"quantitative\", \"field\": \"False Positive Rate Difference\"}}}], \"data\": {\"name\": \"data-78cfc7d31f9fc8007613a198bb47e75c\"}, \"height\": 350, \"width\": 350, \"$schema\": \"https://vega.github.io/schema/vega-lite/v4.8.1.json\", \"datasets\": {\"data-78cfc7d31f9fc8007613a198bb47e75c\": [{\"Identity\": \"male\", \"Embeddings\": \"FastText\", \"False Positive Rate Difference\": 0.025580260858219496}, {\"Identity\": \"male\", \"Embeddings\": \"GloVe\", \"False Positive Rate Difference\": 0.026625790100379597}, {\"Identity\": \"male\", \"Embeddings\": \"ConceptNet\", \"False Positive Rate Difference\": 0.02938601559070282}, {\"Identity\": \"male\", \"Embeddings\": \"Keras Embeddings\", \"False Positive Rate Difference\": 0.027520535730005374}, {\"Identity\": \"male\", \"Embeddings\": \"Meta (FT+GV+CN)\", \"False Positive Rate Difference\": 0.02638921694391138}, {\"Identity\": \"female\", \"Embeddings\": \"FastText\", \"False Positive Rate Difference\": 0.017668066026993133}, {\"Identity\": \"female\", \"Embeddings\": \"GloVe\", \"False Positive Rate Difference\": 0.01786583653487439}, {\"Identity\": \"female\", \"Embeddings\": \"ConceptNet\", \"False Positive Rate Difference\": 0.02005408511348497}, {\"Identity\": \"female\", \"Embeddings\": \"Keras Embeddings\", \"False Positive Rate Difference\": 0.0185571875837688}, {\"Identity\": \"female\", \"Embeddings\": \"Meta (FT+GV+CN)\", \"False Positive Rate Difference\": 0.02015223469745793}, {\"Identity\": \"homosexual_gay_or_lesbian\", \"Embeddings\": \"FastText\", \"False Positive Rate Difference\": 0.11027684980966668}, {\"Identity\": \"homosexual_gay_or_lesbian\", \"Embeddings\": \"GloVe\", \"False Positive Rate Difference\": 0.1141495131567276}, {\"Identity\": \"homosexual_gay_or_lesbian\", \"Embeddings\": \"ConceptNet\", \"False Positive Rate Difference\": 0.12747581029607585}, {\"Identity\": \"homosexual_gay_or_lesbian\", \"Embeddings\": \"Keras Embeddings\", \"False Positive Rate Difference\": 0.12011929389706913}, {\"Identity\": \"homosexual_gay_or_lesbian\", \"Embeddings\": \"Meta (FT+GV+CN)\", \"False Positive Rate Difference\": 0.12440669872895112}, {\"Identity\": \"christian\", \"Embeddings\": \"FastText\", \"False Positive Rate Difference\": 0.00439005998413311}, {\"Identity\": \"christian\", \"Embeddings\": \"GloVe\", \"False Positive Rate Difference\": 0.003744507695689528}, {\"Identity\": \"christian\", \"Embeddings\": \"ConceptNet\", \"False Positive Rate Difference\": 0.005533126494758629}, {\"Identity\": \"christian\", \"Embeddings\": \"Keras Embeddings\", \"False Positive Rate Difference\": 0.0014951166693539242}, {\"Identity\": \"christian\", \"Embeddings\": \"Meta (FT+GV+CN)\", \"False Positive Rate Difference\": 0.005279739299141585}, {\"Identity\": \"jewish\", \"Embeddings\": \"FastText\", \"False Positive Rate Difference\": 0.03836991254037852}, {\"Identity\": \"jewish\", \"Embeddings\": \"GloVe\", \"False Positive Rate Difference\": 0.03769310931856872}, {\"Identity\": \"jewish\", \"Embeddings\": \"ConceptNet\", \"False Positive Rate Difference\": 0.04388579949391433}, {\"Identity\": \"jewish\", \"Embeddings\": \"Keras Embeddings\", \"False Positive Rate Difference\": 0.03522950080729301}, {\"Identity\": \"jewish\", \"Embeddings\": \"Meta (FT+GV+CN)\", \"False Positive Rate Difference\": 0.04126254119358258}, {\"Identity\": \"muslim\", \"Embeddings\": \"FastText\", \"False Positive Rate Difference\": 0.08351228825268839}, {\"Identity\": \"muslim\", \"Embeddings\": \"GloVe\", \"False Positive Rate Difference\": 0.08917791686547476}, {\"Identity\": \"muslim\", \"Embeddings\": \"ConceptNet\", \"False Positive Rate Difference\": 0.0956532836649455}, {\"Identity\": \"muslim\", \"Embeddings\": \"Keras Embeddings\", \"False Positive Rate Difference\": 0.09029114417027731}, {\"Identity\": \"muslim\", \"Embeddings\": \"Meta (FT+GV+CN)\", \"False Positive Rate Difference\": 0.08911363182285194}, {\"Identity\": \"black\", \"Embeddings\": \"FastText\", \"False Positive Rate Difference\": 0.13423108702018893}, {\"Identity\": \"black\", \"Embeddings\": \"GloVe\", \"False Positive Rate Difference\": 0.13918562250269417}, {\"Identity\": \"black\", \"Embeddings\": \"ConceptNet\", \"False Positive Rate Difference\": 0.1603256323577249}, {\"Identity\": \"black\", \"Embeddings\": \"Keras Embeddings\", \"False Positive Rate Difference\": 0.14575406537184687}, {\"Identity\": \"black\", \"Embeddings\": \"Meta (FT+GV+CN)\", \"False Positive Rate Difference\": 0.14047581035259243}, {\"Identity\": \"white\", \"Embeddings\": \"FastText\", \"False Positive Rate Difference\": 0.1030713102459741}, {\"Identity\": \"white\", \"Embeddings\": \"GloVe\", \"False Positive Rate Difference\": 0.1073878400820593}, {\"Identity\": \"white\", \"Embeddings\": \"ConceptNet\", \"False Positive Rate Difference\": 0.12077241106364636}, {\"Identity\": \"white\", \"Embeddings\": \"Keras Embeddings\", \"False Positive Rate Difference\": 0.11813871261048729}, {\"Identity\": \"white\", \"Embeddings\": \"Meta (FT+GV+CN)\", \"False Positive Rate Difference\": 0.1074962150609563}, {\"Identity\": \"psychiatric_or_mental_illness\", \"Embeddings\": \"FastText\", \"False Positive Rate Difference\": 0.05314911217672874}, {\"Identity\": \"psychiatric_or_mental_illness\", \"Embeddings\": \"GloVe\", \"False Positive Rate Difference\": 0.048275862068965524}, {\"Identity\": \"psychiatric_or_mental_illness\", \"Embeddings\": \"ConceptNet\", \"False Positive Rate Difference\": 0.05608150854478074}, {\"Identity\": \"psychiatric_or_mental_illness\", \"Embeddings\": \"Keras Embeddings\", \"False Positive Rate Difference\": 0.054425374555567084}, {\"Identity\": \"psychiatric_or_mental_illness\", \"Embeddings\": \"Meta (FT+GV+CN)\", \"False Positive Rate Difference\": 0.05093730187652292}]}}, {\"mode\": \"vega-lite\"});\n",
       "</script>"
      ],
      "text/plain": [
       "alt.LayerChart(...)"
      ]
     },
     "metadata": {},
     "output_type": "display_data"
    }
   ],
   "source": [
    "display(plot_on_class(report_f, 'False Positive Rate Difference', [0.0, 0.16]))"
   ]
  },
  {
   "cell_type": "markdown",
   "metadata": {},
   "source": [
    "## D. Visualizations for Embeddings"
   ]
  },
  {
   "cell_type": "markdown",
   "metadata": {},
   "source": [
    "### Accuracy"
   ]
  },
  {
   "cell_type": "code",
   "execution_count": 20,
   "metadata": {},
   "outputs": [
    {
     "data": {
      "text/html": [
       "\n",
       "<div id=\"altair-viz-2b1d454acebc4da9bb13eff843204254\"></div>\n",
       "<script type=\"text/javascript\">\n",
       "  (function(spec, embedOpt){\n",
       "    let outputDiv = document.currentScript.previousElementSibling;\n",
       "    if (outputDiv.id !== \"altair-viz-2b1d454acebc4da9bb13eff843204254\") {\n",
       "      outputDiv = document.getElementById(\"altair-viz-2b1d454acebc4da9bb13eff843204254\");\n",
       "    }\n",
       "    const paths = {\n",
       "      \"vega\": \"https://cdn.jsdelivr.net/npm//vega@5?noext\",\n",
       "      \"vega-lib\": \"https://cdn.jsdelivr.net/npm//vega-lib?noext\",\n",
       "      \"vega-lite\": \"https://cdn.jsdelivr.net/npm//vega-lite@4.8.1?noext\",\n",
       "      \"vega-embed\": \"https://cdn.jsdelivr.net/npm//vega-embed@6?noext\",\n",
       "    };\n",
       "\n",
       "    function loadScript(lib) {\n",
       "      return new Promise(function(resolve, reject) {\n",
       "        var s = document.createElement('script');\n",
       "        s.src = paths[lib];\n",
       "        s.async = true;\n",
       "        s.onload = () => resolve(paths[lib]);\n",
       "        s.onerror = () => reject(`Error loading script: ${paths[lib]}`);\n",
       "        document.getElementsByTagName(\"head\")[0].appendChild(s);\n",
       "      });\n",
       "    }\n",
       "\n",
       "    function showError(err) {\n",
       "      outputDiv.innerHTML = `<div class=\"error\" style=\"color:red;\">${err}</div>`;\n",
       "      throw err;\n",
       "    }\n",
       "\n",
       "    function displayChart(vegaEmbed) {\n",
       "      vegaEmbed(outputDiv, spec, embedOpt)\n",
       "        .catch(err => showError(`Javascript Error: ${err.message}<br>This usually means there's a typo in your chart specification. See the javascript console for the full traceback.`));\n",
       "    }\n",
       "\n",
       "    if(typeof define === \"function\" && define.amd) {\n",
       "      requirejs.config({paths});\n",
       "      require([\"vega-embed\"], displayChart, err => showError(`Error loading script: ${err.message}`));\n",
       "    } else if (typeof vegaEmbed === \"function\") {\n",
       "      displayChart(vegaEmbed);\n",
       "    } else {\n",
       "      loadScript(\"vega\")\n",
       "        .then(() => loadScript(\"vega-lite\"))\n",
       "        .then(() => loadScript(\"vega-embed\"))\n",
       "        .catch(showError)\n",
       "        .then(() => displayChart(vegaEmbed));\n",
       "    }\n",
       "  })({\"config\": {\"view\": {\"continuousWidth\": 400, \"continuousHeight\": 300}}, \"data\": {\"name\": \"data-0e876fc7a8db7fe7db22dcdb0f412c63\"}, \"mark\": {\"type\": \"bar\", \"size\": 30}, \"encoding\": {\"color\": {\"type\": \"nominal\", \"field\": \"Embeddings\"}, \"x\": {\"type\": \"nominal\", \"axis\": {\"labels\": false}, \"field\": \"Embeddings\"}, \"y\": {\"type\": \"quantitative\", \"field\": \"Global Accuracy\", \"scale\": {\"domain\": [0.918, 0.93]}}}, \"height\": 300, \"width\": 300, \"$schema\": \"https://vega.github.io/schema/vega-lite/v4.8.1.json\", \"datasets\": {\"data-0e876fc7a8db7fe7db22dcdb0f412c63\": [{\"Embeddings\": \"FastText\", \"Global Accuracy\": 0.9275365911090732}, {\"Embeddings\": \"GloVe\", \"Global Accuracy\": 0.9274126584788509}, {\"Embeddings\": \"ConceptNet\", \"Global Accuracy\": 0.9259130736531621}, {\"Embeddings\": \"Keras Embeddings\", \"Global Accuracy\": 0.9210673078114737}, {\"Embeddings\": \"Meta (FT+GV+CN)\", \"Global Accuracy\": 0.9272019730074731}]}}, {\"mode\": \"vega-lite\"});\n",
       "</script>"
      ],
      "text/plain": [
       "alt.Chart(...)"
      ]
     },
     "execution_count": 20,
     "metadata": {},
     "output_type": "execute_result"
    }
   ],
   "source": [
    "alt.Chart(report_a).mark_bar(size=30).encode(\n",
    "    x=alt.X('Embeddings', axis=alt.Axis(labels=False)),\n",
    "    y=alt.Y('Global Accuracy',scale=alt.Scale(domain=[0.918, 0.930])),\n",
    "    color=alt.Color('Embeddings:N'),\n",
    ").properties(\n",
    "    width=300,\n",
    "    height=300\n",
    ")\n"
   ]
  },
  {
   "cell_type": "code",
   "execution_count": 21,
   "metadata": {},
   "outputs": [],
   "source": [
    "# Plots by aggregating on Identities\n",
    "def plot_on_emb(source, y_ax, y_dom, t):\n",
    "    \n",
    "    chart = alt.Chart(source,title = t ).mark_boxplot(size=30).encode(\n",
    "        x=alt.X('Embeddings:O', axis=alt.Axis(labels=False)),\n",
    "        y=alt.Y(y_ax+':Q',scale=alt.Scale(domain=y_dom)),\n",
    "        color=alt.Color('Embeddings:N', legend=None)\n",
    "    ).properties(\n",
    "        width=350,\n",
    "        height=350\n",
    "    ).configure_axis(\n",
    "       labelFontSize=14,\n",
    "       titleFontSize=14\n",
    "    )\n",
    "\n",
    "    return chart"
   ]
  },
  {
   "cell_type": "code",
   "execution_count": 22,
   "metadata": {},
   "outputs": [
    {
     "data": {
      "text/html": [
       "\n",
       "<div id=\"altair-viz-47d914cc769943e297879f11774e300c\"></div>\n",
       "<script type=\"text/javascript\">\n",
       "  (function(spec, embedOpt){\n",
       "    let outputDiv = document.currentScript.previousElementSibling;\n",
       "    if (outputDiv.id !== \"altair-viz-47d914cc769943e297879f11774e300c\") {\n",
       "      outputDiv = document.getElementById(\"altair-viz-47d914cc769943e297879f11774e300c\");\n",
       "    }\n",
       "    const paths = {\n",
       "      \"vega\": \"https://cdn.jsdelivr.net/npm//vega@5?noext\",\n",
       "      \"vega-lib\": \"https://cdn.jsdelivr.net/npm//vega-lib?noext\",\n",
       "      \"vega-lite\": \"https://cdn.jsdelivr.net/npm//vega-lite@4.8.1?noext\",\n",
       "      \"vega-embed\": \"https://cdn.jsdelivr.net/npm//vega-embed@6?noext\",\n",
       "    };\n",
       "\n",
       "    function loadScript(lib) {\n",
       "      return new Promise(function(resolve, reject) {\n",
       "        var s = document.createElement('script');\n",
       "        s.src = paths[lib];\n",
       "        s.async = true;\n",
       "        s.onload = () => resolve(paths[lib]);\n",
       "        s.onerror = () => reject(`Error loading script: ${paths[lib]}`);\n",
       "        document.getElementsByTagName(\"head\")[0].appendChild(s);\n",
       "      });\n",
       "    }\n",
       "\n",
       "    function showError(err) {\n",
       "      outputDiv.innerHTML = `<div class=\"error\" style=\"color:red;\">${err}</div>`;\n",
       "      throw err;\n",
       "    }\n",
       "\n",
       "    function displayChart(vegaEmbed) {\n",
       "      vegaEmbed(outputDiv, spec, embedOpt)\n",
       "        .catch(err => showError(`Javascript Error: ${err.message}<br>This usually means there's a typo in your chart specification. See the javascript console for the full traceback.`));\n",
       "    }\n",
       "\n",
       "    if(typeof define === \"function\" && define.amd) {\n",
       "      requirejs.config({paths});\n",
       "      require([\"vega-embed\"], displayChart, err => showError(`Error loading script: ${err.message}`));\n",
       "    } else if (typeof vegaEmbed === \"function\") {\n",
       "      displayChart(vegaEmbed);\n",
       "    } else {\n",
       "      loadScript(\"vega\")\n",
       "        .then(() => loadScript(\"vega-lite\"))\n",
       "        .then(() => loadScript(\"vega-embed\"))\n",
       "        .catch(showError)\n",
       "        .then(() => displayChart(vegaEmbed));\n",
       "    }\n",
       "  })({\"config\": {\"view\": {\"continuousWidth\": 400, \"continuousHeight\": 300}, \"axis\": {\"labelFontSize\": 14, \"titleFontSize\": 14}}, \"data\": {\"name\": \"data-f228507f568bca499b3e08cc20ec06fd\"}, \"facet\": {\"column\": {\"type\": \"nominal\", \"field\": \"Embeddings\"}}, \"spec\": {\"layer\": [{\"mark\": {\"type\": \"bar\", \"width\": 30}, \"encoding\": {\"color\": {\"type\": \"nominal\", \"field\": \"Group\"}, \"x\": {\"type\": \"ordinal\", \"axis\": {\"labels\": false}, \"field\": \"Group\"}, \"y\": {\"type\": \"quantitative\", \"aggregate\": \"mean\", \"field\": \"Group Accuracy\", \"scale\": {\"domain\": [0.8, 1.0]}, \"title\": \"Mean\"}}, \"selection\": {\"selector002\": {\"type\": \"interval\", \"bind\": \"scales\", \"encodings\": [\"x\", \"y\"]}}}, {\"mark\": {\"type\": \"errorbar\", \"extent\": \"ci\"}, \"encoding\": {\"x\": {\"type\": \"ordinal\", \"field\": \"Group\"}, \"y\": {\"type\": \"quantitative\", \"field\": \"Group Accuracy\"}}}], \"width\": 100}, \"$schema\": \"https://vega.github.io/schema/vega-lite/v4.8.1.json\", \"datasets\": {\"data-f228507f568bca499b3e08cc20ec06fd\": [{\"Identity\": \"male\", \"Embeddings\": \"FastText\", \"Group Accuracy\": 0.8980898876404494, \"Group\": \"Unprivileged\"}, {\"Identity\": \"male\", \"Embeddings\": \"GloVe\", \"Group Accuracy\": 0.8989887640449438, \"Group\": \"Unprivileged\"}, {\"Identity\": \"male\", \"Embeddings\": \"ConceptNet\", \"Group Accuracy\": 0.8957303370786517, \"Group\": \"Unprivileged\"}, {\"Identity\": \"male\", \"Embeddings\": \"Keras Embeddings\", \"Group Accuracy\": 0.89, \"Group\": \"Unprivileged\"}, {\"Identity\": \"male\", \"Embeddings\": \"Meta (FT+GV+CN)\", \"Group Accuracy\": 0.8986516853932585, \"Group\": \"Unprivileged\"}, {\"Identity\": \"female\", \"Embeddings\": \"FastText\", \"Group Accuracy\": 0.9088874382169169, \"Group\": \"Unprivileged\"}, {\"Identity\": \"female\", \"Embeddings\": \"GloVe\", \"Group Accuracy\": 0.9084211507973515, \"Group\": \"Unprivileged\"}, {\"Identity\": \"female\", \"Embeddings\": \"ConceptNet\", \"Group Accuracy\": 0.9071155460225683, \"Group\": \"Unprivileged\"}, {\"Identity\": \"female\", \"Embeddings\": \"Keras Embeddings\", \"Group Accuracy\": 0.8999347197612608, \"Group\": \"Unprivileged\"}, {\"Identity\": \"female\", \"Embeddings\": \"Meta (FT+GV+CN)\", \"Group Accuracy\": 0.9073020609903945, \"Group\": \"Unprivileged\"}, {\"Identity\": \"homosexual_gay_or_lesbian\", \"Embeddings\": \"FastText\", \"Group Accuracy\": 0.8003557136505114, \"Group\": \"Unprivileged\"}, {\"Identity\": \"homosexual_gay_or_lesbian\", \"Embeddings\": \"GloVe\", \"Group Accuracy\": 0.8039128501556247, \"Group\": \"Unprivileged\"}, {\"Identity\": \"homosexual_gay_or_lesbian\", \"Embeddings\": \"ConceptNet\", \"Group Accuracy\": 0.802134281903068, \"Group\": \"Unprivileged\"}, {\"Identity\": \"homosexual_gay_or_lesbian\", \"Embeddings\": \"Keras Embeddings\", \"Group Accuracy\": 0.7887950200088928, \"Group\": \"Unprivileged\"}, {\"Identity\": \"homosexual_gay_or_lesbian\", \"Embeddings\": \"Meta (FT+GV+CN)\", \"Group Accuracy\": 0.7976878612716763, \"Group\": \"Unprivileged\"}, {\"Identity\": \"christian\", \"Embeddings\": \"FastText\", \"Group Accuracy\": 0.9288645690834473, \"Group\": \"Unprivileged\"}, {\"Identity\": \"christian\", \"Embeddings\": \"GloVe\", \"Group Accuracy\": 0.9288645690834473, \"Group\": \"Unprivileged\"}, {\"Identity\": \"christian\", \"Embeddings\": \"ConceptNet\", \"Group Accuracy\": 0.9233926128590971, \"Group\": \"Unprivileged\"}, {\"Identity\": \"christian\", \"Embeddings\": \"Keras Embeddings\", \"Group Accuracy\": 0.922397711727397, \"Group\": \"Unprivileged\"}, {\"Identity\": \"christian\", \"Embeddings\": \"Meta (FT+GV+CN)\", \"Group Accuracy\": 0.9271234921029723, \"Group\": \"Unprivileged\"}, {\"Identity\": \"jewish\", \"Embeddings\": \"FastText\", \"Group Accuracy\": 0.8875, \"Group\": \"Unprivileged\"}, {\"Identity\": \"jewish\", \"Embeddings\": \"GloVe\", \"Group Accuracy\": 0.8861842105263158, \"Group\": \"Unprivileged\"}, {\"Identity\": \"jewish\", \"Embeddings\": \"ConceptNet\", \"Group Accuracy\": 0.8828947368421053, \"Group\": \"Unprivileged\"}, {\"Identity\": \"jewish\", \"Embeddings\": \"Keras Embeddings\", \"Group Accuracy\": 0.8822368421052632, \"Group\": \"Unprivileged\"}, {\"Identity\": \"jewish\", \"Embeddings\": \"Meta (FT+GV+CN)\", \"Group Accuracy\": 0.8822368421052632, \"Group\": \"Unprivileged\"}, {\"Identity\": \"muslim\", \"Embeddings\": \"FastText\", \"Group Accuracy\": 0.8329372623574145, \"Group\": \"Unprivileged\"}, {\"Identity\": \"muslim\", \"Embeddings\": \"GloVe\", \"Group Accuracy\": 0.8291349809885932, \"Group\": \"Unprivileged\"}, {\"Identity\": \"muslim\", \"Embeddings\": \"ConceptNet\", \"Group Accuracy\": 0.8262832699619772, \"Group\": \"Unprivileged\"}, {\"Identity\": \"muslim\", \"Embeddings\": \"Keras Embeddings\", \"Group Accuracy\": 0.8148764258555133, \"Group\": \"Unprivileged\"}, {\"Identity\": \"muslim\", \"Embeddings\": \"Meta (FT+GV+CN)\", \"Group Accuracy\": 0.8305608365019012, \"Group\": \"Unprivileged\"}, {\"Identity\": \"black\", \"Embeddings\": \"FastText\", \"Group Accuracy\": 0.7928232904536222, \"Group\": \"Unprivileged\"}, {\"Identity\": \"black\", \"Embeddings\": \"GloVe\", \"Group Accuracy\": 0.7928232904536222, \"Group\": \"Unprivileged\"}, {\"Identity\": \"black\", \"Embeddings\": \"ConceptNet\", \"Group Accuracy\": 0.7792823290453622, \"Group\": \"Unprivileged\"}, {\"Identity\": \"black\", \"Embeddings\": \"Keras Embeddings\", \"Group Accuracy\": 0.7775897088693298, \"Group\": \"Unprivileged\"}, {\"Identity\": \"black\", \"Embeddings\": \"Meta (FT+GV+CN)\", \"Group Accuracy\": 0.7931618144888287, \"Group\": \"Unprivileged\"}, {\"Identity\": \"white\", \"Embeddings\": \"FastText\", \"Group Accuracy\": 0.8140764849471115, \"Group\": \"Unprivileged\"}, {\"Identity\": \"white\", \"Embeddings\": \"GloVe\", \"Group Accuracy\": 0.813873067534581, \"Group\": \"Unprivileged\"}, {\"Identity\": \"white\", \"Embeddings\": \"ConceptNet\", \"Group Accuracy\": 0.8128559804719284, \"Group\": \"Unprivileged\"}, {\"Identity\": \"white\", \"Embeddings\": \"Keras Embeddings\", \"Group Accuracy\": 0.7951586655817738, \"Group\": \"Unprivileged\"}, {\"Identity\": \"white\", \"Embeddings\": \"Meta (FT+GV+CN)\", \"Group Accuracy\": 0.8150935720097641, \"Group\": \"Unprivileged\"}, {\"Identity\": \"psychiatric_or_mental_illness\", \"Embeddings\": \"FastText\", \"Group Accuracy\": 0.87535953978907, \"Group\": \"Unprivileged\"}, {\"Identity\": \"psychiatric_or_mental_illness\", \"Embeddings\": \"GloVe\", \"Group Accuracy\": 0.8801534036433365, \"Group\": \"Unprivileged\"}, {\"Identity\": \"psychiatric_or_mental_illness\", \"Embeddings\": \"ConceptNet\", \"Group Accuracy\": 0.8744007670182167, \"Group\": \"Unprivileged\"}, {\"Identity\": \"psychiatric_or_mental_illness\", \"Embeddings\": \"Keras Embeddings\", \"Group Accuracy\": 0.8686481303930969, \"Group\": \"Unprivileged\"}, {\"Identity\": \"psychiatric_or_mental_illness\", \"Embeddings\": \"Meta (FT+GV+CN)\", \"Group Accuracy\": 0.8801534036433365, \"Group\": \"Unprivileged\"}, {\"Identity\": \"male\", \"Embeddings\": \"FastText\", \"Group Accuracy\": 0.9311872292412486, \"Group\": \"Privileged\"}, {\"Identity\": \"male\", \"Embeddings\": \"GloVe\", \"Group Accuracy\": 0.9309364944490103, \"Group\": \"Privileged\"}, {\"Identity\": \"male\", \"Embeddings\": \"ConceptNet\", \"Group Accuracy\": 0.9296549610664586, \"Group\": \"Privileged\"}, {\"Identity\": \"male\", \"Embeddings\": \"Keras Embeddings\", \"Group Accuracy\": 0.9249188594352895, \"Group\": \"Privileged\"}, {\"Identity\": \"male\", \"Embeddings\": \"Meta (FT+GV+CN)\", \"Group Accuracy\": 0.9307414784994915, \"Group\": \"Privileged\"}, {\"Identity\": \"female\", \"Embeddings\": \"FastText\", \"Group Accuracy\": 0.9303947631706829, \"Group\": \"Privileged\"}, {\"Identity\": \"female\", \"Embeddings\": \"GloVe\", \"Group Accuracy\": 0.9303232998885173, \"Group\": \"Privileged\"}, {\"Identity\": \"female\", \"Embeddings\": \"ConceptNet\", \"Group Accuracy\": 0.9287939856501729, \"Group\": \"Privileged\"}, {\"Identity\": \"female\", \"Embeddings\": \"Keras Embeddings\", \"Group Accuracy\": 0.9243060915301718, \"Group\": \"Privileged\"}, {\"Identity\": \"female\", \"Embeddings\": \"Meta (FT+GV+CN)\", \"Group Accuracy\": 0.9302518366063517, \"Group\": \"Privileged\"}, {\"Identity\": \"homosexual_gay_or_lesbian\", \"Embeddings\": \"FastText\", \"Group Accuracy\": 0.9311830698623151, \"Group\": \"Privileged\"}, {\"Identity\": \"homosexual_gay_or_lesbian\", \"Embeddings\": \"GloVe\", \"Group Accuracy\": 0.9309535951045385, \"Group\": \"Privileged\"}, {\"Identity\": \"homosexual_gay_or_lesbian\", \"Embeddings\": \"ConceptNet\", \"Group Accuracy\": 0.9294620091789904, \"Group\": \"Privileged\"}, {\"Identity\": \"homosexual_gay_or_lesbian\", \"Embeddings\": \"Keras Embeddings\", \"Group Accuracy\": 0.9248597654258032, \"Group\": \"Privileged\"}, {\"Identity\": \"homosexual_gay_or_lesbian\", \"Embeddings\": \"Meta (FT+GV+CN)\", \"Group Accuracy\": 0.9309153493115757, \"Group\": \"Privileged\"}, {\"Identity\": \"christian\", \"Embeddings\": \"FastText\", \"Group Accuracy\": 0.9273896046690893, \"Group\": \"Privileged\"}, {\"Identity\": \"christian\", \"Embeddings\": \"GloVe\", \"Group Accuracy\": 0.9272519546305473, \"Group\": \"Privileged\"}, {\"Identity\": \"christian\", \"Embeddings\": \"ConceptNet\", \"Group Accuracy\": 0.9261920493337739, \"Group\": \"Privileged\"}, {\"Identity\": \"christian\", \"Embeddings\": \"Keras Embeddings\", \"Group Accuracy\": 0.9209200528576148, \"Group\": \"Privileged\"}, {\"Identity\": \"christian\", \"Embeddings\": \"Meta (FT+GV+CN)\", \"Group Accuracy\": 0.9272106596189847, \"Group\": \"Privileged\"}, {\"Identity\": \"jewish\", \"Embeddings\": \"FastText\", \"Group Accuracy\": 0.9283052710025389, \"Group\": \"Privileged\"}, {\"Identity\": \"jewish\", \"Embeddings\": \"GloVe\", \"Group Accuracy\": 0.9282042213492655, \"Group\": \"Privileged\"}, {\"Identity\": \"jewish\", \"Embeddings\": \"ConceptNet\", \"Group Accuracy\": 0.9267390013768015, \"Group\": \"Privileged\"}, {\"Identity\": \"jewish\", \"Embeddings\": \"Keras Embeddings\", \"Group Accuracy\": 0.9218128307797244, \"Group\": \"Privileged\"}, {\"Identity\": \"jewish\", \"Embeddings\": \"Meta (FT+GV+CN)\", \"Group Accuracy\": 0.9280652780760146, \"Group\": \"Privileged\"}, {\"Identity\": \"muslim\", \"Embeddings\": \"FastText\", \"Group Accuracy\": 0.9327414652005073, \"Group\": \"Privileged\"}, {\"Identity\": \"muslim\", \"Embeddings\": \"GloVe\", \"Group Accuracy\": 0.932819916057583, \"Group\": \"Privileged\"}, {\"Identity\": \"muslim\", \"Embeddings\": \"ConceptNet\", \"Group Accuracy\": 0.9313947254873759, \"Group\": \"Privileged\"}, {\"Identity\": \"muslim\", \"Embeddings\": \"Keras Embeddings\", \"Group Accuracy\": 0.92690995149122, \"Group\": \"Privileged\"}, {\"Identity\": \"muslim\", \"Embeddings\": \"Meta (FT+GV+CN)\", \"Group Accuracy\": 0.9325191877721264, \"Group\": \"Privileged\"}, {\"Identity\": \"black\", \"Embeddings\": \"FastText\", \"Group Accuracy\": 0.9326558178426706, \"Group\": \"Privileged\"}, {\"Identity\": \"black\", \"Embeddings\": \"GloVe\", \"Group Accuracy\": 0.9325271756608992, \"Group\": \"Privileged\"}, {\"Identity\": \"black\", \"Embeddings\": \"ConceptNet\", \"Group Accuracy\": 0.9314851739885508, \"Group\": \"Privileged\"}, {\"Identity\": \"black\", \"Embeddings\": \"Keras Embeddings\", \"Group Accuracy\": 0.9265195857721747, \"Group\": \"Privileged\"}, {\"Identity\": \"black\", \"Embeddings\": \"Meta (FT+GV+CN)\", \"Group Accuracy\": 0.9322956197337107, \"Group\": \"Privileged\"}, {\"Identity\": \"white\", \"Embeddings\": \"FastText\", \"Group Accuracy\": 0.9348976548374751, \"Group\": \"Privileged\"}, {\"Identity\": \"white\", \"Embeddings\": \"GloVe\", \"Group Accuracy\": 0.9347788790202315, \"Group\": \"Privileged\"}, {\"Identity\": \"white\", \"Embeddings\": \"ConceptNet\", \"Group Accuracy\": 0.9332479907090916, \"Group\": \"Privileged\"}, {\"Identity\": \"white\", \"Embeddings\": \"Keras Embeddings\", \"Group Accuracy\": 0.929236007548863, \"Group\": \"Privileged\"}, {\"Identity\": \"white\", \"Embeddings\": \"Meta (FT+GV+CN)\", \"Group Accuracy\": 0.9344753408206089, \"Group\": \"Privileged\"}, {\"Identity\": \"psychiatric_or_mental_illness\", \"Embeddings\": \"FastText\", \"Group Accuracy\": 0.9282198729377495, \"Group\": \"Privileged\"}, {\"Identity\": \"psychiatric_or_mental_illness\", \"Embeddings\": \"GloVe\", \"Group Accuracy\": 0.9280315395625643, \"Group\": \"Privileged\"}, {\"Identity\": \"psychiatric_or_mental_illness\", \"Embeddings\": \"ConceptNet\", \"Group Accuracy\": 0.9265876503528112, \"Group\": \"Privileged\"}, {\"Identity\": \"psychiatric_or_mental_illness\", \"Embeddings\": \"Keras Embeddings\", \"Group Accuracy\": 0.9217537603897246, \"Group\": \"Privileged\"}, {\"Identity\": \"psychiatric_or_mental_illness\", \"Embeddings\": \"Meta (FT+GV+CN)\", \"Group Accuracy\": 0.9278180950706878, \"Group\": \"Privileged\"}]}}, {\"mode\": \"vega-lite\"});\n",
       "</script>"
      ],
      "text/plain": [
       "alt.FacetChart(...)"
      ]
     },
     "execution_count": 22,
     "metadata": {},
     "output_type": "execute_result"
    }
   ],
   "source": [
    "bars = alt.Chart().mark_bar(width=30).encode(\n",
    "    x=alt.X('Group:O', axis=alt.Axis(labels=False)),\n",
    "    y=alt.Y('mean('+'Group Accuracy'+'):Q',  title='Mean', scale=alt.Scale(domain=[0.8, 1.0])),\n",
    "    color=alt.Color('Group:N'),\n",
    ").interactive()\n",
    "\n",
    "error_bars = alt.Chart().mark_errorbar(extent='ci').encode(\n",
    "    x='Group:O',\n",
    "    y='Group Accuracy'+':Q'\n",
    ")\n",
    "\n",
    "alt.layer(bars, error_bars, data=report_bc).properties(\n",
    "    width=100\n",
    ").facet(\n",
    "    column='Embeddings:N',\n",
    ").configure_axis(\n",
    "    labelFontSize=14,\n",
    "    titleFontSize=14\n",
    ")"
   ]
  },
  {
   "cell_type": "markdown",
   "metadata": {},
   "source": [
    "### Disparate Impact"
   ]
  },
  {
   "cell_type": "code",
   "execution_count": 23,
   "metadata": {},
   "outputs": [
    {
     "data": {
      "text/html": [
       "\n",
       "<div id=\"altair-viz-5b58c2e6c60e44a18b310f644dd498b2\"></div>\n",
       "<script type=\"text/javascript\">\n",
       "  (function(spec, embedOpt){\n",
       "    let outputDiv = document.currentScript.previousElementSibling;\n",
       "    if (outputDiv.id !== \"altair-viz-5b58c2e6c60e44a18b310f644dd498b2\") {\n",
       "      outputDiv = document.getElementById(\"altair-viz-5b58c2e6c60e44a18b310f644dd498b2\");\n",
       "    }\n",
       "    const paths = {\n",
       "      \"vega\": \"https://cdn.jsdelivr.net/npm//vega@5?noext\",\n",
       "      \"vega-lib\": \"https://cdn.jsdelivr.net/npm//vega-lib?noext\",\n",
       "      \"vega-lite\": \"https://cdn.jsdelivr.net/npm//vega-lite@4.8.1?noext\",\n",
       "      \"vega-embed\": \"https://cdn.jsdelivr.net/npm//vega-embed@6?noext\",\n",
       "    };\n",
       "\n",
       "    function loadScript(lib) {\n",
       "      return new Promise(function(resolve, reject) {\n",
       "        var s = document.createElement('script');\n",
       "        s.src = paths[lib];\n",
       "        s.async = true;\n",
       "        s.onload = () => resolve(paths[lib]);\n",
       "        s.onerror = () => reject(`Error loading script: ${paths[lib]}`);\n",
       "        document.getElementsByTagName(\"head\")[0].appendChild(s);\n",
       "      });\n",
       "    }\n",
       "\n",
       "    function showError(err) {\n",
       "      outputDiv.innerHTML = `<div class=\"error\" style=\"color:red;\">${err}</div>`;\n",
       "      throw err;\n",
       "    }\n",
       "\n",
       "    function displayChart(vegaEmbed) {\n",
       "      vegaEmbed(outputDiv, spec, embedOpt)\n",
       "        .catch(err => showError(`Javascript Error: ${err.message}<br>This usually means there's a typo in your chart specification. See the javascript console for the full traceback.`));\n",
       "    }\n",
       "\n",
       "    if(typeof define === \"function\" && define.amd) {\n",
       "      requirejs.config({paths});\n",
       "      require([\"vega-embed\"], displayChart, err => showError(`Error loading script: ${err.message}`));\n",
       "    } else if (typeof vegaEmbed === \"function\") {\n",
       "      displayChart(vegaEmbed);\n",
       "    } else {\n",
       "      loadScript(\"vega\")\n",
       "        .then(() => loadScript(\"vega-lite\"))\n",
       "        .then(() => loadScript(\"vega-embed\"))\n",
       "        .catch(showError)\n",
       "        .then(() => displayChart(vegaEmbed));\n",
       "    }\n",
       "  })({\"config\": {\"view\": {\"continuousWidth\": 400, \"continuousHeight\": 300}, \"axis\": {\"labelFontSize\": 14, \"titleFontSize\": 14}}, \"data\": {\"name\": \"data-c0c549b1f96115f93d8a6da3338d21a7\"}, \"mark\": {\"type\": \"boxplot\", \"size\": 30}, \"encoding\": {\"color\": {\"type\": \"nominal\", \"field\": \"Embeddings\", \"legend\": null}, \"x\": {\"type\": \"ordinal\", \"axis\": {\"labels\": false}, \"field\": \"Embeddings\"}, \"y\": {\"type\": \"quantitative\", \"field\": \"Disparate Impact - Toxicity\", \"scale\": {\"domain\": [0.5, 5.0]}}}, \"height\": 350, \"title\": \"Disparate Impact on Toxicity\", \"width\": 350, \"$schema\": \"https://vega.github.io/schema/vega-lite/v4.8.1.json\", \"datasets\": {\"data-c0c549b1f96115f93d8a6da3338d21a7\": [{\"Identity\": \"male\", \"Embeddings\": \"FastText\", \"Disparate Impact - Toxicity\": 1.7079589667160042}, {\"Identity\": \"male\", \"Embeddings\": \"GloVe\", \"Disparate Impact - Toxicity\": 1.7522038463157008}, {\"Identity\": \"male\", \"Embeddings\": \"ConceptNet\", \"Disparate Impact - Toxicity\": 2.1161180262327575}, {\"Identity\": \"male\", \"Embeddings\": \"Keras Embeddings\", \"Disparate Impact - Toxicity\": 1.8040042170936714}, {\"Identity\": \"male\", \"Embeddings\": \"Meta (FT+GV+CN)\", \"Disparate Impact - Toxicity\": 1.8744778375944928}, {\"Identity\": \"female\", \"Embeddings\": \"FastText\", \"Disparate Impact - Toxicity\": 1.479925363183949}, {\"Identity\": \"female\", \"Embeddings\": \"GloVe\", \"Disparate Impact - Toxicity\": 1.5240082463426199}, {\"Identity\": \"female\", \"Embeddings\": \"ConceptNet\", \"Disparate Impact - Toxicity\": 1.8279456187228587}, {\"Identity\": \"female\", \"Embeddings\": \"Keras Embeddings\", \"Disparate Impact - Toxicity\": 1.5682504578404026}, {\"Identity\": \"female\", \"Embeddings\": \"Meta (FT+GV+CN)\", \"Disparate Impact - Toxicity\": 1.6181111651679927}, {\"Identity\": \"homosexual_gay_or_lesbian\", \"Embeddings\": \"FastText\", \"Disparate Impact - Toxicity\": 3.0701708987427403}, {\"Identity\": \"homosexual_gay_or_lesbian\", \"Embeddings\": \"GloVe\", \"Disparate Impact - Toxicity\": 3.148994285103273}, {\"Identity\": \"homosexual_gay_or_lesbian\", \"Embeddings\": \"ConceptNet\", \"Disparate Impact - Toxicity\": 3.773948535531461}, {\"Identity\": \"homosexual_gay_or_lesbian\", \"Embeddings\": \"Keras Embeddings\", \"Disparate Impact - Toxicity\": 3.234813030455538}, {\"Identity\": \"homosexual_gay_or_lesbian\", \"Embeddings\": \"Meta (FT+GV+CN)\", \"Disparate Impact - Toxicity\": 3.3481345060447447}, {\"Identity\": \"christian\", \"Embeddings\": \"FastText\", \"Disparate Impact - Toxicity\": 0.9741825848604172}, {\"Identity\": \"christian\", \"Embeddings\": \"GloVe\", \"Disparate Impact - Toxicity\": 1.0025649395178757}, {\"Identity\": \"christian\", \"Embeddings\": \"ConceptNet\", \"Disparate Impact - Toxicity\": 1.1993780465580328}, {\"Identity\": \"christian\", \"Embeddings\": \"Keras Embeddings\", \"Disparate Impact - Toxicity\": 1.0326507364672206}, {\"Identity\": \"christian\", \"Embeddings\": \"Meta (FT+GV+CN)\", \"Disparate Impact - Toxicity\": 1.0644366499627242}, {\"Identity\": \"jewish\", \"Embeddings\": \"FastText\", \"Disparate Impact - Toxicity\": 1.6752644641053327}, {\"Identity\": \"jewish\", \"Embeddings\": \"GloVe\", \"Disparate Impact - Toxicity\": 1.7250406196423318}, {\"Identity\": \"jewish\", \"Embeddings\": \"ConceptNet\", \"Disparate Impact - Toxicity\": 2.072477980402127}, {\"Identity\": \"jewish\", \"Embeddings\": \"Keras Embeddings\", \"Disparate Impact - Toxicity\": 1.770900101625268}, {\"Identity\": \"jewish\", \"Embeddings\": \"Meta (FT+GV+CN)\", \"Disparate Impact - Toxicity\": 1.8380225132610788}, {\"Identity\": \"muslim\", \"Embeddings\": \"FastText\", \"Disparate Impact - Toxicity\": 2.526284731957473}, {\"Identity\": \"muslim\", \"Embeddings\": \"GloVe\", \"Disparate Impact - Toxicity\": 2.5918541336422556}, {\"Identity\": \"muslim\", \"Embeddings\": \"ConceptNet\", \"Disparate Impact - Toxicity\": 3.118410731055383}, {\"Identity\": \"muslim\", \"Embeddings\": \"Keras Embeddings\", \"Disparate Impact - Toxicity\": 2.6779465001109455}, {\"Identity\": \"muslim\", \"Embeddings\": \"Meta (FT+GV+CN)\", \"Disparate Impact - Toxicity\": 2.7669022166606005}, {\"Identity\": \"black\", \"Embeddings\": \"FastText\", \"Disparate Impact - Toxicity\": 3.730487857549791}, {\"Identity\": \"black\", \"Embeddings\": \"GloVe\", \"Disparate Impact - Toxicity\": 3.827944568686612}, {\"Identity\": \"black\", \"Embeddings\": \"ConceptNet\", \"Disparate Impact - Toxicity\": 4.593669853801515}, {\"Identity\": \"black\", \"Embeddings\": \"Keras Embeddings\", \"Disparate Impact - Toxicity\": 3.9360290841333496}, {\"Identity\": \"black\", \"Embeddings\": \"Meta (FT+GV+CN)\", \"Disparate Impact - Toxicity\": 4.091521903735}, {\"Identity\": \"white\", \"Embeddings\": \"FastText\", \"Disparate Impact - Toxicity\": 3.2766173272035393}, {\"Identity\": \"white\", \"Embeddings\": \"GloVe\", \"Disparate Impact - Toxicity\": 3.3593939457002864}, {\"Identity\": \"white\", \"Embeddings\": \"ConceptNet\", \"Disparate Impact - Toxicity\": 4.013011736822479}, {\"Identity\": \"white\", \"Embeddings\": \"Keras Embeddings\", \"Disparate Impact - Toxicity\": 3.4459065855380535}, {\"Identity\": \"white\", \"Embeddings\": \"Meta (FT+GV+CN)\", \"Disparate Impact - Toxicity\": 3.5982214480584753}, {\"Identity\": \"psychiatric_or_mental_illness\", \"Embeddings\": \"FastText\", \"Disparate Impact - Toxicity\": 2.410698372935011}, {\"Identity\": \"psychiatric_or_mental_illness\", \"Embeddings\": \"GloVe\", \"Disparate Impact - Toxicity\": 2.4828217258957714}, {\"Identity\": \"psychiatric_or_mental_illness\", \"Embeddings\": \"ConceptNet\", \"Disparate Impact - Toxicity\": 2.9916469191040407}, {\"Identity\": \"psychiatric_or_mental_illness\", \"Embeddings\": \"Keras Embeddings\", \"Disparate Impact - Toxicity\": 2.546127071106339}, {\"Identity\": \"psychiatric_or_mental_illness\", \"Embeddings\": \"Meta (FT+GV+CN)\", \"Disparate Impact - Toxicity\": 2.6466076938338503}]}}, {\"mode\": \"vega-lite\"});\n",
       "</script>"
      ],
      "text/plain": [
       "alt.Chart(...)"
      ]
     },
     "metadata": {},
     "output_type": "display_data"
    },
    {
     "data": {
      "text/html": [
       "\n",
       "<div id=\"altair-viz-2c86f3845b7b4a33927e798a00a1e668\"></div>\n",
       "<script type=\"text/javascript\">\n",
       "  (function(spec, embedOpt){\n",
       "    let outputDiv = document.currentScript.previousElementSibling;\n",
       "    if (outputDiv.id !== \"altair-viz-2c86f3845b7b4a33927e798a00a1e668\") {\n",
       "      outputDiv = document.getElementById(\"altair-viz-2c86f3845b7b4a33927e798a00a1e668\");\n",
       "    }\n",
       "    const paths = {\n",
       "      \"vega\": \"https://cdn.jsdelivr.net/npm//vega@5?noext\",\n",
       "      \"vega-lib\": \"https://cdn.jsdelivr.net/npm//vega-lib?noext\",\n",
       "      \"vega-lite\": \"https://cdn.jsdelivr.net/npm//vega-lite@4.8.1?noext\",\n",
       "      \"vega-embed\": \"https://cdn.jsdelivr.net/npm//vega-embed@6?noext\",\n",
       "    };\n",
       "\n",
       "    function loadScript(lib) {\n",
       "      return new Promise(function(resolve, reject) {\n",
       "        var s = document.createElement('script');\n",
       "        s.src = paths[lib];\n",
       "        s.async = true;\n",
       "        s.onload = () => resolve(paths[lib]);\n",
       "        s.onerror = () => reject(`Error loading script: ${paths[lib]}`);\n",
       "        document.getElementsByTagName(\"head\")[0].appendChild(s);\n",
       "      });\n",
       "    }\n",
       "\n",
       "    function showError(err) {\n",
       "      outputDiv.innerHTML = `<div class=\"error\" style=\"color:red;\">${err}</div>`;\n",
       "      throw err;\n",
       "    }\n",
       "\n",
       "    function displayChart(vegaEmbed) {\n",
       "      vegaEmbed(outputDiv, spec, embedOpt)\n",
       "        .catch(err => showError(`Javascript Error: ${err.message}<br>This usually means there's a typo in your chart specification. See the javascript console for the full traceback.`));\n",
       "    }\n",
       "\n",
       "    if(typeof define === \"function\" && define.amd) {\n",
       "      requirejs.config({paths});\n",
       "      require([\"vega-embed\"], displayChart, err => showError(`Error loading script: ${err.message}`));\n",
       "    } else if (typeof vegaEmbed === \"function\") {\n",
       "      displayChart(vegaEmbed);\n",
       "    } else {\n",
       "      loadScript(\"vega\")\n",
       "        .then(() => loadScript(\"vega-lite\"))\n",
       "        .then(() => loadScript(\"vega-embed\"))\n",
       "        .catch(showError)\n",
       "        .then(() => displayChart(vegaEmbed));\n",
       "    }\n",
       "  })({\"config\": {\"view\": {\"continuousWidth\": 400, \"continuousHeight\": 300}, \"axis\": {\"labelFontSize\": 14, \"titleFontSize\": 14}}, \"data\": {\"name\": \"data-01e3c972416abd51078d65d6bb969ecb\"}, \"mark\": {\"type\": \"boxplot\", \"size\": 30}, \"encoding\": {\"color\": {\"type\": \"nominal\", \"field\": \"Embeddings\", \"legend\": null}, \"x\": {\"type\": \"ordinal\", \"axis\": {\"labels\": false}, \"field\": \"Embeddings\"}, \"y\": {\"type\": \"quantitative\", \"field\": \"Disparate Impact - Non Toxicity\", \"scale\": {\"domain\": [0.7, 1]}}}, \"height\": 350, \"title\": \"Disparate Impact on Non Toxicity\", \"width\": 350, \"$schema\": \"https://vega.github.io/schema/vega-lite/v4.8.1.json\", \"datasets\": {\"data-01e3c972416abd51078d65d6bb969ecb\": [{\"Identity\": \"male\", \"Embeddings\": \"FastText\", \"Disparate Impact - Non Toxicity\": 0.9286341754628382}, {\"Identity\": \"male\", \"Embeddings\": \"GloVe\", \"Disparate Impact - Non Toxicity\": 0.9262764067972192}, {\"Identity\": \"male\", \"Embeddings\": \"ConceptNet\", \"Disparate Impact - Non Toxicity\": 0.9109227584917797}, {\"Identity\": \"male\", \"Embeddings\": \"Keras Embeddings\", \"Disparate Impact - Non Toxicity\": 0.9236769275193929}, {\"Identity\": \"male\", \"Embeddings\": \"Meta (FT+GV+CN)\", \"Disparate Impact - Non Toxicity\": 0.9203920690710952}, {\"Identity\": \"female\", \"Embeddings\": \"FastText\", \"Disparate Impact - Non Toxicity\": 0.9505638743371811}, {\"Identity\": \"female\", \"Embeddings\": \"GloVe\", \"Disparate Impact - Non Toxicity\": 0.9477400178707671}, {\"Identity\": \"female\", \"Embeddings\": \"ConceptNet\", \"Disparate Impact - Non Toxicity\": 0.9322804081414446}, {\"Identity\": \"female\", \"Embeddings\": \"Keras Embeddings\", \"Disparate Impact - Non Toxicity\": 0.9450809980714119}, {\"Identity\": \"female\", \"Embeddings\": \"Meta (FT+GV+CN)\", \"Disparate Impact - Non Toxicity\": 0.9422748503978133}, {\"Identity\": \"homosexual_gay_or_lesbian\", \"Embeddings\": \"FastText\", \"Disparate Impact - Non Toxicity\": 0.7910623456770053}, {\"Identity\": \"homosexual_gay_or_lesbian\", \"Embeddings\": \"GloVe\", \"Disparate Impact - Non Toxicity\": 0.7890688805266902}, {\"Identity\": \"homosexual_gay_or_lesbian\", \"Embeddings\": \"ConceptNet\", \"Disparate Impact - Non Toxicity\": 0.7764485613327036}, {\"Identity\": \"homosexual_gay_or_lesbian\", \"Embeddings\": \"Keras Embeddings\", \"Disparate Impact - Non Toxicity\": 0.7870194940604754}, {\"Identity\": \"homosexual_gay_or_lesbian\", \"Embeddings\": \"Meta (FT+GV+CN)\", \"Disparate Impact - Non Toxicity\": 0.7844890608682592}, {\"Identity\": \"christian\", \"Embeddings\": \"FastText\", \"Disparate Impact - Non Toxicity\": 1.0028428271369432}, {\"Identity\": \"christian\", \"Embeddings\": \"GloVe\", \"Disparate Impact - Non Toxicity\": 0.999726415828776}, {\"Identity\": \"christian\", \"Embeddings\": \"ConceptNet\", \"Disparate Impact - Non Toxicity\": 0.9825292356238615}, {\"Identity\": \"christian\", \"Embeddings\": \"Keras Embeddings\", \"Disparate Impact - Non Toxicity\": 0.9966293134927233}, {\"Identity\": \"christian\", \"Embeddings\": \"Meta (FT+GV+CN)\", \"Disparate Impact - Non Toxicity\": 0.9935663829575618}, {\"Identity\": \"jewish\", \"Embeddings\": \"FastText\", \"Disparate Impact - Non Toxicity\": 0.9287622109319995}, {\"Identity\": \"jewish\", \"Embeddings\": \"GloVe\", \"Disparate Impact - Non Toxicity\": 0.9259435484698214}, {\"Identity\": \"jewish\", \"Embeddings\": \"ConceptNet\", \"Disparate Impact - Non Toxicity\": 0.9103552732430568}, {\"Identity\": \"jewish\", \"Embeddings\": \"Keras Embeddings\", \"Disparate Impact - Non Toxicity\": 0.923500832713396}, {\"Identity\": \"jewish\", \"Embeddings\": \"Meta (FT+GV+CN)\", \"Disparate Impact - Non Toxicity\": 0.9201662489615016}, {\"Identity\": \"muslim\", \"Embeddings\": \"FastText\", \"Disparate Impact - Non Toxicity\": 0.8472705413924956}, {\"Identity\": \"muslim\", \"Embeddings\": \"GloVe\", \"Disparate Impact - Non Toxicity\": 0.8451310921057656}, {\"Identity\": \"muslim\", \"Embeddings\": \"ConceptNet\", \"Disparate Impact - Non Toxicity\": 0.8314720462950366}, {\"Identity\": \"muslim\", \"Embeddings\": \"Keras Embeddings\", \"Disparate Impact - Non Toxicity\": 0.8424960256267608}, {\"Identity\": \"muslim\", \"Embeddings\": \"Meta (FT+GV+CN)\", \"Disparate Impact - Non Toxicity\": 0.839961173263156}, {\"Identity\": \"black\", \"Embeddings\": \"FastText\", \"Disparate Impact - Non Toxicity\": 0.733474590392227}, {\"Identity\": \"black\", \"Embeddings\": \"GloVe\", \"Disparate Impact - Non Toxicity\": 0.7316563486402193}, {\"Identity\": \"black\", \"Embeddings\": \"ConceptNet\", \"Disparate Impact - Non Toxicity\": 0.7202636879793444}, {\"Identity\": \"black\", \"Embeddings\": \"Keras Embeddings\", \"Disparate Impact - Non Toxicity\": 0.7297548212460601}, {\"Identity\": \"black\", \"Embeddings\": \"Meta (FT+GV+CN)\", \"Disparate Impact - Non Toxicity\": 0.7272110180417501}, {\"Identity\": \"white\", \"Embeddings\": \"FastText\", \"Disparate Impact - Non Toxicity\": 0.7851583989377673}, {\"Identity\": \"white\", \"Embeddings\": \"GloVe\", \"Disparate Impact - Non Toxicity\": 0.7833369219604045}, {\"Identity\": \"white\", \"Embeddings\": \"ConceptNet\", \"Disparate Impact - Non Toxicity\": 0.7717933840264072}, {\"Identity\": \"white\", \"Embeddings\": \"Keras Embeddings\", \"Disparate Impact - Non Toxicity\": 0.7815351119041414}, {\"Identity\": \"white\", \"Embeddings\": \"Meta (FT+GV+CN)\", \"Disparate Impact - Non Toxicity\": 0.7785913292761995}, {\"Identity\": \"psychiatric_or_mental_illness\", \"Embeddings\": \"FastText\", \"Disparate Impact - Non Toxicity\": 0.852507315051839}, {\"Identity\": \"psychiatric_or_mental_illness\", \"Embeddings\": \"GloVe\", \"Disparate Impact - Non Toxicity\": 0.8499259597716305}, {\"Identity\": \"psychiatric_or_mental_illness\", \"Embeddings\": \"ConceptNet\", \"Disparate Impact - Non Toxicity\": 0.8355431483389236}, {\"Identity\": \"psychiatric_or_mental_illness\", \"Embeddings\": \"Keras Embeddings\", \"Disparate Impact - Non Toxicity\": 0.8477925879412335}, {\"Identity\": \"psychiatric_or_mental_illness\", \"Embeddings\": \"Meta (FT+GV+CN)\", \"Disparate Impact - Non Toxicity\": 0.8446357461141669}]}}, {\"mode\": \"vega-lite\"});\n",
       "</script>"
      ],
      "text/plain": [
       "alt.Chart(...)"
      ]
     },
     "metadata": {},
     "output_type": "display_data"
    }
   ],
   "source": [
    "display(plot_on_emb(report_e1, 'Disparate Impact - Toxicity', [0.5, 5.0], 'Disparate Impact on Toxicity'))\n",
    "display(plot_on_emb(report_e0, 'Disparate Impact - Non Toxicity', [0.70, 1], 'Disparate Impact on Non Toxicity'))"
   ]
  },
  {
   "cell_type": "markdown",
   "metadata": {},
   "source": [
    "### False Positive Rate Difference"
   ]
  },
  {
   "cell_type": "code",
   "execution_count": 24,
   "metadata": {},
   "outputs": [
    {
     "data": {
      "text/html": [
       "\n",
       "<div id=\"altair-viz-ad1a5b2c917d4eda9c7b51d085baf161\"></div>\n",
       "<script type=\"text/javascript\">\n",
       "  (function(spec, embedOpt){\n",
       "    let outputDiv = document.currentScript.previousElementSibling;\n",
       "    if (outputDiv.id !== \"altair-viz-ad1a5b2c917d4eda9c7b51d085baf161\") {\n",
       "      outputDiv = document.getElementById(\"altair-viz-ad1a5b2c917d4eda9c7b51d085baf161\");\n",
       "    }\n",
       "    const paths = {\n",
       "      \"vega\": \"https://cdn.jsdelivr.net/npm//vega@5?noext\",\n",
       "      \"vega-lib\": \"https://cdn.jsdelivr.net/npm//vega-lib?noext\",\n",
       "      \"vega-lite\": \"https://cdn.jsdelivr.net/npm//vega-lite@4.8.1?noext\",\n",
       "      \"vega-embed\": \"https://cdn.jsdelivr.net/npm//vega-embed@6?noext\",\n",
       "    };\n",
       "\n",
       "    function loadScript(lib) {\n",
       "      return new Promise(function(resolve, reject) {\n",
       "        var s = document.createElement('script');\n",
       "        s.src = paths[lib];\n",
       "        s.async = true;\n",
       "        s.onload = () => resolve(paths[lib]);\n",
       "        s.onerror = () => reject(`Error loading script: ${paths[lib]}`);\n",
       "        document.getElementsByTagName(\"head\")[0].appendChild(s);\n",
       "      });\n",
       "    }\n",
       "\n",
       "    function showError(err) {\n",
       "      outputDiv.innerHTML = `<div class=\"error\" style=\"color:red;\">${err}</div>`;\n",
       "      throw err;\n",
       "    }\n",
       "\n",
       "    function displayChart(vegaEmbed) {\n",
       "      vegaEmbed(outputDiv, spec, embedOpt)\n",
       "        .catch(err => showError(`Javascript Error: ${err.message}<br>This usually means there's a typo in your chart specification. See the javascript console for the full traceback.`));\n",
       "    }\n",
       "\n",
       "    if(typeof define === \"function\" && define.amd) {\n",
       "      requirejs.config({paths});\n",
       "      require([\"vega-embed\"], displayChart, err => showError(`Error loading script: ${err.message}`));\n",
       "    } else if (typeof vegaEmbed === \"function\") {\n",
       "      displayChart(vegaEmbed);\n",
       "    } else {\n",
       "      loadScript(\"vega\")\n",
       "        .then(() => loadScript(\"vega-lite\"))\n",
       "        .then(() => loadScript(\"vega-embed\"))\n",
       "        .catch(showError)\n",
       "        .then(() => displayChart(vegaEmbed));\n",
       "    }\n",
       "  })({\"config\": {\"view\": {\"continuousWidth\": 400, \"continuousHeight\": 300}, \"axis\": {\"labelFontSize\": 14, \"titleFontSize\": 14}}, \"data\": {\"name\": \"data-78cfc7d31f9fc8007613a198bb47e75c\"}, \"mark\": {\"type\": \"boxplot\", \"size\": 30}, \"encoding\": {\"color\": {\"type\": \"nominal\", \"field\": \"Embeddings\", \"legend\": null}, \"x\": {\"type\": \"ordinal\", \"axis\": {\"labels\": false}, \"field\": \"Embeddings\"}, \"y\": {\"type\": \"quantitative\", \"field\": \"False Positive Rate Difference\", \"scale\": {\"domain\": [0, 0.18]}}}, \"height\": 350, \"title\": \"False Positive Rate Difference\", \"width\": 350, \"$schema\": \"https://vega.github.io/schema/vega-lite/v4.8.1.json\", \"datasets\": {\"data-78cfc7d31f9fc8007613a198bb47e75c\": [{\"Identity\": \"male\", \"Embeddings\": \"FastText\", \"False Positive Rate Difference\": 0.025580260858219496}, {\"Identity\": \"male\", \"Embeddings\": \"GloVe\", \"False Positive Rate Difference\": 0.026625790100379597}, {\"Identity\": \"male\", \"Embeddings\": \"ConceptNet\", \"False Positive Rate Difference\": 0.02938601559070282}, {\"Identity\": \"male\", \"Embeddings\": \"Keras Embeddings\", \"False Positive Rate Difference\": 0.027520535730005374}, {\"Identity\": \"male\", \"Embeddings\": \"Meta (FT+GV+CN)\", \"False Positive Rate Difference\": 0.02638921694391138}, {\"Identity\": \"female\", \"Embeddings\": \"FastText\", \"False Positive Rate Difference\": 0.017668066026993133}, {\"Identity\": \"female\", \"Embeddings\": \"GloVe\", \"False Positive Rate Difference\": 0.01786583653487439}, {\"Identity\": \"female\", \"Embeddings\": \"ConceptNet\", \"False Positive Rate Difference\": 0.02005408511348497}, {\"Identity\": \"female\", \"Embeddings\": \"Keras Embeddings\", \"False Positive Rate Difference\": 0.0185571875837688}, {\"Identity\": \"female\", \"Embeddings\": \"Meta (FT+GV+CN)\", \"False Positive Rate Difference\": 0.02015223469745793}, {\"Identity\": \"homosexual_gay_or_lesbian\", \"Embeddings\": \"FastText\", \"False Positive Rate Difference\": 0.11027684980966668}, {\"Identity\": \"homosexual_gay_or_lesbian\", \"Embeddings\": \"GloVe\", \"False Positive Rate Difference\": 0.1141495131567276}, {\"Identity\": \"homosexual_gay_or_lesbian\", \"Embeddings\": \"ConceptNet\", \"False Positive Rate Difference\": 0.12747581029607585}, {\"Identity\": \"homosexual_gay_or_lesbian\", \"Embeddings\": \"Keras Embeddings\", \"False Positive Rate Difference\": 0.12011929389706913}, {\"Identity\": \"homosexual_gay_or_lesbian\", \"Embeddings\": \"Meta (FT+GV+CN)\", \"False Positive Rate Difference\": 0.12440669872895112}, {\"Identity\": \"christian\", \"Embeddings\": \"FastText\", \"False Positive Rate Difference\": 0.00439005998413311}, {\"Identity\": \"christian\", \"Embeddings\": \"GloVe\", \"False Positive Rate Difference\": 0.003744507695689528}, {\"Identity\": \"christian\", \"Embeddings\": \"ConceptNet\", \"False Positive Rate Difference\": 0.005533126494758629}, {\"Identity\": \"christian\", \"Embeddings\": \"Keras Embeddings\", \"False Positive Rate Difference\": 0.0014951166693539242}, {\"Identity\": \"christian\", \"Embeddings\": \"Meta (FT+GV+CN)\", \"False Positive Rate Difference\": 0.005279739299141585}, {\"Identity\": \"jewish\", \"Embeddings\": \"FastText\", \"False Positive Rate Difference\": 0.03836991254037852}, {\"Identity\": \"jewish\", \"Embeddings\": \"GloVe\", \"False Positive Rate Difference\": 0.03769310931856872}, {\"Identity\": \"jewish\", \"Embeddings\": \"ConceptNet\", \"False Positive Rate Difference\": 0.04388579949391433}, {\"Identity\": \"jewish\", \"Embeddings\": \"Keras Embeddings\", \"False Positive Rate Difference\": 0.03522950080729301}, {\"Identity\": \"jewish\", \"Embeddings\": \"Meta (FT+GV+CN)\", \"False Positive Rate Difference\": 0.04126254119358258}, {\"Identity\": \"muslim\", \"Embeddings\": \"FastText\", \"False Positive Rate Difference\": 0.08351228825268839}, {\"Identity\": \"muslim\", \"Embeddings\": \"GloVe\", \"False Positive Rate Difference\": 0.08917791686547476}, {\"Identity\": \"muslim\", \"Embeddings\": \"ConceptNet\", \"False Positive Rate Difference\": 0.0956532836649455}, {\"Identity\": \"muslim\", \"Embeddings\": \"Keras Embeddings\", \"False Positive Rate Difference\": 0.09029114417027731}, {\"Identity\": \"muslim\", \"Embeddings\": \"Meta (FT+GV+CN)\", \"False Positive Rate Difference\": 0.08911363182285194}, {\"Identity\": \"black\", \"Embeddings\": \"FastText\", \"False Positive Rate Difference\": 0.13423108702018893}, {\"Identity\": \"black\", \"Embeddings\": \"GloVe\", \"False Positive Rate Difference\": 0.13918562250269417}, {\"Identity\": \"black\", \"Embeddings\": \"ConceptNet\", \"False Positive Rate Difference\": 0.1603256323577249}, {\"Identity\": \"black\", \"Embeddings\": \"Keras Embeddings\", \"False Positive Rate Difference\": 0.14575406537184687}, {\"Identity\": \"black\", \"Embeddings\": \"Meta (FT+GV+CN)\", \"False Positive Rate Difference\": 0.14047581035259243}, {\"Identity\": \"white\", \"Embeddings\": \"FastText\", \"False Positive Rate Difference\": 0.1030713102459741}, {\"Identity\": \"white\", \"Embeddings\": \"GloVe\", \"False Positive Rate Difference\": 0.1073878400820593}, {\"Identity\": \"white\", \"Embeddings\": \"ConceptNet\", \"False Positive Rate Difference\": 0.12077241106364636}, {\"Identity\": \"white\", \"Embeddings\": \"Keras Embeddings\", \"False Positive Rate Difference\": 0.11813871261048729}, {\"Identity\": \"white\", \"Embeddings\": \"Meta (FT+GV+CN)\", \"False Positive Rate Difference\": 0.1074962150609563}, {\"Identity\": \"psychiatric_or_mental_illness\", \"Embeddings\": \"FastText\", \"False Positive Rate Difference\": 0.05314911217672874}, {\"Identity\": \"psychiatric_or_mental_illness\", \"Embeddings\": \"GloVe\", \"False Positive Rate Difference\": 0.048275862068965524}, {\"Identity\": \"psychiatric_or_mental_illness\", \"Embeddings\": \"ConceptNet\", \"False Positive Rate Difference\": 0.05608150854478074}, {\"Identity\": \"psychiatric_or_mental_illness\", \"Embeddings\": \"Keras Embeddings\", \"False Positive Rate Difference\": 0.054425374555567084}, {\"Identity\": \"psychiatric_or_mental_illness\", \"Embeddings\": \"Meta (FT+GV+CN)\", \"False Positive Rate Difference\": 0.05093730187652292}]}}, {\"mode\": \"vega-lite\"});\n",
       "</script>"
      ],
      "text/plain": [
       "alt.Chart(...)"
      ]
     },
     "metadata": {},
     "output_type": "display_data"
    }
   ],
   "source": [
    "display(plot_on_emb(report_f, 'False Positive Rate Difference', [0, 0.18], 'False Positive Rate Difference'))"
   ]
  },
  {
   "cell_type": "markdown",
   "metadata": {},
   "source": [
    "- GloVe Embeddings has lower median False Positive Rates.\n",
    "- Fast Text Embeddings have the lowest IQR, i.e. it has lesser spread of False positive across all identities."
   ]
  },
  {
   "cell_type": "markdown",
   "metadata": {},
   "source": [
    "## E. FPR Detailed"
   ]
  },
  {
   "cell_type": "code",
   "execution_count": 25,
   "metadata": {},
   "outputs": [
    {
     "data": {
      "text/html": [
       "\n",
       "<div id=\"altair-viz-ca078db7090946d593090ac66f612514\"></div>\n",
       "<script type=\"text/javascript\">\n",
       "  (function(spec, embedOpt){\n",
       "    let outputDiv = document.currentScript.previousElementSibling;\n",
       "    if (outputDiv.id !== \"altair-viz-ca078db7090946d593090ac66f612514\") {\n",
       "      outputDiv = document.getElementById(\"altair-viz-ca078db7090946d593090ac66f612514\");\n",
       "    }\n",
       "    const paths = {\n",
       "      \"vega\": \"https://cdn.jsdelivr.net/npm//vega@5?noext\",\n",
       "      \"vega-lib\": \"https://cdn.jsdelivr.net/npm//vega-lib?noext\",\n",
       "      \"vega-lite\": \"https://cdn.jsdelivr.net/npm//vega-lite@4.8.1?noext\",\n",
       "      \"vega-embed\": \"https://cdn.jsdelivr.net/npm//vega-embed@6?noext\",\n",
       "    };\n",
       "\n",
       "    function loadScript(lib) {\n",
       "      return new Promise(function(resolve, reject) {\n",
       "        var s = document.createElement('script');\n",
       "        s.src = paths[lib];\n",
       "        s.async = true;\n",
       "        s.onload = () => resolve(paths[lib]);\n",
       "        s.onerror = () => reject(`Error loading script: ${paths[lib]}`);\n",
       "        document.getElementsByTagName(\"head\")[0].appendChild(s);\n",
       "      });\n",
       "    }\n",
       "\n",
       "    function showError(err) {\n",
       "      outputDiv.innerHTML = `<div class=\"error\" style=\"color:red;\">${err}</div>`;\n",
       "      throw err;\n",
       "    }\n",
       "\n",
       "    function displayChart(vegaEmbed) {\n",
       "      vegaEmbed(outputDiv, spec, embedOpt)\n",
       "        .catch(err => showError(`Javascript Error: ${err.message}<br>This usually means there's a typo in your chart specification. See the javascript console for the full traceback.`));\n",
       "    }\n",
       "\n",
       "    if(typeof define === \"function\" && define.amd) {\n",
       "      requirejs.config({paths});\n",
       "      require([\"vega-embed\"], displayChart, err => showError(`Error loading script: ${err.message}`));\n",
       "    } else if (typeof vegaEmbed === \"function\") {\n",
       "      displayChart(vegaEmbed);\n",
       "    } else {\n",
       "      loadScript(\"vega\")\n",
       "        .then(() => loadScript(\"vega-lite\"))\n",
       "        .then(() => loadScript(\"vega-embed\"))\n",
       "        .catch(showError)\n",
       "        .then(() => displayChart(vegaEmbed));\n",
       "    }\n",
       "  })({\"config\": {\"view\": {\"continuousWidth\": 400, \"continuousHeight\": 300}, \"axis\": {\"labelFontSize\": 14, \"titleFontSize\": 14}}, \"data\": {\"name\": \"data-78cfc7d31f9fc8007613a198bb47e75c\"}, \"mark\": \"bar\", \"encoding\": {\"color\": {\"type\": \"nominal\", \"field\": \"Embeddings\"}, \"column\": {\"type\": \"nominal\", \"field\": \"Identity\"}, \"x\": {\"type\": \"ordinal\", \"axis\": {\"labels\": false}, \"field\": \"Embeddings\"}, \"y\": {\"type\": \"quantitative\", \"field\": \"False Positive Rate Difference\"}}, \"$schema\": \"https://vega.github.io/schema/vega-lite/v4.8.1.json\", \"datasets\": {\"data-78cfc7d31f9fc8007613a198bb47e75c\": [{\"Identity\": \"male\", \"Embeddings\": \"FastText\", \"False Positive Rate Difference\": 0.025580260858219496}, {\"Identity\": \"male\", \"Embeddings\": \"GloVe\", \"False Positive Rate Difference\": 0.026625790100379597}, {\"Identity\": \"male\", \"Embeddings\": \"ConceptNet\", \"False Positive Rate Difference\": 0.02938601559070282}, {\"Identity\": \"male\", \"Embeddings\": \"Keras Embeddings\", \"False Positive Rate Difference\": 0.027520535730005374}, {\"Identity\": \"male\", \"Embeddings\": \"Meta (FT+GV+CN)\", \"False Positive Rate Difference\": 0.02638921694391138}, {\"Identity\": \"female\", \"Embeddings\": \"FastText\", \"False Positive Rate Difference\": 0.017668066026993133}, {\"Identity\": \"female\", \"Embeddings\": \"GloVe\", \"False Positive Rate Difference\": 0.01786583653487439}, {\"Identity\": \"female\", \"Embeddings\": \"ConceptNet\", \"False Positive Rate Difference\": 0.02005408511348497}, {\"Identity\": \"female\", \"Embeddings\": \"Keras Embeddings\", \"False Positive Rate Difference\": 0.0185571875837688}, {\"Identity\": \"female\", \"Embeddings\": \"Meta (FT+GV+CN)\", \"False Positive Rate Difference\": 0.02015223469745793}, {\"Identity\": \"homosexual_gay_or_lesbian\", \"Embeddings\": \"FastText\", \"False Positive Rate Difference\": 0.11027684980966668}, {\"Identity\": \"homosexual_gay_or_lesbian\", \"Embeddings\": \"GloVe\", \"False Positive Rate Difference\": 0.1141495131567276}, {\"Identity\": \"homosexual_gay_or_lesbian\", \"Embeddings\": \"ConceptNet\", \"False Positive Rate Difference\": 0.12747581029607585}, {\"Identity\": \"homosexual_gay_or_lesbian\", \"Embeddings\": \"Keras Embeddings\", \"False Positive Rate Difference\": 0.12011929389706913}, {\"Identity\": \"homosexual_gay_or_lesbian\", \"Embeddings\": \"Meta (FT+GV+CN)\", \"False Positive Rate Difference\": 0.12440669872895112}, {\"Identity\": \"christian\", \"Embeddings\": \"FastText\", \"False Positive Rate Difference\": 0.00439005998413311}, {\"Identity\": \"christian\", \"Embeddings\": \"GloVe\", \"False Positive Rate Difference\": 0.003744507695689528}, {\"Identity\": \"christian\", \"Embeddings\": \"ConceptNet\", \"False Positive Rate Difference\": 0.005533126494758629}, {\"Identity\": \"christian\", \"Embeddings\": \"Keras Embeddings\", \"False Positive Rate Difference\": 0.0014951166693539242}, {\"Identity\": \"christian\", \"Embeddings\": \"Meta (FT+GV+CN)\", \"False Positive Rate Difference\": 0.005279739299141585}, {\"Identity\": \"jewish\", \"Embeddings\": \"FastText\", \"False Positive Rate Difference\": 0.03836991254037852}, {\"Identity\": \"jewish\", \"Embeddings\": \"GloVe\", \"False Positive Rate Difference\": 0.03769310931856872}, {\"Identity\": \"jewish\", \"Embeddings\": \"ConceptNet\", \"False Positive Rate Difference\": 0.04388579949391433}, {\"Identity\": \"jewish\", \"Embeddings\": \"Keras Embeddings\", \"False Positive Rate Difference\": 0.03522950080729301}, {\"Identity\": \"jewish\", \"Embeddings\": \"Meta (FT+GV+CN)\", \"False Positive Rate Difference\": 0.04126254119358258}, {\"Identity\": \"muslim\", \"Embeddings\": \"FastText\", \"False Positive Rate Difference\": 0.08351228825268839}, {\"Identity\": \"muslim\", \"Embeddings\": \"GloVe\", \"False Positive Rate Difference\": 0.08917791686547476}, {\"Identity\": \"muslim\", \"Embeddings\": \"ConceptNet\", \"False Positive Rate Difference\": 0.0956532836649455}, {\"Identity\": \"muslim\", \"Embeddings\": \"Keras Embeddings\", \"False Positive Rate Difference\": 0.09029114417027731}, {\"Identity\": \"muslim\", \"Embeddings\": \"Meta (FT+GV+CN)\", \"False Positive Rate Difference\": 0.08911363182285194}, {\"Identity\": \"black\", \"Embeddings\": \"FastText\", \"False Positive Rate Difference\": 0.13423108702018893}, {\"Identity\": \"black\", \"Embeddings\": \"GloVe\", \"False Positive Rate Difference\": 0.13918562250269417}, {\"Identity\": \"black\", \"Embeddings\": \"ConceptNet\", \"False Positive Rate Difference\": 0.1603256323577249}, {\"Identity\": \"black\", \"Embeddings\": \"Keras Embeddings\", \"False Positive Rate Difference\": 0.14575406537184687}, {\"Identity\": \"black\", \"Embeddings\": \"Meta (FT+GV+CN)\", \"False Positive Rate Difference\": 0.14047581035259243}, {\"Identity\": \"white\", \"Embeddings\": \"FastText\", \"False Positive Rate Difference\": 0.1030713102459741}, {\"Identity\": \"white\", \"Embeddings\": \"GloVe\", \"False Positive Rate Difference\": 0.1073878400820593}, {\"Identity\": \"white\", \"Embeddings\": \"ConceptNet\", \"False Positive Rate Difference\": 0.12077241106364636}, {\"Identity\": \"white\", \"Embeddings\": \"Keras Embeddings\", \"False Positive Rate Difference\": 0.11813871261048729}, {\"Identity\": \"white\", \"Embeddings\": \"Meta (FT+GV+CN)\", \"False Positive Rate Difference\": 0.1074962150609563}, {\"Identity\": \"psychiatric_or_mental_illness\", \"Embeddings\": \"FastText\", \"False Positive Rate Difference\": 0.05314911217672874}, {\"Identity\": \"psychiatric_or_mental_illness\", \"Embeddings\": \"GloVe\", \"False Positive Rate Difference\": 0.048275862068965524}, {\"Identity\": \"psychiatric_or_mental_illness\", \"Embeddings\": \"ConceptNet\", \"False Positive Rate Difference\": 0.05608150854478074}, {\"Identity\": \"psychiatric_or_mental_illness\", \"Embeddings\": \"Keras Embeddings\", \"False Positive Rate Difference\": 0.054425374555567084}, {\"Identity\": \"psychiatric_or_mental_illness\", \"Embeddings\": \"Meta (FT+GV+CN)\", \"False Positive Rate Difference\": 0.05093730187652292}]}}, {\"mode\": \"vega-lite\"});\n",
       "</script>"
      ],
      "text/plain": [
       "alt.Chart(...)"
      ]
     },
     "execution_count": 25,
     "metadata": {},
     "output_type": "execute_result"
    }
   ],
   "source": [
    "# FPR detailed analysis\n",
    "alt.Chart(report_f).mark_bar().encode(\n",
    "    x=alt.X('Embeddings:O', axis=alt.Axis(labels=False)),#  alt.X('Horsepower', axis=alt.Axis(labels=False))\n",
    "    y='False Positive Rate Difference:Q',\n",
    "    color=alt.Color('Embeddings:N'),\n",
    "    column='Identity:N'\n",
    ").configure_axis(\n",
    "    labelFontSize=14,\n",
    "    titleFontSize=14\n",
    ")"
   ]
  },
  {
   "cell_type": "markdown",
   "metadata": {},
   "source": [
    "## F. Original Author's Bias Detection Scores"
   ]
  },
  {
   "cell_type": "code",
   "execution_count": 26,
   "metadata": {},
   "outputs": [
    {
     "data": {
      "text/html": [
       "<div>\n",
       "<style scoped>\n",
       "    .dataframe tbody tr th:only-of-type {\n",
       "        vertical-align: middle;\n",
       "    }\n",
       "\n",
       "    .dataframe tbody tr th {\n",
       "        vertical-align: top;\n",
       "    }\n",
       "\n",
       "    .dataframe thead th {\n",
       "        text-align: right;\n",
       "    }\n",
       "</style>\n",
       "<table border=\"1\" class=\"dataframe\">\n",
       "  <thead>\n",
       "    <tr style=\"text-align: right;\">\n",
       "      <th></th>\n",
       "      <th>subgroup</th>\n",
       "      <th>bnsp_auc</th>\n",
       "      <th>bpsn_auc</th>\n",
       "      <th>subgroup_auc</th>\n",
       "      <th>subgroup_size</th>\n",
       "    </tr>\n",
       "  </thead>\n",
       "  <tbody>\n",
       "    <tr>\n",
       "      <th>0</th>\n",
       "      <td>black</td>\n",
       "      <td>0.818785</td>\n",
       "      <td>0.973196</td>\n",
       "      <td>0.833273</td>\n",
       "      <td>1530</td>\n",
       "    </tr>\n",
       "    <tr>\n",
       "      <th>1</th>\n",
       "      <td>homosexual_gay_or_lesbian</td>\n",
       "      <td>0.827367</td>\n",
       "      <td>0.972482</td>\n",
       "      <td>0.842704</td>\n",
       "      <td>1022</td>\n",
       "    </tr>\n",
       "    <tr>\n",
       "      <th>2</th>\n",
       "      <td>white</td>\n",
       "      <td>0.840458</td>\n",
       "      <td>0.971736</td>\n",
       "      <td>0.844978</td>\n",
       "      <td>2561</td>\n",
       "    </tr>\n",
       "    <tr>\n",
       "      <th>3</th>\n",
       "      <td>muslim</td>\n",
       "      <td>0.859703</td>\n",
       "      <td>0.969727</td>\n",
       "      <td>0.859745</td>\n",
       "      <td>2523</td>\n",
       "    </tr>\n",
       "    <tr>\n",
       "      <th>4</th>\n",
       "      <td>psychiatric_or_mental_illness</td>\n",
       "      <td>0.886718</td>\n",
       "      <td>0.978235</td>\n",
       "      <td>0.909133</td>\n",
       "      <td>272</td>\n",
       "    </tr>\n",
       "    <tr>\n",
       "      <th>5</th>\n",
       "      <td>jewish</td>\n",
       "      <td>0.905592</td>\n",
       "      <td>0.967983</td>\n",
       "      <td>0.911325</td>\n",
       "      <td>773</td>\n",
       "    </tr>\n",
       "    <tr>\n",
       "      <th>6</th>\n",
       "      <td>male</td>\n",
       "      <td>0.928860</td>\n",
       "      <td>0.968446</td>\n",
       "      <td>0.922873</td>\n",
       "      <td>3792</td>\n",
       "    </tr>\n",
       "    <tr>\n",
       "      <th>7</th>\n",
       "      <td>female</td>\n",
       "      <td>0.929070</td>\n",
       "      <td>0.967260</td>\n",
       "      <td>0.923345</td>\n",
       "      <td>6047</td>\n",
       "    </tr>\n",
       "    <tr>\n",
       "      <th>8</th>\n",
       "      <td>christian</td>\n",
       "      <td>0.942399</td>\n",
       "      <td>0.957218</td>\n",
       "      <td>0.926088</td>\n",
       "      <td>3310</td>\n",
       "    </tr>\n",
       "  </tbody>\n",
       "</table>\n",
       "</div>"
      ],
      "text/plain": [
       "                        subgroup  bnsp_auc  bpsn_auc  subgroup_auc  \\\n",
       "0                          black  0.818785  0.973196      0.833273   \n",
       "1      homosexual_gay_or_lesbian  0.827367  0.972482      0.842704   \n",
       "2                          white  0.840458  0.971736      0.844978   \n",
       "3                         muslim  0.859703  0.969727      0.859745   \n",
       "4  psychiatric_or_mental_illness  0.886718  0.978235      0.909133   \n",
       "5                         jewish  0.905592  0.967983      0.911325   \n",
       "6                           male  0.928860  0.968446      0.922873   \n",
       "7                         female  0.929070  0.967260      0.923345   \n",
       "8                      christian  0.942399  0.957218      0.926088   \n",
       "\n",
       "   subgroup_size  \n",
       "0           1530  \n",
       "1           1022  \n",
       "2           2561  \n",
       "3           2523  \n",
       "4            272  \n",
       "5            773  \n",
       "6           3792  \n",
       "7           6047  \n",
       "8           3310  "
      ]
     },
     "metadata": {},
     "output_type": "display_data"
    }
   ],
   "source": [
    "# Import data\n",
    "auc = pd.read_excel('auc.xls')\n",
    "display(auc)"
   ]
  },
  {
   "cell_type": "markdown",
   "metadata": {},
   "source": [
    "### Subgroup AUC"
   ]
  },
  {
   "cell_type": "code",
   "execution_count": 27,
   "metadata": {},
   "outputs": [
    {
     "data": {
      "text/html": [
       "\n",
       "<div id=\"altair-viz-5c6543a59e414159a9017490b86f5529\"></div>\n",
       "<script type=\"text/javascript\">\n",
       "  (function(spec, embedOpt){\n",
       "    let outputDiv = document.currentScript.previousElementSibling;\n",
       "    if (outputDiv.id !== \"altair-viz-5c6543a59e414159a9017490b86f5529\") {\n",
       "      outputDiv = document.getElementById(\"altair-viz-5c6543a59e414159a9017490b86f5529\");\n",
       "    }\n",
       "    const paths = {\n",
       "      \"vega\": \"https://cdn.jsdelivr.net/npm//vega@5?noext\",\n",
       "      \"vega-lib\": \"https://cdn.jsdelivr.net/npm//vega-lib?noext\",\n",
       "      \"vega-lite\": \"https://cdn.jsdelivr.net/npm//vega-lite@4.8.1?noext\",\n",
       "      \"vega-embed\": \"https://cdn.jsdelivr.net/npm//vega-embed@6?noext\",\n",
       "    };\n",
       "\n",
       "    function loadScript(lib) {\n",
       "      return new Promise(function(resolve, reject) {\n",
       "        var s = document.createElement('script');\n",
       "        s.src = paths[lib];\n",
       "        s.async = true;\n",
       "        s.onload = () => resolve(paths[lib]);\n",
       "        s.onerror = () => reject(`Error loading script: ${paths[lib]}`);\n",
       "        document.getElementsByTagName(\"head\")[0].appendChild(s);\n",
       "      });\n",
       "    }\n",
       "\n",
       "    function showError(err) {\n",
       "      outputDiv.innerHTML = `<div class=\"error\" style=\"color:red;\">${err}</div>`;\n",
       "      throw err;\n",
       "    }\n",
       "\n",
       "    function displayChart(vegaEmbed) {\n",
       "      vegaEmbed(outputDiv, spec, embedOpt)\n",
       "        .catch(err => showError(`Javascript Error: ${err.message}<br>This usually means there's a typo in your chart specification. See the javascript console for the full traceback.`));\n",
       "    }\n",
       "\n",
       "    if(typeof define === \"function\" && define.amd) {\n",
       "      requirejs.config({paths});\n",
       "      require([\"vega-embed\"], displayChart, err => showError(`Error loading script: ${err.message}`));\n",
       "    } else if (typeof vegaEmbed === \"function\") {\n",
       "      displayChart(vegaEmbed);\n",
       "    } else {\n",
       "      loadScript(\"vega\")\n",
       "        .then(() => loadScript(\"vega-lite\"))\n",
       "        .then(() => loadScript(\"vega-embed\"))\n",
       "        .catch(showError)\n",
       "        .then(() => displayChart(vegaEmbed));\n",
       "    }\n",
       "  })({\"config\": {\"view\": {\"continuousWidth\": 400, \"continuousHeight\": 300}}, \"data\": {\"name\": \"data-11109ba6265a2c660ba89395b0b1d024\"}, \"mark\": {\"type\": \"bar\", \"size\": 25}, \"encoding\": {\"color\": {\"type\": \"nominal\", \"field\": \"subgroup\"}, \"x\": {\"type\": \"nominal\", \"axis\": {\"labels\": false}, \"field\": \"subgroup\"}, \"y\": {\"type\": \"quantitative\", \"field\": \"subgroup_auc\", \"scale\": {\"domain\": [0.8, 0.95]}}}, \"height\": 350, \"title\": \"Subgroup AUC\", \"width\": 350, \"$schema\": \"https://vega.github.io/schema/vega-lite/v4.8.1.json\", \"datasets\": {\"data-11109ba6265a2c660ba89395b0b1d024\": [{\"subgroup\": \"black\", \"bnsp_auc\": 0.818785, \"bpsn_auc\": 0.973196, \"subgroup_auc\": 0.8332729999999999, \"subgroup_size\": 1530}, {\"subgroup\": \"homosexual_gay_or_lesbian\", \"bnsp_auc\": 0.827367, \"bpsn_auc\": 0.972482, \"subgroup_auc\": 0.842704, \"subgroup_size\": 1022}, {\"subgroup\": \"white\", \"bnsp_auc\": 0.8404579999999999, \"bpsn_auc\": 0.9717359999999999, \"subgroup_auc\": 0.844978, \"subgroup_size\": 2561}, {\"subgroup\": \"muslim\", \"bnsp_auc\": 0.859703, \"bpsn_auc\": 0.969727, \"subgroup_auc\": 0.859745, \"subgroup_size\": 2523}, {\"subgroup\": \"psychiatric_or_mental_illness\", \"bnsp_auc\": 0.886718, \"bpsn_auc\": 0.978235, \"subgroup_auc\": 0.909133, \"subgroup_size\": 272}, {\"subgroup\": \"jewish\", \"bnsp_auc\": 0.905592, \"bpsn_auc\": 0.9679829999999999, \"subgroup_auc\": 0.9113249999999999, \"subgroup_size\": 773}, {\"subgroup\": \"male\", \"bnsp_auc\": 0.9288599999999999, \"bpsn_auc\": 0.9684459999999999, \"subgroup_auc\": 0.9228729999999999, \"subgroup_size\": 3792}, {\"subgroup\": \"female\", \"bnsp_auc\": 0.92907, \"bpsn_auc\": 0.96726, \"subgroup_auc\": 0.923345, \"subgroup_size\": 6047}, {\"subgroup\": \"christian\", \"bnsp_auc\": 0.942399, \"bpsn_auc\": 0.9572179999999999, \"subgroup_auc\": 0.9260879999999999, \"subgroup_size\": 3310}]}}, {\"mode\": \"vega-lite\"});\n",
       "</script>"
      ],
      "text/plain": [
       "alt.Chart(...)"
      ]
     },
     "execution_count": 27,
     "metadata": {},
     "output_type": "execute_result"
    }
   ],
   "source": [
    "alt.Chart(auc, title=\"Subgroup AUC\").mark_bar(size=25).encode(\n",
    "    x=alt.X('subgroup', axis=alt.Axis(labels=False)),\n",
    "    y=alt.Y('subgroup_auc',scale=alt.Scale(domain=[0.80, 0.95])),\n",
    "    color=alt.Color('subgroup:N'),\n",
    ").properties(\n",
    "    width=350,\n",
    "    height=350\n",
    ")\n"
   ]
  },
  {
   "cell_type": "markdown",
   "metadata": {},
   "source": [
    "### Subgroup BNSP AUC"
   ]
  },
  {
   "cell_type": "code",
   "execution_count": 28,
   "metadata": {},
   "outputs": [
    {
     "data": {
      "text/html": [
       "\n",
       "<div id=\"altair-viz-49ec5dcc3cfb49a2b633351fb0739fce\"></div>\n",
       "<script type=\"text/javascript\">\n",
       "  (function(spec, embedOpt){\n",
       "    let outputDiv = document.currentScript.previousElementSibling;\n",
       "    if (outputDiv.id !== \"altair-viz-49ec5dcc3cfb49a2b633351fb0739fce\") {\n",
       "      outputDiv = document.getElementById(\"altair-viz-49ec5dcc3cfb49a2b633351fb0739fce\");\n",
       "    }\n",
       "    const paths = {\n",
       "      \"vega\": \"https://cdn.jsdelivr.net/npm//vega@5?noext\",\n",
       "      \"vega-lib\": \"https://cdn.jsdelivr.net/npm//vega-lib?noext\",\n",
       "      \"vega-lite\": \"https://cdn.jsdelivr.net/npm//vega-lite@4.8.1?noext\",\n",
       "      \"vega-embed\": \"https://cdn.jsdelivr.net/npm//vega-embed@6?noext\",\n",
       "    };\n",
       "\n",
       "    function loadScript(lib) {\n",
       "      return new Promise(function(resolve, reject) {\n",
       "        var s = document.createElement('script');\n",
       "        s.src = paths[lib];\n",
       "        s.async = true;\n",
       "        s.onload = () => resolve(paths[lib]);\n",
       "        s.onerror = () => reject(`Error loading script: ${paths[lib]}`);\n",
       "        document.getElementsByTagName(\"head\")[0].appendChild(s);\n",
       "      });\n",
       "    }\n",
       "\n",
       "    function showError(err) {\n",
       "      outputDiv.innerHTML = `<div class=\"error\" style=\"color:red;\">${err}</div>`;\n",
       "      throw err;\n",
       "    }\n",
       "\n",
       "    function displayChart(vegaEmbed) {\n",
       "      vegaEmbed(outputDiv, spec, embedOpt)\n",
       "        .catch(err => showError(`Javascript Error: ${err.message}<br>This usually means there's a typo in your chart specification. See the javascript console for the full traceback.`));\n",
       "    }\n",
       "\n",
       "    if(typeof define === \"function\" && define.amd) {\n",
       "      requirejs.config({paths});\n",
       "      require([\"vega-embed\"], displayChart, err => showError(`Error loading script: ${err.message}`));\n",
       "    } else if (typeof vegaEmbed === \"function\") {\n",
       "      displayChart(vegaEmbed);\n",
       "    } else {\n",
       "      loadScript(\"vega\")\n",
       "        .then(() => loadScript(\"vega-lite\"))\n",
       "        .then(() => loadScript(\"vega-embed\"))\n",
       "        .catch(showError)\n",
       "        .then(() => displayChart(vegaEmbed));\n",
       "    }\n",
       "  })({\"config\": {\"view\": {\"continuousWidth\": 400, \"continuousHeight\": 300}}, \"data\": {\"name\": \"data-11109ba6265a2c660ba89395b0b1d024\"}, \"mark\": {\"type\": \"bar\", \"size\": 25}, \"encoding\": {\"color\": {\"type\": \"nominal\", \"field\": \"subgroup\"}, \"x\": {\"type\": \"nominal\", \"axis\": {\"labels\": false}, \"field\": \"subgroup\"}, \"y\": {\"type\": \"quantitative\", \"field\": \"bnsp_auc\", \"scale\": {\"domain\": [0.8, 0.95]}}}, \"height\": 350, \"title\": \"Subgroup BNSP AUC\", \"width\": 350, \"$schema\": \"https://vega.github.io/schema/vega-lite/v4.8.1.json\", \"datasets\": {\"data-11109ba6265a2c660ba89395b0b1d024\": [{\"subgroup\": \"black\", \"bnsp_auc\": 0.818785, \"bpsn_auc\": 0.973196, \"subgroup_auc\": 0.8332729999999999, \"subgroup_size\": 1530}, {\"subgroup\": \"homosexual_gay_or_lesbian\", \"bnsp_auc\": 0.827367, \"bpsn_auc\": 0.972482, \"subgroup_auc\": 0.842704, \"subgroup_size\": 1022}, {\"subgroup\": \"white\", \"bnsp_auc\": 0.8404579999999999, \"bpsn_auc\": 0.9717359999999999, \"subgroup_auc\": 0.844978, \"subgroup_size\": 2561}, {\"subgroup\": \"muslim\", \"bnsp_auc\": 0.859703, \"bpsn_auc\": 0.969727, \"subgroup_auc\": 0.859745, \"subgroup_size\": 2523}, {\"subgroup\": \"psychiatric_or_mental_illness\", \"bnsp_auc\": 0.886718, \"bpsn_auc\": 0.978235, \"subgroup_auc\": 0.909133, \"subgroup_size\": 272}, {\"subgroup\": \"jewish\", \"bnsp_auc\": 0.905592, \"bpsn_auc\": 0.9679829999999999, \"subgroup_auc\": 0.9113249999999999, \"subgroup_size\": 773}, {\"subgroup\": \"male\", \"bnsp_auc\": 0.9288599999999999, \"bpsn_auc\": 0.9684459999999999, \"subgroup_auc\": 0.9228729999999999, \"subgroup_size\": 3792}, {\"subgroup\": \"female\", \"bnsp_auc\": 0.92907, \"bpsn_auc\": 0.96726, \"subgroup_auc\": 0.923345, \"subgroup_size\": 6047}, {\"subgroup\": \"christian\", \"bnsp_auc\": 0.942399, \"bpsn_auc\": 0.9572179999999999, \"subgroup_auc\": 0.9260879999999999, \"subgroup_size\": 3310}]}}, {\"mode\": \"vega-lite\"});\n",
       "</script>"
      ],
      "text/plain": [
       "alt.Chart(...)"
      ]
     },
     "execution_count": 28,
     "metadata": {},
     "output_type": "execute_result"
    }
   ],
   "source": [
    "alt.Chart(auc, title=\"Subgroup BNSP AUC\").mark_bar(size=25).encode(\n",
    "    x=alt.X('subgroup', axis=alt.Axis(labels=False)),\n",
    "    y=alt.Y('bnsp_auc',scale=alt.Scale(domain=[0.80, 0.95])),\n",
    "    color=alt.Color('subgroup:N'),\n",
    ").properties(\n",
    "    width=350,\n",
    "    height=350\n",
    ")"
   ]
  },
  {
   "cell_type": "markdown",
   "metadata": {},
   "source": [
    "### Subgroup BPSN AUC"
   ]
  },
  {
   "cell_type": "code",
   "execution_count": 29,
   "metadata": {},
   "outputs": [
    {
     "data": {
      "text/html": [
       "\n",
       "<div id=\"altair-viz-255f4e22a8aa49218c45a974efe0d372\"></div>\n",
       "<script type=\"text/javascript\">\n",
       "  (function(spec, embedOpt){\n",
       "    let outputDiv = document.currentScript.previousElementSibling;\n",
       "    if (outputDiv.id !== \"altair-viz-255f4e22a8aa49218c45a974efe0d372\") {\n",
       "      outputDiv = document.getElementById(\"altair-viz-255f4e22a8aa49218c45a974efe0d372\");\n",
       "    }\n",
       "    const paths = {\n",
       "      \"vega\": \"https://cdn.jsdelivr.net/npm//vega@5?noext\",\n",
       "      \"vega-lib\": \"https://cdn.jsdelivr.net/npm//vega-lib?noext\",\n",
       "      \"vega-lite\": \"https://cdn.jsdelivr.net/npm//vega-lite@4.8.1?noext\",\n",
       "      \"vega-embed\": \"https://cdn.jsdelivr.net/npm//vega-embed@6?noext\",\n",
       "    };\n",
       "\n",
       "    function loadScript(lib) {\n",
       "      return new Promise(function(resolve, reject) {\n",
       "        var s = document.createElement('script');\n",
       "        s.src = paths[lib];\n",
       "        s.async = true;\n",
       "        s.onload = () => resolve(paths[lib]);\n",
       "        s.onerror = () => reject(`Error loading script: ${paths[lib]}`);\n",
       "        document.getElementsByTagName(\"head\")[0].appendChild(s);\n",
       "      });\n",
       "    }\n",
       "\n",
       "    function showError(err) {\n",
       "      outputDiv.innerHTML = `<div class=\"error\" style=\"color:red;\">${err}</div>`;\n",
       "      throw err;\n",
       "    }\n",
       "\n",
       "    function displayChart(vegaEmbed) {\n",
       "      vegaEmbed(outputDiv, spec, embedOpt)\n",
       "        .catch(err => showError(`Javascript Error: ${err.message}<br>This usually means there's a typo in your chart specification. See the javascript console for the full traceback.`));\n",
       "    }\n",
       "\n",
       "    if(typeof define === \"function\" && define.amd) {\n",
       "      requirejs.config({paths});\n",
       "      require([\"vega-embed\"], displayChart, err => showError(`Error loading script: ${err.message}`));\n",
       "    } else if (typeof vegaEmbed === \"function\") {\n",
       "      displayChart(vegaEmbed);\n",
       "    } else {\n",
       "      loadScript(\"vega\")\n",
       "        .then(() => loadScript(\"vega-lite\"))\n",
       "        .then(() => loadScript(\"vega-embed\"))\n",
       "        .catch(showError)\n",
       "        .then(() => displayChart(vegaEmbed));\n",
       "    }\n",
       "  })({\"config\": {\"view\": {\"continuousWidth\": 400, \"continuousHeight\": 300}}, \"data\": {\"name\": \"data-11109ba6265a2c660ba89395b0b1d024\"}, \"mark\": {\"type\": \"bar\", \"size\": 25}, \"encoding\": {\"color\": {\"type\": \"nominal\", \"field\": \"subgroup\"}, \"x\": {\"type\": \"nominal\", \"axis\": {\"labels\": false}, \"field\": \"subgroup\"}, \"y\": {\"type\": \"quantitative\", \"field\": \"bpsn_auc\", \"scale\": {\"domain\": [0.95, 0.98]}}}, \"height\": 350, \"title\": \"Subgroup BPSN AUC\", \"width\": 350, \"$schema\": \"https://vega.github.io/schema/vega-lite/v4.8.1.json\", \"datasets\": {\"data-11109ba6265a2c660ba89395b0b1d024\": [{\"subgroup\": \"black\", \"bnsp_auc\": 0.818785, \"bpsn_auc\": 0.973196, \"subgroup_auc\": 0.8332729999999999, \"subgroup_size\": 1530}, {\"subgroup\": \"homosexual_gay_or_lesbian\", \"bnsp_auc\": 0.827367, \"bpsn_auc\": 0.972482, \"subgroup_auc\": 0.842704, \"subgroup_size\": 1022}, {\"subgroup\": \"white\", \"bnsp_auc\": 0.8404579999999999, \"bpsn_auc\": 0.9717359999999999, \"subgroup_auc\": 0.844978, \"subgroup_size\": 2561}, {\"subgroup\": \"muslim\", \"bnsp_auc\": 0.859703, \"bpsn_auc\": 0.969727, \"subgroup_auc\": 0.859745, \"subgroup_size\": 2523}, {\"subgroup\": \"psychiatric_or_mental_illness\", \"bnsp_auc\": 0.886718, \"bpsn_auc\": 0.978235, \"subgroup_auc\": 0.909133, \"subgroup_size\": 272}, {\"subgroup\": \"jewish\", \"bnsp_auc\": 0.905592, \"bpsn_auc\": 0.9679829999999999, \"subgroup_auc\": 0.9113249999999999, \"subgroup_size\": 773}, {\"subgroup\": \"male\", \"bnsp_auc\": 0.9288599999999999, \"bpsn_auc\": 0.9684459999999999, \"subgroup_auc\": 0.9228729999999999, \"subgroup_size\": 3792}, {\"subgroup\": \"female\", \"bnsp_auc\": 0.92907, \"bpsn_auc\": 0.96726, \"subgroup_auc\": 0.923345, \"subgroup_size\": 6047}, {\"subgroup\": \"christian\", \"bnsp_auc\": 0.942399, \"bpsn_auc\": 0.9572179999999999, \"subgroup_auc\": 0.9260879999999999, \"subgroup_size\": 3310}]}}, {\"mode\": \"vega-lite\"});\n",
       "</script>"
      ],
      "text/plain": [
       "alt.Chart(...)"
      ]
     },
     "execution_count": 29,
     "metadata": {},
     "output_type": "execute_result"
    }
   ],
   "source": [
    "alt.Chart(auc, title=\"Subgroup BPSN AUC\").mark_bar(size=25).encode(\n",
    "    x=alt.X('subgroup', axis=alt.Axis(labels=False)),\n",
    "    y=alt.Y('bpsn_auc',scale=alt.Scale(domain=[0.95, 0.98])),\n",
    "    color=alt.Color('subgroup:N'),\n",
    ").properties(\n",
    "    width=350,\n",
    "    height=350\n",
    ")"
   ]
  },
  {
   "cell_type": "markdown",
   "metadata": {},
   "source": [
    "#### Insight:\n",
    "- Subgroup AUC and Subgroup BNSP AUC show same trends. And they are inversely correlated to the FPR difference.\n",
    "- Subgroup AUC and Subgroup BNSP AUC also show same trend as Disparate Impact - Non Toxicity.\n",
    "- Subgroup AUC BPSN shows almost similar trends to FPR difference.\n",
    "- Subgroup AUC and its variants are very effective measures for fairness.\n"
   ]
  },
  {
   "cell_type": "markdown",
   "metadata": {},
   "source": [
    "## Conclusion:\n",
    "- Blacks, homosexuals, muslims and whites are the identities with most unfair results. The word embedding and LSTM based classification techniques have all failed at being unbiased in predicting the results for these groups."
   ]
  },
  {
   "cell_type": "markdown",
   "metadata": {},
   "source": [
    "## G. Explaining the False Positive Misclassification of Blacks & Homosexuals\n",
    "Identifying the Common Tokens for all the False Positive Cases (across all 5 embeddings)"
   ]
  },
  {
   "cell_type": "code",
   "execution_count": 30,
   "metadata": {},
   "outputs": [],
   "source": [
    "# Indexing the false positives for blacks & homosexuals\n",
    "fp=defaultdict(int)\n",
    "fn=[]\n",
    "for i in range(len(y_preds)):\n",
    "    y_pred = y_preds[i]\n",
    "    for i in range(len(y_pred)):\n",
    "        if y_pred[i]==1 and y_val[i]==0:\n",
    "            if AUX_val['black'][i] == 1:    \n",
    "                fp[('black', i)]+=1\n",
    "            elif AUX_val['homosexual_gay_or_lesbian'][i]==1:\n",
    "                fp[('homosexual_gay_or_lesbian', i)]+=1\n",
    "                \n",
    "        elif y_pred[i]==0 and y_val[i]==1:\n",
    "            fn.append(i)"
   ]
  },
  {
   "cell_type": "code",
   "execution_count": 31,
   "metadata": {},
   "outputs": [],
   "source": [
    "# Getting tokens and count of these identities where misclassification occurred for all 5 cases\n",
    "WORDS_homosexuals = defaultdict(int)\n",
    "WORDS_blacks = defaultdict(int)\n",
    "COUNT_blacks_FP_all = 0\n",
    "COUNT_homosexuals_FP_all = 0\n",
    "\n",
    "for k, v in fp.items():\n",
    "    if v==5 and k[0]=='black':\n",
    "        COUNT_blacks_FP_all+=1\n",
    "        for w in AUX_val['comment_text'][k[1]]:\n",
    "            if w not in stopwords and len(w)>2:\n",
    "                WORDS_blacks[w]+=1\n",
    "    if v==5 and k[0]=='homosexual_gay_or_lesbian':\n",
    "        COUNT_homosexuals_FP_all+=1\n",
    "        for w in AUX_val['comment_text'][k[1]]:\n",
    "            if w not in stopwords and len(w)>2:\n",
    "                WORDS_homosexuals[w]+=1"
   ]
  },
  {
   "cell_type": "code",
   "execution_count": 32,
   "metadata": {},
   "outputs": [
    {
     "name": "stdout",
     "output_type": "stream",
     "text": [
      "Black False Positives for all 5 embeddings:  85\n",
      "Homosexuals False Positives for all 5 embeddings:  54\n"
     ]
    }
   ],
   "source": [
    "print('Black False Positives for all 5 embeddings: ', COUNT_blacks_FP_all)\n",
    "print('Homosexuals False Positives for all 5 embeddings: ', COUNT_homosexuals_FP_all)"
   ]
  },
  {
   "cell_type": "code",
   "execution_count": 33,
   "metadata": {},
   "outputs": [],
   "source": [
    "# Sorting words\n",
    "WORDS_homosexuals = list(WORDS_homosexuals.items())\n",
    "WORDS_homosexuals.sort(key=lambda x : x[1], reverse=True)\n",
    "WORDS_blacks = list(WORDS_blacks.items())\n",
    "WORDS_blacks.sort(key=lambda x : x[1], reverse=True)\n",
    "# dataframes\n",
    "WORDS_homosexuals_DF = pd.DataFrame(WORDS_homosexuals, columns=['Word', 'Count'])\n",
    "WORDS_blacks_DF = pd.DataFrame(WORDS_blacks, columns=['Word', 'Count'])"
   ]
  },
  {
   "cell_type": "markdown",
   "metadata": {},
   "source": [
    "### Top 20 FP misclassifying words for Blacks"
   ]
  },
  {
   "cell_type": "code",
   "execution_count": 34,
   "metadata": {},
   "outputs": [
    {
     "data": {
      "text/html": [
       "\n",
       "<div id=\"altair-viz-e34dbf948f064a60a1a0868636bc1584\"></div>\n",
       "<script type=\"text/javascript\">\n",
       "  (function(spec, embedOpt){\n",
       "    let outputDiv = document.currentScript.previousElementSibling;\n",
       "    if (outputDiv.id !== \"altair-viz-e34dbf948f064a60a1a0868636bc1584\") {\n",
       "      outputDiv = document.getElementById(\"altair-viz-e34dbf948f064a60a1a0868636bc1584\");\n",
       "    }\n",
       "    const paths = {\n",
       "      \"vega\": \"https://cdn.jsdelivr.net/npm//vega@5?noext\",\n",
       "      \"vega-lib\": \"https://cdn.jsdelivr.net/npm//vega-lib?noext\",\n",
       "      \"vega-lite\": \"https://cdn.jsdelivr.net/npm//vega-lite@4.8.1?noext\",\n",
       "      \"vega-embed\": \"https://cdn.jsdelivr.net/npm//vega-embed@6?noext\",\n",
       "    };\n",
       "\n",
       "    function loadScript(lib) {\n",
       "      return new Promise(function(resolve, reject) {\n",
       "        var s = document.createElement('script');\n",
       "        s.src = paths[lib];\n",
       "        s.async = true;\n",
       "        s.onload = () => resolve(paths[lib]);\n",
       "        s.onerror = () => reject(`Error loading script: ${paths[lib]}`);\n",
       "        document.getElementsByTagName(\"head\")[0].appendChild(s);\n",
       "      });\n",
       "    }\n",
       "\n",
       "    function showError(err) {\n",
       "      outputDiv.innerHTML = `<div class=\"error\" style=\"color:red;\">${err}</div>`;\n",
       "      throw err;\n",
       "    }\n",
       "\n",
       "    function displayChart(vegaEmbed) {\n",
       "      vegaEmbed(outputDiv, spec, embedOpt)\n",
       "        .catch(err => showError(`Javascript Error: ${err.message}<br>This usually means there's a typo in your chart specification. See the javascript console for the full traceback.`));\n",
       "    }\n",
       "\n",
       "    if(typeof define === \"function\" && define.amd) {\n",
       "      requirejs.config({paths});\n",
       "      require([\"vega-embed\"], displayChart, err => showError(`Error loading script: ${err.message}`));\n",
       "    } else if (typeof vegaEmbed === \"function\") {\n",
       "      displayChart(vegaEmbed);\n",
       "    } else {\n",
       "      loadScript(\"vega\")\n",
       "        .then(() => loadScript(\"vega-lite\"))\n",
       "        .then(() => loadScript(\"vega-embed\"))\n",
       "        .catch(showError)\n",
       "        .then(() => displayChart(vegaEmbed));\n",
       "    }\n",
       "  })({\"config\": {\"view\": {\"continuousWidth\": 400, \"continuousHeight\": 300}, \"axis\": {\"labelFontSize\": 14, \"titleFontSize\": 14}}, \"data\": {\"name\": \"data-4efff77b6695d70a8a9f5613725236ba\"}, \"mark\": \"circle\", \"encoding\": {\"color\": {\"type\": \"nominal\", \"field\": \"Word\", \"legend\": null}, \"size\": {\"type\": \"quantitative\", \"field\": \"Count\", \"legend\": null}, \"x\": {\"type\": \"nominal\", \"field\": \"Word\", \"scale\": {\"zero\": false}}, \"y\": {\"type\": \"quantitative\", \"field\": \"Count\", \"scale\": {\"padding\": 1, \"zero\": false}}}, \"height\": 200, \"title\": \"Top 20 False positive Misclassifying Words - Blacks\", \"width\": 400, \"$schema\": \"https://vega.github.io/schema/vega-lite/v4.8.1.json\", \"datasets\": {\"data-4efff77b6695d70a8a9f5613725236ba\": [{\"Word\": \"black\", \"Count\": 101}, {\"Word\": \"white\", \"Count\": 62}, {\"Word\": \"people\", \"Count\": 46}, {\"Word\": \"blacks\", \"Count\": 34}, {\"Word\": \"racist\", \"Count\": 28}, {\"Word\": \"one\", \"Count\": 26}, {\"Word\": \"trump\", \"Count\": 25}, {\"Word\": \"like\", \"Count\": 23}, {\"Word\": \"hate\", \"Count\": 18}, {\"Word\": \"even\", \"Count\": 17}, {\"Word\": \"lives\", \"Count\": 16}, {\"Word\": \"think\", \"Count\": 16}, {\"Word\": \"would\", \"Count\": 15}, {\"Word\": \"time\", \"Count\": 14}, {\"Word\": \"bad\", \"Count\": 13}, {\"Word\": \"get\", \"Count\": 13}, {\"Word\": \"muslims\", \"Count\": 13}, {\"Word\": \"whites\", \"Count\": 12}, {\"Word\": \"many\", \"Count\": 12}, {\"Word\": \"country\", \"Count\": 12}]}}, {\"mode\": \"vega-lite\"});\n",
       "</script>"
      ],
      "text/plain": [
       "alt.Chart(...)"
      ]
     },
     "execution_count": 34,
     "metadata": {},
     "output_type": "execute_result"
    }
   ],
   "source": [
    "# Plotting the top 20 words that cause misclassification for \n",
    "alt.Chart(WORDS_blacks_DF[:20], title='Top 20 False positive Misclassifying Words - Blacks').mark_circle().encode(\n",
    "    alt.X('Word', scale=alt.Scale(zero=False)),\n",
    "    alt.Y('Count', scale=alt.Scale(zero=False, padding=1)),\n",
    "    color=alt.Color('Word', legend=None),\n",
    "    size=alt.Size('Count', legend=None)\n",
    ").properties(\n",
    "    width=400,\n",
    "    height=200\n",
    ").configure_axis(\n",
    "    labelFontSize=14,\n",
    "    titleFontSize=14\n",
    ")\n"
   ]
  },
  {
   "cell_type": "markdown",
   "metadata": {},
   "source": [
    "- Words like black, white, people, trump, racist etc. cause FP misclassification of comments."
   ]
  },
  {
   "cell_type": "markdown",
   "metadata": {},
   "source": [
    "### Top 20 FP misclassifying words for Homosexuals"
   ]
  },
  {
   "cell_type": "code",
   "execution_count": 35,
   "metadata": {},
   "outputs": [
    {
     "data": {
      "text/html": [
       "\n",
       "<div id=\"altair-viz-8685f07b0b5640d5a2c7b97647b51ef7\"></div>\n",
       "<script type=\"text/javascript\">\n",
       "  (function(spec, embedOpt){\n",
       "    let outputDiv = document.currentScript.previousElementSibling;\n",
       "    if (outputDiv.id !== \"altair-viz-8685f07b0b5640d5a2c7b97647b51ef7\") {\n",
       "      outputDiv = document.getElementById(\"altair-viz-8685f07b0b5640d5a2c7b97647b51ef7\");\n",
       "    }\n",
       "    const paths = {\n",
       "      \"vega\": \"https://cdn.jsdelivr.net/npm//vega@5?noext\",\n",
       "      \"vega-lib\": \"https://cdn.jsdelivr.net/npm//vega-lib?noext\",\n",
       "      \"vega-lite\": \"https://cdn.jsdelivr.net/npm//vega-lite@4.8.1?noext\",\n",
       "      \"vega-embed\": \"https://cdn.jsdelivr.net/npm//vega-embed@6?noext\",\n",
       "    };\n",
       "\n",
       "    function loadScript(lib) {\n",
       "      return new Promise(function(resolve, reject) {\n",
       "        var s = document.createElement('script');\n",
       "        s.src = paths[lib];\n",
       "        s.async = true;\n",
       "        s.onload = () => resolve(paths[lib]);\n",
       "        s.onerror = () => reject(`Error loading script: ${paths[lib]}`);\n",
       "        document.getElementsByTagName(\"head\")[0].appendChild(s);\n",
       "      });\n",
       "    }\n",
       "\n",
       "    function showError(err) {\n",
       "      outputDiv.innerHTML = `<div class=\"error\" style=\"color:red;\">${err}</div>`;\n",
       "      throw err;\n",
       "    }\n",
       "\n",
       "    function displayChart(vegaEmbed) {\n",
       "      vegaEmbed(outputDiv, spec, embedOpt)\n",
       "        .catch(err => showError(`Javascript Error: ${err.message}<br>This usually means there's a typo in your chart specification. See the javascript console for the full traceback.`));\n",
       "    }\n",
       "\n",
       "    if(typeof define === \"function\" && define.amd) {\n",
       "      requirejs.config({paths});\n",
       "      require([\"vega-embed\"], displayChart, err => showError(`Error loading script: ${err.message}`));\n",
       "    } else if (typeof vegaEmbed === \"function\") {\n",
       "      displayChart(vegaEmbed);\n",
       "    } else {\n",
       "      loadScript(\"vega\")\n",
       "        .then(() => loadScript(\"vega-lite\"))\n",
       "        .then(() => loadScript(\"vega-embed\"))\n",
       "        .catch(showError)\n",
       "        .then(() => displayChart(vegaEmbed));\n",
       "    }\n",
       "  })({\"config\": {\"view\": {\"continuousWidth\": 400, \"continuousHeight\": 300}, \"axis\": {\"labelFontSize\": 14, \"titleFontSize\": 14}}, \"data\": {\"name\": \"data-241355a6ce07ef72089dd738d8834402\"}, \"mark\": \"circle\", \"encoding\": {\"color\": {\"type\": \"nominal\", \"field\": \"Word\", \"legend\": null}, \"size\": {\"type\": \"quantitative\", \"field\": \"Count\", \"legend\": null}, \"x\": {\"type\": \"nominal\", \"field\": \"Word\", \"scale\": {\"zero\": false}}, \"y\": {\"type\": \"quantitative\", \"field\": \"Count\", \"scale\": {\"padding\": 1, \"zero\": false}}}, \"height\": 200, \"title\": \"Top 20 False positive Misclassifying Words - Blacks\", \"width\": 400, \"$schema\": \"https://vega.github.io/schema/vega-lite/v4.8.1.json\", \"datasets\": {\"data-241355a6ce07ef72089dd738d8834402\": [{\"Word\": \"gay\", \"Count\": 44}, {\"Word\": \"people\", \"Count\": 28}, {\"Word\": \"gays\", \"Count\": 21}, {\"Word\": \"one\", \"Count\": 14}, {\"Word\": \"trump\", \"Count\": 11}, {\"Word\": \"would\", \"Count\": 10}, {\"Word\": \"sex\", \"Count\": 10}, {\"Word\": \"never\", \"Count\": 9}, {\"Word\": \"way\", \"Count\": 8}, {\"Word\": \"get\", \"Count\": 8}, {\"Word\": \"men\", \"Count\": 8}, {\"Word\": \"moral\", \"Count\": 7}, {\"Word\": \"like\", \"Count\": 7}, {\"Word\": \"religion\", \"Count\": 7}, {\"Word\": \"church\", \"Count\": 6}, {\"Word\": \"homophobia\", \"Count\": 6}, {\"Word\": \"even\", \"Count\": 6}, {\"Word\": \"social\", \"Count\": 6}, {\"Word\": \"transgender\", \"Count\": 6}, {\"Word\": \"man\", \"Count\": 6}]}}, {\"mode\": \"vega-lite\"});\n",
       "</script>"
      ],
      "text/plain": [
       "alt.Chart(...)"
      ]
     },
     "execution_count": 35,
     "metadata": {},
     "output_type": "execute_result"
    }
   ],
   "source": [
    "# Plotting the top 20 words that cause misclassification for \n",
    "alt.Chart(WORDS_homosexuals_DF[:20], title='Top 20 False positive Misclassifying Words - Blacks').mark_circle().encode(\n",
    "    alt.X('Word', scale=alt.Scale(zero=False)),\n",
    "    alt.Y('Count', scale=alt.Scale(zero=False, padding=1)),\n",
    "    color=alt.Color('Word', legend=None),\n",
    "    size=alt.Size('Count', legend=None)\n",
    ").properties(\n",
    "    width=400,\n",
    "    height=200\n",
    ").configure_axis(\n",
    "    labelFontSize=14,\n",
    "    titleFontSize=14\n",
    ")\n"
   ]
  },
  {
   "cell_type": "markdown",
   "metadata": {},
   "source": [
    "- Words like gay, people, one, trump, sex etc. cause FP misclassification of comments."
   ]
  },
  {
   "cell_type": "code",
   "execution_count": null,
   "metadata": {},
   "outputs": [],
   "source": []
  }
 ],
 "metadata": {
  "kernelspec": {
   "display_name": "Python 3",
   "language": "python",
   "name": "python3"
  },
  "language_info": {
   "codemirror_mode": {
    "name": "ipython",
    "version": 3
   },
   "file_extension": ".py",
   "mimetype": "text/x-python",
   "name": "python",
   "nbconvert_exporter": "python",
   "pygments_lexer": "ipython3",
   "version": "3.7.3"
  }
 },
 "nbformat": 4,
 "nbformat_minor": 2
}
